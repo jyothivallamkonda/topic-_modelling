{
 "cells": [
  {
   "cell_type": "code",
   "execution_count": 1,
   "id": "ed53ba43",
   "metadata": {},
   "outputs": [
    {
     "name": "stderr",
     "output_type": "stream",
     "text": [
      "[nltk_data] Downloading package stopwords to\n",
      "[nltk_data]     C:\\Users\\monis\\AppData\\Roaming\\nltk_data...\n",
      "[nltk_data]   Package stopwords is already up-to-date!\n"
     ]
    },
    {
     "data": {
      "text/plain": [
       "True"
      ]
     },
     "execution_count": 1,
     "metadata": {},
     "output_type": "execute_result"
    }
   ],
   "source": [
    "import nltk\n",
    "nltk.download('stopwords')"
   ]
  },
  {
   "cell_type": "code",
   "execution_count": 2,
   "id": "20b2f920",
   "metadata": {},
   "outputs": [
    {
     "name": "stdout",
     "output_type": "stream",
     "text": [
      "import nltk\n",
      "nltk.download('stopwords')\n",
      "%hist\n"
     ]
    }
   ],
   "source": [
    "%hist"
   ]
  },
  {
   "cell_type": "code",
   "execution_count": 3,
   "id": "d30b6af5",
   "metadata": {},
   "outputs": [],
   "source": [
    "import re\n",
    "import numpy as np\n",
    "import pandas as pd\n",
    "from pprint import pprint"
   ]
  },
  {
   "cell_type": "code",
   "execution_count": 4,
   "id": "c36679bc",
   "metadata": {},
   "outputs": [],
   "source": [
    "import spacy\n"
   ]
  },
  {
   "cell_type": "code",
   "execution_count": 5,
   "id": "fa9dfe4b",
   "metadata": {},
   "outputs": [],
   "source": [
    "import pyLDAvis"
   ]
  },
  {
   "cell_type": "code",
   "execution_count": 6,
   "id": "93ab74dd",
   "metadata": {},
   "outputs": [
    {
     "name": "stderr",
     "output_type": "stream",
     "text": [
      "C:\\Users\\monis\\anaconda3\\lib\\site-packages\\scipy\\sparse\\sparsetools.py:21: DeprecationWarning: `scipy.sparse.sparsetools` is deprecated!\n",
      "scipy.sparse.sparsetools is a private module for scipy.sparse, and should not be used.\n",
      "  _deprecated()\n"
     ]
    }
   ],
   "source": [
    "import gensim\n",
    "import gensim.corpora as corpora\n",
    "from gensim.utils import simple_preprocess\n",
    "from gensim.models import CoherenceModel"
   ]
  },
  {
   "cell_type": "code",
   "execution_count": 7,
   "id": "68b965e4",
   "metadata": {},
   "outputs": [],
   "source": [
    "import gensim"
   ]
  },
  {
   "cell_type": "code",
   "execution_count": 8,
   "id": "d83ceeea",
   "metadata": {},
   "outputs": [],
   "source": [
    "import gensim.corpora as corpora"
   ]
  },
  {
   "cell_type": "code",
   "execution_count": 9,
   "id": "e0150504",
   "metadata": {},
   "outputs": [],
   "source": [
    "from gensim.utils import simple_preprocess"
   ]
  },
  {
   "cell_type": "code",
   "execution_count": 10,
   "id": "9d1a243f",
   "metadata": {},
   "outputs": [],
   "source": [
    "from gensim.models import CoherenceModel"
   ]
  },
  {
   "cell_type": "code",
   "execution_count": 11,
   "id": "5aa7827b",
   "metadata": {},
   "outputs": [],
   "source": [
    "import pyLDAvis"
   ]
  },
  {
   "cell_type": "code",
   "execution_count": 12,
   "id": "fb31b5c1",
   "metadata": {},
   "outputs": [
    {
     "name": "stderr",
     "output_type": "stream",
     "text": [
      "C:\\Users\\monis\\anaconda3\\lib\\site-packages\\matplotlib\\__init__.py:152: DeprecationWarning: distutils Version classes are deprecated. Use packaging.version instead.\n",
      "  if LooseVersion(module.__version__) < minver:\n",
      "C:\\Users\\monis\\anaconda3\\lib\\site-packages\\setuptools\\_distutils\\version.py:351: DeprecationWarning: distutils Version classes are deprecated. Use packaging.version instead.\n",
      "  other = LooseVersion(other)\n",
      "C:\\Users\\monis\\anaconda3\\lib\\site-packages\\matplotlib\\__init__.py:152: DeprecationWarning: distutils Version classes are deprecated. Use packaging.version instead.\n",
      "  if LooseVersion(module.__version__) < minver:\n",
      "C:\\Users\\monis\\anaconda3\\lib\\site-packages\\setuptools\\_distutils\\version.py:351: DeprecationWarning: distutils Version classes are deprecated. Use packaging.version instead.\n",
      "  other = LooseVersion(other)\n",
      "C:\\Users\\monis\\anaconda3\\lib\\site-packages\\matplotlib\\__init__.py:152: DeprecationWarning: distutils Version classes are deprecated. Use packaging.version instead.\n",
      "  if LooseVersion(module.__version__) < minver:\n",
      "C:\\Users\\monis\\anaconda3\\lib\\site-packages\\setuptools\\_distutils\\version.py:351: DeprecationWarning: distutils Version classes are deprecated. Use packaging.version instead.\n",
      "  other = LooseVersion(other)\n",
      "C:\\Users\\monis\\anaconda3\\lib\\site-packages\\matplotlib\\__init__.py:152: DeprecationWarning: distutils Version classes are deprecated. Use packaging.version instead.\n",
      "  if LooseVersion(module.__version__) < minver:\n",
      "C:\\Users\\monis\\anaconda3\\lib\\site-packages\\setuptools\\_distutils\\version.py:351: DeprecationWarning: distutils Version classes are deprecated. Use packaging.version instead.\n",
      "  other = LooseVersion(other)\n",
      "C:\\Users\\monis\\anaconda3\\lib\\site-packages\\matplotlib\\__init__.py:152: DeprecationWarning: distutils Version classes are deprecated. Use packaging.version instead.\n",
      "  if LooseVersion(module.__version__) < minver:\n",
      "C:\\Users\\monis\\anaconda3\\lib\\site-packages\\setuptools\\_distutils\\version.py:351: DeprecationWarning: distutils Version classes are deprecated. Use packaging.version instead.\n",
      "  other = LooseVersion(other)\n"
     ]
    }
   ],
   "source": [
    "import matplotlib.pyplot as plt\n",
    "%matplotlib inline"
   ]
  },
  {
   "cell_type": "code",
   "execution_count": 13,
   "id": "79f29147",
   "metadata": {},
   "outputs": [],
   "source": [
    "import logging\n",
    "logging.basicConfig(format='%(asctime)s : %(levelname)s : %(message)s', level=logging.ERROR)"
   ]
  },
  {
   "cell_type": "code",
   "execution_count": 14,
   "id": "34d2cf5b",
   "metadata": {},
   "outputs": [
    {
     "name": "stdout",
     "output_type": "stream",
     "text": [
      "Requirement already satisfied: stopwords in c:\\users\\monis\\anaconda3\\lib\\site-packages (1.0.0)\n"
     ]
    }
   ],
   "source": [
    "!pip install stopwords"
   ]
  },
  {
   "cell_type": "code",
   "execution_count": 15,
   "id": "c6cf14ef",
   "metadata": {},
   "outputs": [],
   "source": [
    "from nltk.corpus import stopwords"
   ]
  },
  {
   "cell_type": "code",
   "execution_count": 16,
   "id": "0bdf5a17",
   "metadata": {},
   "outputs": [],
   "source": [
    "stop_words = stopwords.words('english')"
   ]
  },
  {
   "cell_type": "code",
   "execution_count": 17,
   "id": "59cdb892",
   "metadata": {},
   "outputs": [
    {
     "data": {
      "text/plain": [
       "['i',\n",
       " 'me',\n",
       " 'my',\n",
       " 'myself',\n",
       " 'we',\n",
       " 'our',\n",
       " 'ours',\n",
       " 'ourselves',\n",
       " 'you',\n",
       " \"you're\",\n",
       " \"you've\",\n",
       " \"you'll\",\n",
       " \"you'd\",\n",
       " 'your',\n",
       " 'yours',\n",
       " 'yourself',\n",
       " 'yourselves',\n",
       " 'he',\n",
       " 'him',\n",
       " 'his',\n",
       " 'himself',\n",
       " 'she',\n",
       " \"she's\",\n",
       " 'her',\n",
       " 'hers',\n",
       " 'herself',\n",
       " 'it',\n",
       " \"it's\",\n",
       " 'its',\n",
       " 'itself',\n",
       " 'they',\n",
       " 'them',\n",
       " 'their',\n",
       " 'theirs',\n",
       " 'themselves',\n",
       " 'what',\n",
       " 'which',\n",
       " 'who',\n",
       " 'whom',\n",
       " 'this',\n",
       " 'that',\n",
       " \"that'll\",\n",
       " 'these',\n",
       " 'those',\n",
       " 'am',\n",
       " 'is',\n",
       " 'are',\n",
       " 'was',\n",
       " 'were',\n",
       " 'be',\n",
       " 'been',\n",
       " 'being',\n",
       " 'have',\n",
       " 'has',\n",
       " 'had',\n",
       " 'having',\n",
       " 'do',\n",
       " 'does',\n",
       " 'did',\n",
       " 'doing',\n",
       " 'a',\n",
       " 'an',\n",
       " 'the',\n",
       " 'and',\n",
       " 'but',\n",
       " 'if',\n",
       " 'or',\n",
       " 'because',\n",
       " 'as',\n",
       " 'until',\n",
       " 'while',\n",
       " 'of',\n",
       " 'at',\n",
       " 'by',\n",
       " 'for',\n",
       " 'with',\n",
       " 'about',\n",
       " 'against',\n",
       " 'between',\n",
       " 'into',\n",
       " 'through',\n",
       " 'during',\n",
       " 'before',\n",
       " 'after',\n",
       " 'above',\n",
       " 'below',\n",
       " 'to',\n",
       " 'from',\n",
       " 'up',\n",
       " 'down',\n",
       " 'in',\n",
       " 'out',\n",
       " 'on',\n",
       " 'off',\n",
       " 'over',\n",
       " 'under',\n",
       " 'again',\n",
       " 'further',\n",
       " 'then',\n",
       " 'once',\n",
       " 'here',\n",
       " 'there',\n",
       " 'when',\n",
       " 'where',\n",
       " 'why',\n",
       " 'how',\n",
       " 'all',\n",
       " 'any',\n",
       " 'both',\n",
       " 'each',\n",
       " 'few',\n",
       " 'more',\n",
       " 'most',\n",
       " 'other',\n",
       " 'some',\n",
       " 'such',\n",
       " 'no',\n",
       " 'nor',\n",
       " 'not',\n",
       " 'only',\n",
       " 'own',\n",
       " 'same',\n",
       " 'so',\n",
       " 'than',\n",
       " 'too',\n",
       " 'very',\n",
       " 's',\n",
       " 't',\n",
       " 'can',\n",
       " 'will',\n",
       " 'just',\n",
       " 'don',\n",
       " \"don't\",\n",
       " 'should',\n",
       " \"should've\",\n",
       " 'now',\n",
       " 'd',\n",
       " 'll',\n",
       " 'm',\n",
       " 'o',\n",
       " 're',\n",
       " 've',\n",
       " 'y',\n",
       " 'ain',\n",
       " 'aren',\n",
       " \"aren't\",\n",
       " 'couldn',\n",
       " \"couldn't\",\n",
       " 'didn',\n",
       " \"didn't\",\n",
       " 'doesn',\n",
       " \"doesn't\",\n",
       " 'hadn',\n",
       " \"hadn't\",\n",
       " 'hasn',\n",
       " \"hasn't\",\n",
       " 'haven',\n",
       " \"haven't\",\n",
       " 'isn',\n",
       " \"isn't\",\n",
       " 'ma',\n",
       " 'mightn',\n",
       " \"mightn't\",\n",
       " 'mustn',\n",
       " \"mustn't\",\n",
       " 'needn',\n",
       " \"needn't\",\n",
       " 'shan',\n",
       " \"shan't\",\n",
       " 'shouldn',\n",
       " \"shouldn't\",\n",
       " 'wasn',\n",
       " \"wasn't\",\n",
       " 'weren',\n",
       " \"weren't\",\n",
       " 'won',\n",
       " \"won't\",\n",
       " 'wouldn',\n",
       " \"wouldn't\"]"
      ]
     },
     "execution_count": 17,
     "metadata": {},
     "output_type": "execute_result"
    }
   ],
   "source": [
    "stop_words"
   ]
  },
  {
   "cell_type": "code",
   "execution_count": 18,
   "id": "eda3a268",
   "metadata": {},
   "outputs": [],
   "source": [
    "from selenium import webdriver\n",
    "from bs4 import BeautifulSoup\n",
    "import time\n",
    "\n"
   ]
  },
  {
   "cell_type": "code",
   "execution_count": 19,
   "id": "726f981d",
   "metadata": {},
   "outputs": [],
   "source": [
    "import requests\n",
    "from bs4 import BeautifulSoup"
   ]
  },
  {
   "cell_type": "code",
   "execution_count": 20,
   "id": "74f7aa33",
   "metadata": {},
   "outputs": [],
   "source": [
    "URL1 = \"https://en.wikipedia.org/wiki/Remote_work#Effects_of_the_COVID-19_pandemic\""
   ]
  },
  {
   "cell_type": "code",
   "execution_count": 21,
   "id": "089bccf4",
   "metadata": {},
   "outputs": [],
   "source": [
    "URL2 = \"https://en.wikipedia.org/wiki/Wikipedia:Contents#Main_subject_classifications\""
   ]
  },
  {
   "cell_type": "code",
   "execution_count": 22,
   "id": "16002624",
   "metadata": {},
   "outputs": [],
   "source": [
    "page1 = requests.get(URL1)"
   ]
  },
  {
   "cell_type": "code",
   "execution_count": 23,
   "id": "a6531e7b",
   "metadata": {},
   "outputs": [],
   "source": [
    "page2 = requests.get(URL2)"
   ]
  },
  {
   "cell_type": "code",
   "execution_count": 24,
   "id": "93340a87",
   "metadata": {},
   "outputs": [
    {
     "data": {
      "text/plain": [
       "<Response [200]>"
      ]
     },
     "execution_count": 24,
     "metadata": {},
     "output_type": "execute_result"
    }
   ],
   "source": [
    "page1"
   ]
  },
  {
   "cell_type": "code",
   "execution_count": 25,
   "id": "8252f8fd",
   "metadata": {},
   "outputs": [
    {
     "data": {
      "text/plain": [
       "<Response [200]>"
      ]
     },
     "execution_count": 25,
     "metadata": {},
     "output_type": "execute_result"
    }
   ],
   "source": [
    "page2"
   ]
  },
  {
   "cell_type": "code",
   "execution_count": 30,
   "id": "e048751e",
   "metadata": {},
   "outputs": [],
   "source": [
    "soup = BeautifulSoup(page1.text, \"lxml\")"
   ]
  },
  {
   "cell_type": "code",
   "execution_count": 31,
   "id": "8a0215fb",
   "metadata": {},
   "outputs": [
    {
     "data": {
      "text/plain": [
       "[<p class=\"mw-empty-elt\">\n",
       " </p>,\n",
       " <p><b>Remote work</b>, also called <b>distance working</b>, <b>telework</b>, <b>teleworking</b>, <b>working from home</b> (<b>WFH</b>), <b>mobile work</b>, <b>remote job</b>, and <b>work from anywhere</b> (<b>WFA</b>)<sup class=\"reference\" id=\"cite_ref-usopm_def_1-0\"><a href=\"#cite_note-usopm_def-1\">[1]</a></sup> is an <a href=\"/wiki/Employment\" title=\"Employment\">employment</a> arrangement in which employees do not <a href=\"/wiki/Commuting\" title=\"Commuting\">commute</a> to a central place of work, such as an <a class=\"mw-redirect\" href=\"/wiki/Office_building\" title=\"Office building\">office building</a>, <a href=\"/wiki/Warehouse\" title=\"Warehouse\">warehouse</a>, or <a class=\"mw-redirect\" href=\"/wiki/Retail_store\" title=\"Retail store\">retail store</a>. It is facilitated by technology such as <a href=\"/wiki/Collaborative_software\" title=\"Collaborative software\">collaborative software</a>, <a href=\"/wiki/Virtual_private_network\" title=\"Virtual private network\">virtual private networks</a>, <a href=\"/wiki/Conference_call\" title=\"Conference call\">conference calling</a>, <a href=\"/wiki/Videotelephony\" title=\"Videotelephony\">videotelephony</a>, <a href=\"/wiki/Internet_access\" title=\"Internet access\">internet access</a>, <a href=\"/wiki/Cloud_computing\" title=\"Cloud computing\">cloud computing</a>, <a href=\"/wiki/Voice_over_IP\" title=\"Voice over IP\">voice over IP</a> (VoIP), <a class=\"mw-redirect\" href=\"/wiki/Mobile_telecommunication\" title=\"Mobile telecommunication\">mobile telecommunications</a> technology such as a <a href=\"/wiki/Wi-Fi\" title=\"Wi-Fi\">Wi-Fi</a>-equipped <a href=\"/wiki/Laptop\" title=\"Laptop\">laptop</a> or <a href=\"/wiki/Tablet_computer\" title=\"Tablet computer\">tablet computers</a>, <a href=\"/wiki/Smartphone\" title=\"Smartphone\">smartphones</a>, and <a href=\"/wiki/Desktop_computer\" title=\"Desktop computer\">desktop computers</a>. It can be efficient and useful for companies since it allows workers to communicate over long distances, saving significant amounts of travel time and cost. Common software used for remote work include <a href=\"/wiki/Zoom_(software)\" title=\"Zoom (software)\">Zoom</a>, <a href=\"/wiki/Cisco_Webex\" title=\"Cisco Webex\">Cisco Webex</a>, <a href=\"/wiki/Microsoft_Teams\" title=\"Microsoft Teams\">Microsoft Teams</a>, <a href=\"/wiki/Google_Meet\" title=\"Google Meet\">Google Meet</a>, <a href=\"/wiki/Slack_(software)\" title=\"Slack (software)\">Slack</a>, and <a href=\"/wiki/WhatsApp\" title=\"WhatsApp\">WhatsApp</a>.\n",
       " </p>,\n",
       " <p>In the early 1970s, technology was developed that linked satellite offices to downtown mainframes through <a class=\"mw-redirect\" href=\"/wiki/Dumb_terminal\" title=\"Dumb terminal\">dumb terminals</a> using telephone lines as a <a href=\"/wiki/Network_bridge\" title=\"Network bridge\">network bridge</a>. The terms \"telecommuting\" and \"telework\" were coined by Jack Nilles in 1973.<sup class=\"reference\" id=\"cite_ref-2\"><a href=\"#cite_note-2\">[2]</a></sup><sup class=\"reference\" id=\"cite_ref-3\"><a href=\"#cite_note-3\">[3]</a></sup> In 1979, five IBM employees were allowed to work from home as an experiment. By 1983, the experiment was expanded to 2,000 people. By the early 1980s, branch offices and home workers were able to connect to organizational mainframes using <a href=\"/wiki/Personal_computer\" title=\"Personal computer\">personal computers</a> and <a href=\"/wiki/Terminal_emulator\" title=\"Terminal emulator\">terminal emulators</a>. \n",
       " </p>,\n",
       " <p>In 1995, the motto that \"work is something you do, not something you travel to\" was coined.<sup class=\"reference\" id=\"cite_ref-4\"><a href=\"#cite_note-4\">[4]</a></sup> Variations of this motto include: \"Work is what we do, not where we are.\"<sup class=\"reference\" id=\"cite_ref-5\"><a href=\"#cite_note-5\">[5]</a></sup> During the <a href=\"/wiki/Information_Age\" title=\"Information Age\">Information Age</a>, many <a class=\"mw-redirect\" href=\"/wiki/Startups\" title=\"Startups\">startups</a> were founded in the houses of  entrepreneurs who lacked financial resources.\n",
       " </p>,\n",
       " <p>Since the 1980s, the normalization of remote work has been on a steady incline. For example, the number of Americans working from home grew by 4 million from 2003 to 2006,<sup class=\"reference\" id=\"cite_ref-6\"><a href=\"#cite_note-6\">[6]</a></sup> and by 1983 academics were beginning to experiment with online conferencing.<sup class=\"reference\" id=\"cite_ref-7\"><a href=\"#cite_note-7\">[7]</a></sup>\n",
       " </p>,\n",
       " <p>During the <a href=\"/wiki/COVID-19_pandemic\" title=\"COVID-19 pandemic\">COVID-19 pandemic</a>, millions of workers were forced to start remote working for the first time.<sup class=\"reference\" id=\"cite_ref-8\"><a href=\"#cite_note-8\">[8]</a></sup> Many students were forced to switch to <a href=\"/wiki/Distance_education\" title=\"Distance education\">distance education</a>.<sup class=\"reference\" id=\"cite_ref-9\"><a href=\"#cite_note-9\">[9]</a></sup> Many companies have mandated employees work from home either temporarily or permanently.<sup class=\"reference\" id=\"cite_ref-10\"><a href=\"#cite_note-10\">[10]</a></sup><sup class=\"reference\" id=\"cite_ref-11\"><a href=\"#cite_note-11\">[11]</a></sup><sup class=\"reference\" id=\"cite_ref-12\"><a href=\"#cite_note-12\">[12]</a></sup> Some companies paid for home office equipment.<sup class=\"reference\" id=\"cite_ref-13\"><a href=\"#cite_note-13\">[13]</a></sup>\n",
       " </p>,\n",
       " <p>According to a <a href=\"/wiki/Gallup_(company)\" title=\"Gallup (company)\">Gallup</a> poll in September 2021, 45% of full-time U.S. employees worked from home, including 25% who worked from home all of the time and 20% who worked from home part of the time.<sup class=\"reference\" id=\"cite_ref-14\"><a href=\"#cite_note-14\">[14]</a></sup>\n",
       " </p>,\n",
       " <p>In 2020, 12.3% of employed persons, including 13.2% of women and 11.5% of men, in the <a href=\"/wiki/European_Union\" title=\"European Union\">European Union</a> who were aged 15–64, usually worked from home. By country, the percentage of workers that worked from home was highest in <a href=\"/wiki/Finland\" title=\"Finland\">Finland</a> (25.1%), <a href=\"/wiki/Luxembourg\" title=\"Luxembourg\">Luxembourg</a> (23.1%), <a href=\"/wiki/Ireland\" title=\"Ireland\">Ireland</a> (21.5%), <a href=\"/wiki/Austria\" title=\"Austria\">Austria</a> (18.1%), and the <a href=\"/wiki/Netherlands\" title=\"Netherlands\">Netherlands</a> (17.8%) and lowest in <a href=\"/wiki/Bulgaria\" title=\"Bulgaria\">Bulgaria</a> (1.2%), <a href=\"/wiki/Romania\" title=\"Romania\">Romania</a> (2.5%), <a href=\"/wiki/Croatia\" title=\"Croatia\">Croatia</a> (3.1%), <a href=\"/wiki/Hungary\" title=\"Hungary\">Hungary</a> (3.6%), and <a href=\"/wiki/Latvia\" title=\"Latvia\">Latvia</a> (4.5%).<sup class=\"reference\" id=\"cite_ref-15\"><a href=\"#cite_note-15\">[15]</a></sup>\n",
       " </p>,\n",
       " <p>In 2021, in the US 91% of people who work from home said they would like to continue to work remotely in the future. In Gallup's September 2021 study, 54% of workers said they believed that their company's culture would be unchanged by remote work, while 12% believed it would improve and 33% predicted it would <a class=\"mw-redirect mw-disambig\" href=\"/wiki/Deteriorate\" title=\"Deteriorate\">deteriorate</a>. \n",
       " </p>,\n",
       " <p>The United States Government publishes a guide to telework for employees of the Federal government.<sup class=\"reference\" id=\"cite_ref-16\"><a href=\"#cite_note-16\">[16]</a></sup>\n",
       " </p>,\n",
       " <p>US federal law, most notably the Telework Enhancement Act of 2010, requires each Executive agency to establish a telecommuting policy allowing eligible employees to participate in telecommuting to the maximum extent possible, so long as the employee's performance is not diminished.<sup class=\"reference\" id=\"cite_ref-17\"><a href=\"#cite_note-17\">[17]</a></sup><sup class=\"reference\" id=\"cite_ref-18\"><a href=\"#cite_note-18\">[18]</a></sup><sup class=\"reference\" id=\"cite_ref-19\"><a href=\"#cite_note-19\">[19]</a></sup>\n",
       " </p>,\n",
       " <p>Telework is not an employee right, i.e., Federal law mandates that agencies must establish telework programs, but does not give individual employees a legal right to telework.<sup class=\"reference\" id=\"cite_ref-20\"><a href=\"#cite_note-20\">[20]</a></sup>\n",
       " </p>,\n",
       " <p>According to the <a href=\"/wiki/United_States_Office_of_Personnel_Management\" title=\"United States Office of Personnel Management\">United States Office of Personnel Management</a>, in fiscal 2020, 50% of all federal workers were eligible to work remotely and agencies saved more than $180 million because of telework in fiscal 2020.<sup class=\"reference\" id=\"cite_ref-21\"><a href=\"#cite_note-21\">[21]</a></sup>\n",
       " </p>,\n",
       " <p>Researchers from the <a href=\"/wiki/University_of_Washington\" title=\"University of Washington\">University of Washington</a> and the <a class=\"mw-redirect\" href=\"/wiki/University_of_Tennessee_Knoxville\" title=\"University of Tennessee Knoxville\">University of Tennessee Knoxville</a> proposed a tweeting frequency-based algorithm to measure <a href=\"/wiki/Work_engagement\" title=\"Work engagement\">work engagement</a> during the <a href=\"/wiki/COVID-19_pandemic\" title=\"COVID-19 pandemic\">COVID-19 pandemic</a>.<sup class=\"reference\" id=\"cite_ref-observational_22-0\"><a href=\"#cite_note-observational-22\">[22]</a></sup> They found people demonstrated the highest work engagements at 10:00-10:59 am, and the lowest at 11:00 am–12:00 pm when working from home.<sup class=\"reference\" id=\"cite_ref-observational_22-1\"><a href=\"#cite_note-observational-22\">[22]</a></sup>\n",
       " </p>,\n",
       " <p>Telecommuting has been adopted by many businesses, governments and not-for-profit organizations. Organizations may use telecommuting to reduce costs. Telecommuting employees do not require an office or <a href=\"/wiki/Cubicle\" title=\"Cubicle\">cubicle</a>, a space which needs to be rented or purchased, and incurs additional costs such as lighting and climate control. Some organizations adopt telecommuting to improve workers' quality of life, as teleworking typically reduces commuting time and time stuck in <a href=\"/wiki/Traffic_congestion\" title=\"Traffic congestion\">traffic congestion</a>. Teleworking may make it easier for workers to balance their work responsibilities with their personal life and family roles (e.g., caring for children or elderly parents). Some organizations adopt teleworking for environmental reasons, as telework can reduce <a href=\"/wiki/Traffic_congestion\" title=\"Traffic congestion\">traffic congestion</a> and <a href=\"/wiki/Air_pollution\" title=\"Air pollution\">air pollution</a>, with fewer cars on the roads.<sup class=\"reference\" id=\"cite_ref-23\"><a href=\"#cite_note-23\">[23]</a></sup>\n",
       " </p>,\n",
       " <p>The technology to communicate is not advanced enough to replicate face-to-face office interactions. Room for mistakes and miscommunication can increase. According to <a href=\"/wiki/Media_richness_theory\" title=\"Media richness theory\">media richness theory</a>, face-to-face interactions provide the capacity to process rich information: ambiguous issues can be clarified, immediate feedback can be provided, and there is personalized communication (e.g. body language, tone of voice).<sup class=\"reference\" id=\"cite_ref-Daft,_R._L._1986_24-0\"><a href=\"#cite_note-Daft,_R._L._1986-24\">[24]</a></sup> Telecommuting requires the use of various types of media to communicate, such as the telephone and email. Emails have a time lag that does not allow for immediate feedback; telephone conversations make it harder to decipher the emotions of the person or team on the phone; and both of these forms of communication do not allow one to see the other person.<sup class=\"reference\" id=\"cite_ref-25\"><a href=\"#cite_note-25\">[25]</a></sup> Typical organization communication patterns are thus altered in telecommuting. For instance, teams using <a href=\"/wiki/Computer-mediated_communication\" title=\"Computer-mediated communication\">computer-mediated communication</a> with computer conferencing take longer to make group decisions than face-to-face groups.<sup class=\"reference\" id=\"cite_ref-26\"><a href=\"#cite_note-26\">[26]</a></sup>\n",
       " </p>,\n",
       " <p>Workers tend to be satisfied with face-to-face interactions, phone conversations, and in-person departmental meetings to receive communications, but email and the Internet do not add to their communication satisfaction.<sup class=\"reference\" id=\"cite_ref-27\"><a href=\"#cite_note-27\">[27]</a></sup> This suggests that teleworking may not have the components for \"rich communication\" compared to face-to-face interactions, although one study found that virtual workers in a team were more satisfied with their technology-mediated communication than their in-person office communication.<sup class=\"reference\" id=\"cite_ref-Akkirman_28-0\"><a href=\"#cite_note-Akkirman-28\">[28]</a></sup>\n",
       " </p>,\n",
       " <p>According to <a href=\"/wiki/Job_characteristic_theory\" title=\"Job characteristic theory\">job characteristic theory</a>, changes in autonomy and feedback, which are affected by remote work status, influence work behaviors and attitudes more than a change in skill variety, task identity, or task significance.<sup class=\"reference\" id=\"cite_ref-Oldham_2005_29-0\"><a href=\"#cite_note-Oldham_2005-29\">[29]</a></sup> If five characteristics of a job are present (skill variety, task identity, task significance, autonomy, and feedback), then the employee in that job will experience more internal work motivation, satisfaction with personal growth opportunities, general job satisfaction, higher job performance, and lower absenteeism and turnover.<sup class=\"reference\" id=\"cite_ref-Oldham_2005_29-1\"><a href=\"#cite_note-Oldham_2005-29\">[29]</a></sup><sup class=\"reference\" id=\"cite_ref-Hackman1971_30-0\"><a href=\"#cite_note-Hackman1971-30\">[30]</a></sup> Many studies have provided evidence that job characteristics influence employees' behaviors and attitudes.<sup class=\"reference\" id=\"cite_ref-Fried_31-0\"><a href=\"#cite_note-Fried-31\">[31]</a></sup> Additionally, job characteristics can interact with individual differences to impact employee attitudes and behavior.<sup class=\"reference\" id=\"cite_ref-Hackman1971_30-1\"><a href=\"#cite_note-Hackman1971-30\">[30]</a></sup><sup class=\"reference\" id=\"cite_ref-Hackman1976_32-0\"><a href=\"#cite_note-Hackman1976-32\">[32]</a></sup> Of these five job characteristics, telework specifically changes autonomy and feedback compared to face-to-face work and can thus influence employees' behaviors and attitudes.\n",
       " </p>,\n",
       " <p>Autonomy influences experienced responsibility such that if the job provides freedom, independence, and scheduling flexibility, the individual should feel responsible for his or her work outcomes. Telework provides flexibility in scheduling and freedom because being outside the office gives the worker more choices. Teleworkers do not have to stick to office routines and can shift work to different times of day.<sup class=\"reference\" id=\"cite_ref-Sardes_33-0\"><a href=\"#cite_note-Sardes-33\">[33]</a></sup> Telework allows employees the freedom to choose where they work, when they work and even what they wear to work to allow their best work.<sup class=\"reference\" id=\"cite_ref-Gaj_34-0\"><a href=\"#cite_note-Gaj-34\">[34]</a></sup> Teleworkers may experience more responsibility to the extent that they feel in control and accountable for their work.<sup class=\"reference\" id=\"cite_ref-Hackman1976_32-1\"><a href=\"#cite_note-Hackman1976-32\">[32]</a></sup>\n",
       " The autonomy of telework allows for lower work-family conflict.<sup class=\"reference\" id=\"cite_ref-Rau_35-0\"><a href=\"#cite_note-Rau-35\">[35]</a></sup> Teleworking provides the freedom to arrange work to avoid family conflicts. Increased control over life demands<sup class=\"reference\" id=\"cite_ref-Golden_2006_36-0\"><a href=\"#cite_note-Golden_2006-36\">[36]</a></sup> is one of its main attractions. The level of autonomy in telework felt by the employee depends on a variety of factors, including scheduling flexibility and the household size.<sup class=\"reference\" id=\"cite_ref-Golden_2006_36-1\"><a href=\"#cite_note-Golden_2006-36\">[36]</a></sup> In addition to reducing work-family conflict, conflicts with activities are also reduced. Increased freedom and fewer time restrictions  allow workers to participate more in recreational activities, whether social or physical.<sup class=\"reference\" id=\"cite_ref-Gaj_34-1\"><a href=\"#cite_note-Gaj-34\">[34]</a></sup> However, studies also show that autonomy must be balanced with high levels of discipline if a healthy work/leisure balance is to be maintained.<sup class=\"reference\" id=\"cite_ref-37\"><a href=\"#cite_note-37\">[37]</a></sup>\n",
       " </p>,\n",
       " <p>Feedback increases employees' knowledge of results. Feedback refers to the degree that an individual receives direct and clear information about his or her performance related to work activities.<sup class=\"reference\" id=\"cite_ref-Hackman1971_30-2\"><a href=\"#cite_note-Hackman1971-30\">[30]</a></sup> Feedback is particularly important so that the employees continuously learn about how they are performing.<sup class=\"reference\" id=\"cite_ref-Hackman1976_32-2\"><a href=\"#cite_note-Hackman1976-32\">[32]</a></sup> Electronic communication provides fewer cues for teleworkers and thus, they may have more difficulties interpreting and gaining information, and subsequently, receiving feedback.<sup class=\"reference\" id=\"cite_ref-Sardes_33-1\"><a href=\"#cite_note-Sardes-33\">[33]</a></sup> When a worker is not in the office, there is limited information and greater ambiguity, such as in assignments and expectations.<sup class=\"reference\" id=\"cite_ref-Golden11_38-0\"><a href=\"#cite_note-Golden11-38\">[38]</a></sup> Role ambiguity, when situations have unclear expectations as to what the worker is to do,<sup class=\"reference\" id=\"cite_ref-Sonnetag_39-0\"><a href=\"#cite_note-Sonnetag-39\">[39]</a></sup> may result in greater conflict, frustration, and exhaustion.<sup class=\"reference\" id=\"cite_ref-Sardes_33-2\"><a href=\"#cite_note-Sardes-33\">[33]</a></sup>\n",
       " </p>,\n",
       " <p>In other studies regarding Job Characteristics Theory, job feedback seemed to have the strongest relationship with overall job satisfaction compared to other job characteristics.<sup class=\"reference\" id=\"cite_ref-Fried_31-1\"><a href=\"#cite_note-Fried-31\">[31]</a></sup> While teleworking, communication is not as immediate or rich as face-to-face interactions.<sup class=\"reference\" id=\"cite_ref-Daft,_R._L._1986_24-1\"><a href=\"#cite_note-Daft,_R._L._1986-24\">[24]</a></sup> Less feedback when teleworking is associated with lower job engagement.<sup class=\"reference\" id=\"cite_ref-Sardes_33-3\"><a href=\"#cite_note-Sardes-33\">[33]</a></sup> Thus, when perceived supervisor support and relationship quality between leaders and teleworkers decreases, job satisfaction of the teleworker decreases.<sup class=\"reference\" id=\"cite_ref-Golden_2006_36-2\"><a href=\"#cite_note-Golden_2006-36\">[36]</a></sup><sup class=\"reference\" id=\"cite_ref-40\"><a href=\"#cite_note-40\">[40]</a></sup> The importance of manager communication with teleworkers is made clear in a study that found that individuals have lower job satisfaction when their managers telework.<sup class=\"reference\" id=\"cite_ref-Golden11_38-1\"><a href=\"#cite_note-Golden11-38\">[38]</a></sup>\n",
       " </p>,\n",
       " <p>Communication personalized for individual needs is important for feedback interactions.<sup class=\"reference\" id=\"cite_ref-41\"><a href=\"#cite_note-41\">[41]</a></sup> People differ in their need for communication and their level of social connectedness to their environment, partially because of personality and temperament differences.<sup class=\"reference\" id=\"cite_ref-42\"><a href=\"#cite_note-42\">[42]</a></sup> Although the level of communication may decrease for teleworkers, satisfaction with this level of communication can be higher in some samples, like those who are more tenured and have functional instead of social relationships.<sup class=\"reference\" id=\"cite_ref-Akkirman_28-1\"><a href=\"#cite_note-Akkirman-28\">[28]</a></sup> Feedback and communication can also be affected by a manager's location. The clarity, speed of response, richness of the communication, frequency, and quality of the feedback are often reduced when managers telework.<sup class=\"reference\" id=\"cite_ref-Golden11_38-2\"><a href=\"#cite_note-Golden11-38\">[38]</a></sup>\n",
       " </p>,\n",
       " <p>Three of the five job attributes: skill variety, task identity, and task significance, influence how much employees think their jobs are meaningful.<sup class=\"reference\" id=\"cite_ref-Hackman1976_32-3\"><a href=\"#cite_note-Hackman1976-32\">[32]</a></sup> Skill variety is the degree of activities and skills that a job requires in order to complete a task. An increase in skill variety is thought to increase the challenge of the job. Increasing the challenge of the job increases the individual's experienced meaningfulness, how much the individual cares about work, and finds it worthwhile.<sup class=\"reference\" id=\"cite_ref-Oldham_2005_29-2\"><a href=\"#cite_note-Oldham_2005-29\">[29]</a></sup><sup class=\"reference\" id=\"cite_ref-Hackman1976_32-4\"><a href=\"#cite_note-Hackman1976-32\">[32]</a></sup> Telework may not directly affect skill variety and task meaningfulness for the individual compared to when he or she worked in an office; however, skill variety and meaningfulness of individual tasks can increase when working in a group. If the work done at home is focused on the individual rather than the team, there may be fewer opportunities to use a variety of skills.<sup class=\"reference\" id=\"cite_ref-Shamir_43-0\"><a href=\"#cite_note-Shamir-43\">[43]</a></sup>\n",
       " </p>,\n",
       " <p>Task identity is the degree that the individual sees work from beginning to end or completes an identifiable or whole piece of work rather than only a small piece. Task significance is the degree that the individual feels his or her work has a substantial impact on the lives or work of other people within the organization or outside the organization.<sup class=\"reference\" id=\"cite_ref-Hackman1976_32-5\"><a href=\"#cite_note-Hackman1976-32\">[32]</a></sup><sup class=\"reference\" id=\"cite_ref-Shamir_43-1\"><a href=\"#cite_note-Shamir-43\">[43]</a></sup> Telework may not change the job characteristics of skill variety, task identity, and task significance compared to working in an office; however, the presence of these characteristics will influence teleworkers' work outcomes and attitudes.\n",
       " </p>,\n",
       " <p>Individuals may differ in their reactions to the job characteristics in remote working. According to job characteristics theory, the personal need for accomplishment and development (\"growth need strength\")<sup class=\"reference\" id=\"cite_ref-Hackman1971_30-3\"><a href=\"#cite_note-Hackman1971-30\">[30]</a></sup> influences how much an individual will react to the job dimensions of telecommuting. For instance, those individuals high in \"growth need strength\" will have a more positive reaction to increased autonomy and a more negative reaction to decreased feedback in telecommuting than those individuals low in \"growth need strength\".\n",
       " </p>,\n",
       " <p><a class=\"mw-redirect\" href=\"/wiki/Motivator-hygiene_theory\" title=\"Motivator-hygiene theory\">Motivator-hygiene theory</a><sup class=\"reference\" id=\"cite_ref-Herzberg_44-0\"><a href=\"#cite_note-Herzberg-44\">[44]</a></sup> differentiates between motivating factors (motivators) and dissatisfying factors (hygienes). Factors that are motivators such as recognition and career advancement may be lessened with telework. When teleworkers are not physically present, they may be \"out of sight, out of mind\" to other workers in the office.<sup class=\"reference\" id=\"cite_ref-Morganson,_V._J._2010_45-0\"><a href=\"#cite_note-Morganson,_V._J._2010-45\">[45]</a></sup>\n",
       " </p>,\n",
       " <p>Additionally, telework may not always be seen positively by management due to fear of loss of managerial control.<sup class=\"reference\" id=\"cite_ref-Hartman_46-0\"><a href=\"#cite_note-Hartman-46\">[46]</a></sup>\n",
       " </p>,\n",
       " <p>A 2008 study found that more time spent telecommuting decreased the perception of productivity of the teleworker in the eyes of management.<sup class=\"reference\" id=\"cite_ref-Golden_2008_47-0\"><a href=\"#cite_note-Golden_2008-47\">[47]</a></sup>\n",
       " </p>,\n",
       " <p><a href=\"/wiki/Social_information_processing\" title=\"Social information processing\">Social information processing</a> suggests that individuals give meaning to job characteristics.<sup class=\"reference\" id=\"cite_ref-Salancik_48-0\"><a href=\"#cite_note-Salancik-48\">[48]</a></sup> Individuals have the ability to construct their own perception of the environment by interpreting social cues.<sup class=\"reference\" id=\"cite_ref-Morgeson03_49-0\"><a href=\"#cite_note-Morgeson03-49\">[49]</a></sup> This social information comes from overt statements from coworkers, cognitive evaluations of the job or task dimensions, and previous behaviors. This social context can affect individuals' beliefs about the nature of the job, the expectations for individual behavior, and the potential consequences of behavior, especially in uncertain situations.<sup class=\"reference\" id=\"cite_ref-Morgeson03_49-1\"><a href=\"#cite_note-Morgeson03-49\">[49]</a></sup> In telework, there are fewer social cues because social exchange and personalized communication takes longer to process in computer-mediated communication than face-to-face interactions.<sup class=\"reference\" id=\"cite_ref-Waither_50-0\"><a href=\"#cite_note-Waither-50\">[50]</a></sup>\n",
       " </p>,\n",
       " <p><a href=\"/wiki/Sociotechnical_system\" title=\"Sociotechnical system\">Sociotechnical systems</a> (STS) theory explains the interaction between social and technological factors. STS examines the relationships between people, technology, and the work environment to design work in a way that enhances job satisfaction and increases productivity.<sup class=\"reference\" id=\"cite_ref-Torraco_51-0\"><a href=\"#cite_note-Torraco-51\">[51]</a></sup> Originally developed to explain the paradox of improved technology but decreased productivity,<sup class=\"reference\" id=\"cite_ref-Trist_52-0\"><a href=\"#cite_note-Trist-52\">[52]</a></sup> the theory can be applied to the design of telework. One of the principles of STS is minimal critical specification.<sup class=\"reference\" id=\"cite_ref-Cherns_53-0\"><a href=\"#cite_note-Cherns-53\">[53]</a></sup> This principle states that, unless absolutely essential, there should be minimal specification of objectives and how to do tasks in order to avoid closing options or inhibiting effective actions. Telecommuting provides teleworkers with the freedom to decide how and when to do their tasks.<sup class=\"reference\" id=\"cite_ref-Gaj_34-2\"><a href=\"#cite_note-Gaj-34\">[34]</a></sup> Similarly, teleworkers have the responsibility to use their equipment and resources to carry out their responsibilities. This increase in responsibility for their work also increases their power,<sup class=\"reference\" id=\"cite_ref-Cherns_53-1\"><a href=\"#cite_note-Cherns-53\">[53]</a></sup> supporting the idea that teleworking is a privilege and in some companies, considered a promotion.<sup class=\"reference\" id=\"cite_ref-Morganson,_V._J._2010_45-1\"><a href=\"#cite_note-Morganson,_V._J._2010-45\">[45]</a></sup>\n",
       " </p>,\n",
       " <p>Adaptive structuration theory studies variations in organizations as new technologies are introduced<sup class=\"reference\" id=\"cite_ref-DeSanctis_54-0\"><a href=\"#cite_note-DeSanctis-54\">[54]</a></sup> Adaptive structural theory proposes that structures (general rules and resources offered by the technology) can differ from structuration (how people actually use these rules and resources).<sup class=\"reference\" id=\"cite_ref-Torraco_51-1\"><a href=\"#cite_note-Torraco-51\">[51]</a></sup> There is an interplay between the intended use of technology and the way that people use the technology. Telecommuting provides a social structure that enables and constrains certain interactions.<sup class=\"reference\" id=\"cite_ref-Hill09_55-0\"><a href=\"#cite_note-Hill09-55\">[55]</a></sup> For instance, in office settings, the norm may be to interact with others face-to-face. To accomplish interpersonal exchange in telecommuting, other forms of interaction need to be used. AST suggests that when technologies are used over time, the rules and resources for social interactions will change.<sup class=\"reference\" id=\"cite_ref-DeSanctis_54-1\"><a href=\"#cite_note-DeSanctis-54\">[54]</a></sup> Teleworking may alter traditional work practices,<sup class=\"reference\" id=\"cite_ref-Torraco_51-2\"><a href=\"#cite_note-Torraco-51\">[51]</a></sup> such as switching from primarily face-to-face communication to electronic communication.\n",
       " </p>,\n",
       " <p>Most studies find that remote work overall results in a decrease in energy use due to less time spend on energy-intensive personal transportation.<sup class=\"reference\" id=\"cite_ref-56\"><a href=\"#cite_note-56\">[56]</a></sup> Remote work has also led to cleaner air.<sup class=\"reference\" id=\"cite_ref-57\"><a href=\"#cite_note-57\">[57]</a></sup>\n",
       " </p>,\n",
       " <p>During the <a href=\"/wiki/COVID-19_lockdowns\" title=\"COVID-19 lockdowns\">COVID-19 lockdowns</a>, the increase in remote work led to a decrease in global <a class=\"mw-redirect\" href=\"/wiki/CO2_emissions\" title=\"CO2 emissions\">CO<sub>2</sub> emissions</a>.<sup class=\"reference\" id=\"cite_ref-58\"><a href=\"#cite_note-58\">[58]</a></sup>\n",
       " </p>,\n",
       " <p>However, the increase in remote work has led to people moving out of cities to larger homes that had room for home offices.<sup class=\"reference\" id=\"cite_ref-59\"><a href=\"#cite_note-59\">[59]</a></sup>\n",
       " </p>,\n",
       " <p>According to the <a href=\"/wiki/Job_characteristic_theory\" title=\"Job characteristic theory\">job characteristic theory</a>, the relationship between characteristics of the job and <a href=\"/wiki/Job_satisfaction\" title=\"Job satisfaction\">job satisfaction</a> was moderately strong.<sup class=\"reference\" id=\"cite_ref-Loher_60-0\"><a href=\"#cite_note-Loher-60\">[60]</a></sup> Of the five task characteristics, autonomy has a strong relationship with job satisfaction such that greater autonomy leads to greater job satisfaction.<sup class=\"reference\" id=\"cite_ref-Loher_60-1\"><a href=\"#cite_note-Loher-60\">[60]</a></sup> Teleworkers may have increased satisfaction due to the flexibility and autonomy their jobs provide. Teleworkers were found to have higher satisfaction than office based workers.<sup class=\"reference\" id=\"cite_ref-Bailey_61-0\"><a href=\"#cite_note-Bailey-61\">[61]</a></sup><sup class=\"reference\" id=\"cite_ref-Morganson,_V._J._2010_45-2\"><a href=\"#cite_note-Morganson,_V._J._2010-45\">[45]</a></sup> It was found that autonomy increased teleworkers' satisfaction by reducing work-family conflicts,<sup class=\"reference\" id=\"cite_ref-Golden_2006_36-3\"><a href=\"#cite_note-Golden_2006-36\">[36]</a></sup><sup class=\"reference\" id=\"cite_ref-Maruy_62-0\"><a href=\"#cite_note-Maruy-62\">[62]</a></sup> especially when workers were allowed to work outside traditional work hours and be more flexible for family purposes.<sup class=\"reference\" id=\"cite_ref-Golden11_38-3\"><a href=\"#cite_note-Golden11-38\">[38]</a></sup> Providing the option to work remotely or adopting a hybrid work schedule has been an incentivizing benefit companies use to capture talent.<sup class=\"noprint Inline-Template Template-Fact\" style=\"white-space:nowrap;\">[<i><a href=\"/wiki/Wikipedia:Citation_needed\" title=\"Wikipedia:Citation needed\"><span title=\"This claim needs references to reliable sources. (March 2022)\">citation needed</span></a></i>]</sup> Additionally, autonomy explained an increase in <a href=\"/wiki/Employee_engagement\" title=\"Employee engagement\">employee engagement</a> when the amount of time spent teleworking increased.<sup class=\"reference\" id=\"cite_ref-Sardes_33-4\"><a href=\"#cite_note-Sardes-33\">[33]</a></sup> Furthermore, a 2016 study from FlexJobs that surveyed over 3,000 people found that 81% of respondents also said they would be more loyal to their employers if they had flexible work options.<sup class=\"noprint Inline-Template Template-Fact\" style=\"white-space:nowrap;\">[<i><a href=\"/wiki/Wikipedia:Citation_needed\" title=\"Wikipedia:Citation needed\"><span title=\"This claim needs references to reliable sources. (March 2022)\">citation needed</span></a></i>]</sup>\n",
       " </p>,\n",
       " <p>Telecommuting has long been promoted as a way to substantially increase employee productivity. In 2012-2103, an experiment conducted using 242 employees of <a class=\"mw-redirect\" href=\"/wiki/Ctrip\" title=\"Ctrip\">Ctrip</a>, a large Chinese <a href=\"/wiki/Travel_agency\" title=\"Travel agency\">travel agency</a>, by professors at <a class=\"mw-redirect\" href=\"/wiki/Stanford\" title=\"Stanford\">Stanford</a> and <a class=\"mw-redirect\" href=\"/wiki/Beijing_University\" title=\"Beijing University\">Beijing University</a> found that employees randomly assigned to work at home for 9 months increased their output by 13.5% versus the office-based control group. This improvement in output arose from working 9% more hours from saved commuting time and from 3.5% improved efficiency from quieter working conditions. The study also found that home-workers reported significantly higher job-satisfaction scores and their quit rates fell by almost 50%. However, home workers' promotion rates dropped by half due to apparent performance declines, indicating a potential career cost of home-working.<sup class=\"reference\" id=\"cite_ref-63\"><a href=\"#cite_note-63\">[63]</a></sup>\n",
       " </p>,\n",
       " <p>Since work hours are less regulated in telework, employee effort and dedication are far more likely to be measured purely in terms of output or results. Fewer, if any, traces of non-productive work activities (research, self-training, dealing with technical problems or equipment failures) and time lost on unsuccessful attempts (early drafts, fruitless endeavors, abortive innovations) are visible to employers. Piece rate, commissions, or other performance-based compensation also become more likely for telecommuters. Furthermore, major chunks of per-employee expenses are absorbed by the telecommuter himself – from simple coffee, water, electricity, and telecommunications services, to huge capital expenses like office equipment or software licenses. Thus, hours spent on the job tend to be underestimated and expenses under-reported, creating overly optimistic figures of productivity gains and savings, some or all of those in fact coming out of the telecommuter's time and pocket.<sup class=\"reference\" id=\"cite_ref-64\"><a href=\"#cite_note-64\">[64]</a></sup>\n",
       " </p>,\n",
       " <p><a class=\"mw-redirect\" href=\"/wiki/Turnover_intention\" title=\"Turnover intention\">Turnover intention</a>, or the desire to leave the organization, is lower for teleworkers.<sup class=\"reference\" id=\"cite_ref-Gaj_34-3\"><a href=\"#cite_note-Gaj-34\">[34]</a></sup> Those teleworkers who experienced greater professional isolation actually had lower turnover intent.<sup class=\"reference\" id=\"cite_ref-Golden_2008_47-1\"><a href=\"#cite_note-Golden_2008-47\">[47]</a></sup> One study found that by increasing feedback and task identity through clear communication of goals, objectives, and expectations, turnover intent decreased in teleworkers and quality of work output increased.<sup class=\"reference\" id=\"cite_ref-Ilozor_65-0\"><a href=\"#cite_note-Ilozor-65\">[65]</a></sup>\n",
       " </p>,\n",
       " <p>A 2007 meta-analysis of 46 studies of telecommuting involving 12,833 employees conducted by Ravi Gajendran and David A. Harrison in the <i><a href=\"/wiki/Journal_of_Applied_Psychology\" title=\"Journal of Applied Psychology\">Journal of Applied Psychology</a></i>, published by the <a href=\"/wiki/American_Psychological_Association\" title=\"American Psychological Association\">American Psychological Association</a> (APA), found that telecommuting has largely positive consequences for employees and employers.<sup class=\"reference\" id=\"cite_ref-66\"><a href=\"#cite_note-66\">[66]</a></sup><sup class=\"reference\" id=\"cite_ref-Gaj_34-4\"><a href=\"#cite_note-Gaj-34\">[34]</a></sup> In their meta-analytic study, Gajendran and Harrison found that telecommuting had modest but beneficial effects on employees' job satisfaction, perceived autonomy, stress levels, manager-rated job performance, and (lower) work-family conflict. Telecommuting also reduces turnover intent, or the intention to quit one's job. Increased job satisfaction, decreased turnover intent and role stress related to telecommuting partly because of a decrease in work-family conflict. Additionally, the increase in autonomy from teleworking in turn increases job satisfaction.<sup class=\"noprint Inline-Template Template-Fact\" style=\"white-space:nowrap;\">[<i><a href=\"/wiki/Wikipedia:Citation_needed\" title=\"Wikipedia:Citation needed\"><span title=\"This claim needs references to reliable sources. (September 2015)\">citation needed</span></a></i>]</sup>\n",
       " </p>,\n",
       " <p>Although a number of scholars and managers had previously expressed fears that employee careers might suffer and workplace relationships might be damaged because of telecommuting, the meta-analysis found that there are no generally detrimental effects on the quality of workplace relationships and career outcomes. Telecommuting actually was found to positively affect employee-supervisor relations and the relationship between job satisfaction and turnover intent was in part due to supervisor relationship quality. Only high-intensity telecommuting (where employees work from home for more than 2.5 days a week) harmed employee relationships with co-workers, even though it did reduce work-family conflict. A factor analysis showed the overall distribution of people's experiences and how the advantages and disadvantages of WFH during the early weeks of the pandemic in Europe can be grouped into six key factors. The results indicated that most people had a more positive rather than negative experience of WFH during lockdown. Three factors represent the main advantages of WFH: (i) work–life balance, (ii) improved work efficiency and (iii) greater work control. The main disadvantages were (iv) home office constraints, (v) work uncertainties and (vi) inadequate tools.<sup class=\"reference\" id=\"cite_ref-67\"><a href=\"#cite_note-67\">[67]</a></sup>\n",
       " </p>,\n",
       " <p>Skill variety has the strongest relationship with internal <a href=\"/wiki/Work_motivation\" title=\"Work motivation\">work motivation</a>.<sup class=\"reference\" id=\"cite_ref-Fried_31-2\"><a href=\"#cite_note-Fried-31\">[31]</a></sup> Jobs that allow workers to use a variety of skills increase workers' internal work motivation. If teleworkers are limited in teamwork opportunities and have fewer opportunities to use a variety of skills,<sup class=\"reference\" id=\"cite_ref-Shamir_43-2\"><a href=\"#cite_note-Shamir-43\">[43]</a></sup> they may have lower internal motivation towards their work. Also, perceived social isolation can lead to less motivation.<sup class=\"reference\" id=\"cite_ref-Maruy_62-1\"><a href=\"#cite_note-Maruy-62\">[62]</a></sup>\n",
       " </p>,\n",
       " <p>Though working in an office has its distractions, it is often argued that telecommuting involves even greater distractions. According to one study, children are ranked as the number one distractions, followed by spouses, pets, neighbors, and solicitors. The lack of proper tools and facilities also serves as a major distraction,<sup class=\"reference\" id=\"cite_ref-68\"><a href=\"#cite_note-68\">[68]</a></sup> though this can be mitigated by using short-term <a href=\"/wiki/Coworking\" title=\"Coworking\">coworking</a> rental facilities. Also, some countries such as Romania have tasked the national <a class=\"mw-redirect\" href=\"/wiki/Labour_inspectorate\" title=\"Labour inspectorate\">labour inspectorate</a> the burden of carrying out checks at teleworkers’ residences to see if the work environment meets the requirements.<sup class=\"reference\" id=\"cite_ref-69\"><a href=\"#cite_note-69\">[69]</a></sup>\n",
       " </p>,\n",
       " <p>Face-to-face interactions increase interpersonal contact, connectedness, and trust<sup class=\"reference\" id=\"cite_ref-Golden_2008_47-2\"><a href=\"#cite_note-Golden_2008-47\">[47]</a></sup> Therefore, 54% of teleworkers thought they lost out on social interaction and 52.5% felt they lost out on professional interaction in a 2012 study.<sup class=\"reference\" id=\"cite_ref-Maruy_62-2\"><a href=\"#cite_note-Maruy-62\">[62]</a></sup> Teleworking can hurt working relationships between the teleworker and their coworkers, especially if their coworkers do not telework. Coworkers who do not telework can feel resentful and jealous because they may consider it unfair if they are not allowed to telework as well.<sup class=\"reference\" id=\"cite_ref-Gaj_34-5\"><a href=\"#cite_note-Gaj-34\">[34]</a></sup><sup class=\"reference\" id=\"cite_ref-Morganson,_V._J._2010_45-3\"><a href=\"#cite_note-Morganson,_V._J._2010-45\">[45]</a></sup> However, despite fewer interpersonal actions and professional isolation,<sup class=\"reference\" id=\"cite_ref-Golden_2008_47-3\"><a href=\"#cite_note-Golden_2008-47\">[47]</a></sup> a meta-analysis of telecommuting did not find support for negative telecommuter-coworker relationships or telecommuter-supervisor relationships.<sup class=\"reference\" id=\"cite_ref-Gaj_34-6\"><a href=\"#cite_note-Gaj-34\">[34]</a></sup>\n",
       " </p>,\n",
       " <p>Employees who telework may feel pressure to produce more output in order to be seen as valuable, and reduce the idea that they are doing less work than others. This pressure to produce output, as well as a lack of social support from limited coworker relationships and feelings of isolation, leads to lower job engagement in teleworkers.<sup class=\"reference\" id=\"cite_ref-Sardes_33-5\"><a href=\"#cite_note-Sardes-33\">[33]</a></sup> Additionally, higher-quality relationships with teammates decreased job satisfaction of teleworkers, potentially because of frustrations with exchanging interactions via technology.<sup class=\"reference\" id=\"cite_ref-golden006_70-0\"><a href=\"#cite_note-golden006-70\">[70]</a></sup> However, coworker support and virtual social groups for team building had a direct influence on increasing job satisfaction,<sup class=\"reference\" id=\"cite_ref-Bailey_61-1\"><a href=\"#cite_note-Bailey-61\">[61]</a></sup><sup class=\"reference\" id=\"cite_ref-Ilozor_65-1\"><a href=\"#cite_note-Ilozor-65\">[65]</a></sup> perhaps due to an increase in skill variety from teamwork and an increase in task significance from more working relationships.\n",
       " </p>,\n",
       " <p>The inconsistent findings regarding telework and satisfaction may be explained by a more complicated relationship. Presumably because of the effects of autonomy, initial job satisfaction increases as the amount of telecommuting increases; however, as the individual telecommutes more, declines in feedback and task significance lead job satisfaction to level off and decrease slightly.<sup class=\"reference\" id=\"cite_ref-Golden05_71-0\"><a href=\"#cite_note-Golden05-71\">[71]</a></sup> Thus, the amount of time teleworking influences the relationship between telework and job satisfaction. Barriers to the continued growth of telecommuting include distrust from employers and personal disconnectedness for employees.<sup class=\"reference\" id=\"cite_ref-72\"><a href=\"#cite_note-72\">[72]</a></sup>\n",
       " </p>,\n",
       " <p>Communication and getting to know other teammates happen naturally when everyone works in the same space, so in the telework circumstance, employees and supervisors have to work harder to maintain relationships with co-workers. This is especially important for new employees so that they learn organizational habits even when working remotely.<sup class=\"reference\" id=\"cite_ref-73\"><a href=\"#cite_note-73\">[73]</a></sup>\n",
       " </p>,\n",
       " <p>Being remote can also distance people from each other and transfer important conversations to chat and email.<sup class=\"reference\" id=\"cite_ref-:0_74-0\"><a href=\"#cite_note-:0-74\">[74]</a></sup> An isolation from daily activities arise of the company and may be less aware of other things going on to the company and a possible hatred from other employees arises from other employees who do not telecommute.\n",
       " </p>,\n",
       " <p>Sharing information within an organization and teams can become more challenging when working remotely. While in the office, teams naturally share information and knowledge when they meet each other, for example, during coffee breaks. Sharing information requires more effort and proactive action when random-encounters do not happen.<sup class=\"reference\" id=\"cite_ref-:0_74-1\"><a href=\"#cite_note-:0-74\">[74]</a></sup> The sharing of tacit information also often takes place in unplanned situations where employees follow the activities of more experienced team members.<sup class=\"reference\" id=\"cite_ref-75\"><a href=\"#cite_note-75\">[75]</a></sup>\n",
       " </p>,\n",
       " <p>When teams are working remotely, it may also be difficult to obtain timely information, unless the regular sharing of information is taken care of separately. The situation where team members don't know enough about what others are doing can lead them to make worse decisions or slow down decision-making.\n",
       " </p>,\n",
       " <p>Employees need training, tools, and technologies for remote work. Remote work poses cyber security risks and people should follow best practices that include using antivirus software, keeping family members away from work devices, covering their webcams, using a VPN, using a centralized storage solution, making sure passwords are strong and secure, and being wary of email scams and email security.<sup class=\"reference\" id=\"cite_ref-76\"><a href=\"#cite_note-76\">[76]</a></sup>\n",
       " </p>,\n",
       " <p>In 2021, Vermont, South Carolina, South Dakota, Alabama, and Nebraska were named as the top 5 safest states for telecommuters based on data breaches, stolen records, privacy laws, victim count, and victim loss.<sup class=\"reference\" id=\"cite_ref-77\"><a href=\"#cite_note-77\">[77]</a></sup>\n",
       " </p>,\n",
       " <p>Managers may view the teleworker as experiencing a drop in productivity during the first few months. This drop occurs as \"the employee, his peers, and the manager adjust to the new work regimen\".<sup class=\"reference\" id=\"cite_ref-gantenbein_78-0\"><a href=\"#cite_note-gantenbein-78\">[78]</a></sup> The drop could also be due to inadequate office setup. Additionally, a 1999 study claimed that \"70 minutes of each day in a regular office are wasted by interruptions, yakking around the photocopier, and other distractions\".<sup class=\"reference\" id=\"cite_ref-79\"><a href=\"#cite_note-79\">[79]</a></sup> Over the long term, though, surveys found that the productivity of the teleworker will climb; over two-thirds of employers report increased productivity among telecommuters, according to a 2008 survey.<sup class=\"reference\" id=\"cite_ref-80\"><a href=\"#cite_note-80\">[80]</a></sup> Traditional line managers are accustomed to managing by observation and not necessarily by results. This causes a serious obstacle in organizations attempting to adopt telecommuting. Liability and workers' compensation can become serious issues as well.<sup class=\"reference\" id=\"cite_ref-81\"><a href=\"#cite_note-81\">[81]</a></sup> Weaker relationships between job dimensions and job outcomes, such as <a href=\"/wiki/Job_performance\" title=\"Job performance\">job performance</a> and absenteeism,<sup class=\"reference\" id=\"cite_ref-Hackman1976_32-6\"><a href=\"#cite_note-Hackman1976-32\">[32]</a></sup> may explain why the results regarding performance and telework are conflicting. Some studies have found that telework increases productivity in workers<sup class=\"reference\" id=\"cite_ref-Hill_82-0\"><a href=\"#cite_note-Hill-82\">[82]</a></sup> and leads to higher supervisor ratings of performance and higher performance appraisals.<sup class=\"reference\" id=\"cite_ref-Gaj_34-7\"><a href=\"#cite_note-Gaj-34\">[34]</a></sup> However, another study found that professional isolation in teleworkers led to a decrease in job performance, especially for those who spent more time teleworking and engaged in fewer face-to-face interactions.<sup class=\"reference\" id=\"cite_ref-Golden_2008_47-4\"><a href=\"#cite_note-Golden_2008-47\">[47]</a></sup> Thus, similar to job attitudes, the amount of time spent teleworking may also influence the relationship between telework and job performance.\n",
       " </p>,\n",
       " <p>From an anthropological perspective, it has been reported that teleworking can interfere with the process of <a href=\"/wiki/Sensemaking\" title=\"Sensemaking\">sensemaking</a> (the forging of consensus or of a common worldview).<sup class=\"reference\" id=\"cite_ref-Tett_83-0\"><a href=\"#cite_note-Tett-83\">[83]</a></sup>\n",
       " </p>,\n",
       " <p>Most US remote workers do not understand the tax implications of working remotely in another state.<sup class=\"reference\" id=\"cite_ref-84\"><a href=\"#cite_note-84\">[84]</a></sup><sup class=\"reference\" id=\"cite_ref-85\"><a href=\"#cite_note-85\">[85]</a></sup>\n",
       " </p>,\n",
       " <p>According to a 2021 report by the <a href=\"/wiki/World_Health_Organization\" title=\"World Health Organization\">World Health Organization</a> and the <a href=\"/wiki/International_Labour_Organization\" title=\"International Labour Organization\">International Labour Organization</a> the expansion of teleworking, if it increases working time to over 55 hours per week, could potentially increase health loss among workers.<sup class=\"reference\" id=\"cite_ref-SD_55hours_86-0\"><a href=\"#cite_note-SD_55hours-86\">[86]</a></sup>\n",
       " </p>]"
      ]
     },
     "execution_count": 31,
     "metadata": {},
     "output_type": "execute_result"
    }
   ],
   "source": [
    "proftags = soup.findAll(\"p\")\n",
    "proftags"
   ]
  },
  {
   "cell_type": "code",
   "execution_count": 33,
   "id": "6292bc4f",
   "metadata": {},
   "outputs": [],
   "source": [
    "data =[]\n",
    "for mytag in proftags:\n",
    "    data.append(mytag.get_text())"
   ]
  },
  {
   "cell_type": "code",
   "execution_count": 34,
   "id": "2bd0bc0e",
   "metadata": {},
   "outputs": [
    {
     "name": "stdout",
     "output_type": "stream",
     "text": [
      "['\\n', 'Remote work, also called distance working, telework, teleworking, working from home (WFH), mobile work, remote job, and work from anywhere (WFA)[1] is an employment arrangement in which employees do not commute to a central place of work, such as an office building, warehouse, or retail store. It is facilitated by technology such as collaborative software, virtual private networks, conference calling, videotelephony, internet access, cloud computing, voice over IP (VoIP), mobile telecommunications technology such as a Wi-Fi-equipped laptop or tablet computers, smartphones, and desktop computers. It can be efficient and useful for companies since it allows workers to communicate over long distances, saving significant amounts of travel time and cost. Common software used for remote work include Zoom, Cisco Webex, Microsoft Teams, Google Meet, Slack, and WhatsApp.\\n', 'In the early 1970s, technology was developed that linked satellite offices to downtown mainframes through dumb terminals using telephone lines as a network bridge. The terms \"telecommuting\" and \"telework\" were coined by Jack Nilles in 1973.[2][3] In 1979, five IBM employees were allowed to work from home as an experiment. By 1983, the experiment was expanded to 2,000 people. By the early 1980s, branch offices and home workers were able to connect to organizational mainframes using personal computers and terminal emulators. \\n', 'In 1995, the motto that \"work is something you do, not something you travel to\" was coined.[4] Variations of this motto include: \"Work is what we do, not where we are.\"[5] During the Information Age, many startups were founded in the houses of  entrepreneurs who lacked financial resources.\\n', 'Since the 1980s, the normalization of remote work has been on a steady incline. For example, the number of Americans working from home grew by 4 million from 2003 to 2006,[6] and by 1983 academics were beginning to experiment with online conferencing.[7]\\n', 'During the COVID-19 pandemic, millions of workers were forced to start remote working for the first time.[8] Many students were forced to switch to distance education.[9] Many companies have mandated employees work from home either temporarily or permanently.[10][11][12] Some companies paid for home office equipment.[13]\\n', 'According to a Gallup poll in September 2021, 45% of full-time U.S. employees worked from home, including 25% who worked from home all of the time and 20% who worked from home part of the time.[14]\\n', 'In 2020, 12.3% of employed persons, including 13.2% of women and 11.5% of men, in the European Union who were aged 15–64, usually worked from home. By country, the percentage of workers that worked from home was highest in Finland (25.1%), Luxembourg (23.1%), Ireland (21.5%), Austria (18.1%), and the Netherlands (17.8%) and lowest in Bulgaria (1.2%), Romania (2.5%), Croatia (3.1%), Hungary (3.6%), and Latvia (4.5%).[15]\\n', \"In 2021, in the US 91% of people who work from home said they would like to continue to work remotely in the future. In Gallup's September 2021 study, 54% of workers said they believed that their company's culture would be unchanged by remote work, while 12% believed it would improve and 33% predicted it would deteriorate. \\n\", 'The United States Government publishes a guide to telework for employees of the Federal government.[16]\\n', \"US federal law, most notably the Telework Enhancement Act of 2010, requires each Executive agency to establish a telecommuting policy allowing eligible employees to participate in telecommuting to the maximum extent possible, so long as the employee's performance is not diminished.[17][18][19]\\n\", 'Telework is not an employee right, i.e., Federal law mandates that agencies must establish telework programs, but does not give individual employees a legal right to telework.[20]\\n', 'According to the United States Office of Personnel Management, in fiscal 2020, 50% of all federal workers were eligible to work remotely and agencies saved more than $180 million because of telework in fiscal 2020.[21]\\n', 'Researchers from the University of Washington and the University of Tennessee Knoxville proposed a tweeting frequency-based algorithm to measure work engagement during the COVID-19 pandemic.[22] They found people demonstrated the highest work engagements at 10:00-10:59 am, and the lowest at 11:00 am–12:00 pm when working from home.[22]\\n', \"Telecommuting has been adopted by many businesses, governments and not-for-profit organizations. Organizations may use telecommuting to reduce costs. Telecommuting employees do not require an office or cubicle, a space which needs to be rented or purchased, and incurs additional costs such as lighting and climate control. Some organizations adopt telecommuting to improve workers' quality of life, as teleworking typically reduces commuting time and time stuck in traffic congestion. Teleworking may make it easier for workers to balance their work responsibilities with their personal life and family roles (e.g., caring for children or elderly parents). Some organizations adopt teleworking for environmental reasons, as telework can reduce traffic congestion and air pollution, with fewer cars on the roads.[23]\\n\", 'The technology to communicate is not advanced enough to replicate face-to-face office interactions. Room for mistakes and miscommunication can increase. According to media richness theory, face-to-face interactions provide the capacity to process rich information: ambiguous issues can be clarified, immediate feedback can be provided, and there is personalized communication (e.g. body language, tone of voice).[24] Telecommuting requires the use of various types of media to communicate, such as the telephone and email. Emails have a time lag that does not allow for immediate feedback; telephone conversations make it harder to decipher the emotions of the person or team on the phone; and both of these forms of communication do not allow one to see the other person.[25] Typical organization communication patterns are thus altered in telecommuting. For instance, teams using computer-mediated communication with computer conferencing take longer to make group decisions than face-to-face groups.[26]\\n', 'Workers tend to be satisfied with face-to-face interactions, phone conversations, and in-person departmental meetings to receive communications, but email and the Internet do not add to their communication satisfaction.[27] This suggests that teleworking may not have the components for \"rich communication\" compared to face-to-face interactions, although one study found that virtual workers in a team were more satisfied with their technology-mediated communication than their in-person office communication.[28]\\n', \"According to job characteristic theory, changes in autonomy and feedback, which are affected by remote work status, influence work behaviors and attitudes more than a change in skill variety, task identity, or task significance.[29] If five characteristics of a job are present (skill variety, task identity, task significance, autonomy, and feedback), then the employee in that job will experience more internal work motivation, satisfaction with personal growth opportunities, general job satisfaction, higher job performance, and lower absenteeism and turnover.[29][30] Many studies have provided evidence that job characteristics influence employees' behaviors and attitudes.[31] Additionally, job characteristics can interact with individual differences to impact employee attitudes and behavior.[30][32] Of these five job characteristics, telework specifically changes autonomy and feedback compared to face-to-face work and can thus influence employees' behaviors and attitudes.\\n\", 'Autonomy influences experienced responsibility such that if the job provides freedom, independence, and scheduling flexibility, the individual should feel responsible for his or her work outcomes. Telework provides flexibility in scheduling and freedom because being outside the office gives the worker more choices. Teleworkers do not have to stick to office routines and can shift work to different times of day.[33] Telework allows employees the freedom to choose where they work, when they work and even what they wear to work to allow their best work.[34] Teleworkers may experience more responsibility to the extent that they feel in control and accountable for their work.[32]\\nThe autonomy of telework allows for lower work-family conflict.[35] Teleworking provides the freedom to arrange work to avoid family conflicts. Increased control over life demands[36] is one of its main attractions. The level of autonomy in telework felt by the employee depends on a variety of factors, including scheduling flexibility and the household size.[36] In addition to reducing work-family conflict, conflicts with activities are also reduced. Increased freedom and fewer time restrictions  allow workers to participate more in recreational activities, whether social or physical.[34] However, studies also show that autonomy must be balanced with high levels of discipline if a healthy work/leisure balance is to be maintained.[37]\\n', \"Feedback increases employees' knowledge of results. Feedback refers to the degree that an individual receives direct and clear information about his or her performance related to work activities.[30] Feedback is particularly important so that the employees continuously learn about how they are performing.[32] Electronic communication provides fewer cues for teleworkers and thus, they may have more difficulties interpreting and gaining information, and subsequently, receiving feedback.[33] When a worker is not in the office, there is limited information and greater ambiguity, such as in assignments and expectations.[38] Role ambiguity, when situations have unclear expectations as to what the worker is to do,[39] may result in greater conflict, frustration, and exhaustion.[33]\\n\", 'In other studies regarding Job Characteristics Theory, job feedback seemed to have the strongest relationship with overall job satisfaction compared to other job characteristics.[31] While teleworking, communication is not as immediate or rich as face-to-face interactions.[24] Less feedback when teleworking is associated with lower job engagement.[33] Thus, when perceived supervisor support and relationship quality between leaders and teleworkers decreases, job satisfaction of the teleworker decreases.[36][40] The importance of manager communication with teleworkers is made clear in a study that found that individuals have lower job satisfaction when their managers telework.[38]\\n', \"Communication personalized for individual needs is important for feedback interactions.[41] People differ in their need for communication and their level of social connectedness to their environment, partially because of personality and temperament differences.[42] Although the level of communication may decrease for teleworkers, satisfaction with this level of communication can be higher in some samples, like those who are more tenured and have functional instead of social relationships.[28] Feedback and communication can also be affected by a manager's location. The clarity, speed of response, richness of the communication, frequency, and quality of the feedback are often reduced when managers telework.[38]\\n\", \"Three of the five job attributes: skill variety, task identity, and task significance, influence how much employees think their jobs are meaningful.[32] Skill variety is the degree of activities and skills that a job requires in order to complete a task. An increase in skill variety is thought to increase the challenge of the job. Increasing the challenge of the job increases the individual's experienced meaningfulness, how much the individual cares about work, and finds it worthwhile.[29][32] Telework may not directly affect skill variety and task meaningfulness for the individual compared to when he or she worked in an office; however, skill variety and meaningfulness of individual tasks can increase when working in a group. If the work done at home is focused on the individual rather than the team, there may be fewer opportunities to use a variety of skills.[43]\\n\", \"Task identity is the degree that the individual sees work from beginning to end or completes an identifiable or whole piece of work rather than only a small piece. Task significance is the degree that the individual feels his or her work has a substantial impact on the lives or work of other people within the organization or outside the organization.[32][43] Telework may not change the job characteristics of skill variety, task identity, and task significance compared to working in an office; however, the presence of these characteristics will influence teleworkers' work outcomes and attitudes.\\n\", 'Individuals may differ in their reactions to the job characteristics in remote working. According to job characteristics theory, the personal need for accomplishment and development (\"growth need strength\")[30] influences how much an individual will react to the job dimensions of telecommuting. For instance, those individuals high in \"growth need strength\" will have a more positive reaction to increased autonomy and a more negative reaction to decreased feedback in telecommuting than those individuals low in \"growth need strength\".\\n', 'Motivator-hygiene theory[44] differentiates between motivating factors (motivators) and dissatisfying factors (hygienes). Factors that are motivators such as recognition and career advancement may be lessened with telework. When teleworkers are not physically present, they may be \"out of sight, out of mind\" to other workers in the office.[45]\\n', 'Additionally, telework may not always be seen positively by management due to fear of loss of managerial control.[46]\\n', 'A 2008 study found that more time spent telecommuting decreased the perception of productivity of the teleworker in the eyes of management.[47]\\n', \"Social information processing suggests that individuals give meaning to job characteristics.[48] Individuals have the ability to construct their own perception of the environment by interpreting social cues.[49] This social information comes from overt statements from coworkers, cognitive evaluations of the job or task dimensions, and previous behaviors. This social context can affect individuals' beliefs about the nature of the job, the expectations for individual behavior, and the potential consequences of behavior, especially in uncertain situations.[49] In telework, there are fewer social cues because social exchange and personalized communication takes longer to process in computer-mediated communication than face-to-face interactions.[50]\\n\", 'Sociotechnical systems (STS) theory explains the interaction between social and technological factors. STS examines the relationships between people, technology, and the work environment to design work in a way that enhances job satisfaction and increases productivity.[51] Originally developed to explain the paradox of improved technology but decreased productivity,[52] the theory can be applied to the design of telework. One of the principles of STS is minimal critical specification.[53] This principle states that, unless absolutely essential, there should be minimal specification of objectives and how to do tasks in order to avoid closing options or inhibiting effective actions. Telecommuting provides teleworkers with the freedom to decide how and when to do their tasks.[34] Similarly, teleworkers have the responsibility to use their equipment and resources to carry out their responsibilities. This increase in responsibility for their work also increases their power,[53] supporting the idea that teleworking is a privilege and in some companies, considered a promotion.[45]\\n', 'Adaptive structuration theory studies variations in organizations as new technologies are introduced[54] Adaptive structural theory proposes that structures (general rules and resources offered by the technology) can differ from structuration (how people actually use these rules and resources).[51] There is an interplay between the intended use of technology and the way that people use the technology. Telecommuting provides a social structure that enables and constrains certain interactions.[55] For instance, in office settings, the norm may be to interact with others face-to-face. To accomplish interpersonal exchange in telecommuting, other forms of interaction need to be used. AST suggests that when technologies are used over time, the rules and resources for social interactions will change.[54] Teleworking may alter traditional work practices,[51] such as switching from primarily face-to-face communication to electronic communication.\\n', 'Most studies find that remote work overall results in a decrease in energy use due to less time spend on energy-intensive personal transportation.[56] Remote work has also led to cleaner air.[57]\\n', 'During the COVID-19 lockdowns, the increase in remote work led to a decrease in global CO2 emissions.[58]\\n', 'However, the increase in remote work has led to people moving out of cities to larger homes that had room for home offices.[59]\\n', \"According to the job characteristic theory, the relationship between characteristics of the job and job satisfaction was moderately strong.[60] Of the five task characteristics, autonomy has a strong relationship with job satisfaction such that greater autonomy leads to greater job satisfaction.[60] Teleworkers may have increased satisfaction due to the flexibility and autonomy their jobs provide. Teleworkers were found to have higher satisfaction than office based workers.[61][45] It was found that autonomy increased teleworkers' satisfaction by reducing work-family conflicts,[36][62] especially when workers were allowed to work outside traditional work hours and be more flexible for family purposes.[38] Providing the option to work remotely or adopting a hybrid work schedule has been an incentivizing benefit companies use to capture talent.[citation needed] Additionally, autonomy explained an increase in employee engagement when the amount of time spent teleworking increased.[33] Furthermore, a 2016 study from FlexJobs that surveyed over 3,000 people found that 81% of respondents also said they would be more loyal to their employers if they had flexible work options.[citation needed]\\n\", \"Telecommuting has long been promoted as a way to substantially increase employee productivity. In 2012-2103, an experiment conducted using 242 employees of Ctrip, a large Chinese travel agency, by professors at Stanford and Beijing University found that employees randomly assigned to work at home for 9 months increased their output by 13.5% versus the office-based control group. This improvement in output arose from working 9% more hours from saved commuting time and from 3.5% improved efficiency from quieter working conditions. The study also found that home-workers reported significantly higher job-satisfaction scores and their quit rates fell by almost 50%. However, home workers' promotion rates dropped by half due to apparent performance declines, indicating a potential career cost of home-working.[63]\\n\", \"Since work hours are less regulated in telework, employee effort and dedication are far more likely to be measured purely in terms of output or results. Fewer, if any, traces of non-productive work activities (research, self-training, dealing with technical problems or equipment failures) and time lost on unsuccessful attempts (early drafts, fruitless endeavors, abortive innovations) are visible to employers. Piece rate, commissions, or other performance-based compensation also become more likely for telecommuters. Furthermore, major chunks of per-employee expenses are absorbed by the telecommuter himself – from simple coffee, water, electricity, and telecommunications services, to huge capital expenses like office equipment or software licenses. Thus, hours spent on the job tend to be underestimated and expenses under-reported, creating overly optimistic figures of productivity gains and savings, some or all of those in fact coming out of the telecommuter's time and pocket.[64]\\n\", 'Turnover intention, or the desire to leave the organization, is lower for teleworkers.[34] Those teleworkers who experienced greater professional isolation actually had lower turnover intent.[47] One study found that by increasing feedback and task identity through clear communication of goals, objectives, and expectations, turnover intent decreased in teleworkers and quality of work output increased.[65]\\n', \"A 2007 meta-analysis of 46 studies of telecommuting involving 12,833 employees conducted by Ravi Gajendran and David A. Harrison in the Journal of Applied Psychology, published by the American Psychological Association (APA), found that telecommuting has largely positive consequences for employees and employers.[66][34] In their meta-analytic study, Gajendran and Harrison found that telecommuting had modest but beneficial effects on employees' job satisfaction, perceived autonomy, stress levels, manager-rated job performance, and (lower) work-family conflict. Telecommuting also reduces turnover intent, or the intention to quit one's job. Increased job satisfaction, decreased turnover intent and role stress related to telecommuting partly because of a decrease in work-family conflict. Additionally, the increase in autonomy from teleworking in turn increases job satisfaction.[citation needed]\\n\", \"Although a number of scholars and managers had previously expressed fears that employee careers might suffer and workplace relationships might be damaged because of telecommuting, the meta-analysis found that there are no generally detrimental effects on the quality of workplace relationships and career outcomes. Telecommuting actually was found to positively affect employee-supervisor relations and the relationship between job satisfaction and turnover intent was in part due to supervisor relationship quality. Only high-intensity telecommuting (where employees work from home for more than 2.5 days a week) harmed employee relationships with co-workers, even though it did reduce work-family conflict. A factor analysis showed the overall distribution of people's experiences and how the advantages and disadvantages of WFH during the early weeks of the pandemic in Europe can be grouped into six key factors. The results indicated that most people had a more positive rather than negative experience of WFH during lockdown. Three factors represent the main advantages of WFH: (i) work–life balance, (ii) improved work efficiency and (iii) greater work control. The main disadvantages were (iv) home office constraints, (v) work uncertainties and (vi) inadequate tools.[67]\\n\", \"Skill variety has the strongest relationship with internal work motivation.[31] Jobs that allow workers to use a variety of skills increase workers' internal work motivation. If teleworkers are limited in teamwork opportunities and have fewer opportunities to use a variety of skills,[43] they may have lower internal motivation towards their work. Also, perceived social isolation can lead to less motivation.[62]\\n\", 'Though working in an office has its distractions, it is often argued that telecommuting involves even greater distractions. According to one study, children are ranked as the number one distractions, followed by spouses, pets, neighbors, and solicitors. The lack of proper tools and facilities also serves as a major distraction,[68] though this can be mitigated by using short-term coworking rental facilities. Also, some countries such as Romania have tasked the national labour inspectorate the burden of carrying out checks at teleworkers’ residences to see if the work environment meets the requirements.[69]\\n', 'Face-to-face interactions increase interpersonal contact, connectedness, and trust[47] Therefore, 54% of teleworkers thought they lost out on social interaction and 52.5% felt they lost out on professional interaction in a 2012 study.[62] Teleworking can hurt working relationships between the teleworker and their coworkers, especially if their coworkers do not telework. Coworkers who do not telework can feel resentful and jealous because they may consider it unfair if they are not allowed to telework as well.[34][45] However, despite fewer interpersonal actions and professional isolation,[47] a meta-analysis of telecommuting did not find support for negative telecommuter-coworker relationships or telecommuter-supervisor relationships.[34]\\n', 'Employees who telework may feel pressure to produce more output in order to be seen as valuable, and reduce the idea that they are doing less work than others. This pressure to produce output, as well as a lack of social support from limited coworker relationships and feelings of isolation, leads to lower job engagement in teleworkers.[33] Additionally, higher-quality relationships with teammates decreased job satisfaction of teleworkers, potentially because of frustrations with exchanging interactions via technology.[70] However, coworker support and virtual social groups for team building had a direct influence on increasing job satisfaction,[61][65] perhaps due to an increase in skill variety from teamwork and an increase in task significance from more working relationships.\\n', 'The inconsistent findings regarding telework and satisfaction may be explained by a more complicated relationship. Presumably because of the effects of autonomy, initial job satisfaction increases as the amount of telecommuting increases; however, as the individual telecommutes more, declines in feedback and task significance lead job satisfaction to level off and decrease slightly.[71] Thus, the amount of time teleworking influences the relationship between telework and job satisfaction. Barriers to the continued growth of telecommuting include distrust from employers and personal disconnectedness for employees.[72]\\n', 'Communication and getting to know other teammates happen naturally when everyone works in the same space, so in the telework circumstance, employees and supervisors have to work harder to maintain relationships with co-workers. This is especially important for new employees so that they learn organizational habits even when working remotely.[73]\\n', 'Being remote can also distance people from each other and transfer important conversations to chat and email.[74] An isolation from daily activities arise of the company and may be less aware of other things going on to the company and a possible hatred from other employees arises from other employees who do not telecommute.\\n', 'Sharing information within an organization and teams can become more challenging when working remotely. While in the office, teams naturally share information and knowledge when they meet each other, for example, during coffee breaks. Sharing information requires more effort and proactive action when random-encounters do not happen.[74] The sharing of tacit information also often takes place in unplanned situations where employees follow the activities of more experienced team members.[75]\\n', \"When teams are working remotely, it may also be difficult to obtain timely information, unless the regular sharing of information is taken care of separately. The situation where team members don't know enough about what others are doing can lead them to make worse decisions or slow down decision-making.\\n\", 'Employees need training, tools, and technologies for remote work. Remote work poses cyber security risks and people should follow best practices that include using antivirus software, keeping family members away from work devices, covering their webcams, using a VPN, using a centralized storage solution, making sure passwords are strong and secure, and being wary of email scams and email security.[76]\\n', 'In 2021, Vermont, South Carolina, South Dakota, Alabama, and Nebraska were named as the top 5 safest states for telecommuters based on data breaches, stolen records, privacy laws, victim count, and victim loss.[77]\\n', 'Managers may view the teleworker as experiencing a drop in productivity during the first few months. This drop occurs as \"the employee, his peers, and the manager adjust to the new work regimen\".[78] The drop could also be due to inadequate office setup. Additionally, a 1999 study claimed that \"70 minutes of each day in a regular office are wasted by interruptions, yakking around the photocopier, and other distractions\".[79] Over the long term, though, surveys found that the productivity of the teleworker will climb; over two-thirds of employers report increased productivity among telecommuters, according to a 2008 survey.[80] Traditional line managers are accustomed to managing by observation and not necessarily by results. This causes a serious obstacle in organizations attempting to adopt telecommuting. Liability and workers\\' compensation can become serious issues as well.[81] Weaker relationships between job dimensions and job outcomes, such as job performance and absenteeism,[32] may explain why the results regarding performance and telework are conflicting. Some studies have found that telework increases productivity in workers[82] and leads to higher supervisor ratings of performance and higher performance appraisals.[34] However, another study found that professional isolation in teleworkers led to a decrease in job performance, especially for those who spent more time teleworking and engaged in fewer face-to-face interactions.[47] Thus, similar to job attitudes, the amount of time spent teleworking may also influence the relationship between telework and job performance.\\n', 'From an anthropological perspective, it has been reported that teleworking can interfere with the process of sensemaking (the forging of consensus or of a common worldview).[83]\\n', 'Most US remote workers do not understand the tax implications of working remotely in another state.[84][85]\\n', 'According to a 2021 report by the World Health Organization and the International Labour Organization the expansion of teleworking, if it increases working time to over 55 hours per week, could potentially increase health loss among workers.[86]\\n']\n"
     ]
    }
   ],
   "source": [
    "print(data)"
   ]
  },
  {
   "cell_type": "code",
   "execution_count": 35,
   "id": "7c070720",
   "metadata": {},
   "outputs": [
    {
     "data": {
      "text/plain": [
       "55"
      ]
     },
     "execution_count": 35,
     "metadata": {},
     "output_type": "execute_result"
    }
   ],
   "source": [
    "len(data)"
   ]
  },
  {
   "cell_type": "code",
   "execution_count": null,
   "id": "bac51f78",
   "metadata": {},
   "outputs": [],
   "source": []
  },
  {
   "cell_type": "code",
   "execution_count": 38,
   "id": "bcc462a5",
   "metadata": {},
   "outputs": [],
   "source": [
    "#data = df.values.tolist()\n",
    "#data"
   ]
  },
  {
   "cell_type": "code",
   "execution_count": 39,
   "id": "b43624ce",
   "metadata": {},
   "outputs": [],
   "source": [
    "import re"
   ]
  },
  {
   "cell_type": "code",
   "execution_count": 45,
   "id": "2f874e90",
   "metadata": {},
   "outputs": [
    {
     "name": "stderr",
     "output_type": "stream",
     "text": [
      "<>:1: DeprecationWarning: invalid escape sequence \\S\n",
      "<>:1: DeprecationWarning: invalid escape sequence \\S\n",
      "C:\\Users\\monis\\AppData\\Local\\Temp/ipykernel_19264/3645447219.py:1: DeprecationWarning: invalid escape sequence \\S\n",
      "  data =[re.sub('\\S*@\\S*\\s?', '', sent) for sent in data]\n"
     ]
    }
   ],
   "source": [
    "\n",
    "data =[re.sub('\\S*@\\S*\\s?', '', sent) for sent in data]"
   ]
  },
  {
   "cell_type": "code",
   "execution_count": 41,
   "id": "054c7651",
   "metadata": {},
   "outputs": [
    {
     "name": "stdout",
     "output_type": "stream",
     "text": [
      "Requirement already satisfied: regex in c:\\users\\monis\\anaconda3\\lib\\site-packages (2021.8.3)\n"
     ]
    }
   ],
   "source": [
    "!pip install regex"
   ]
  },
  {
   "cell_type": "code",
   "execution_count": 42,
   "id": "33ecd588",
   "metadata": {},
   "outputs": [],
   "source": [
    "import regex as re"
   ]
  },
  {
   "cell_type": "code",
   "execution_count": 46,
   "id": "db8dab99",
   "metadata": {},
   "outputs": [
    {
     "name": "stderr",
     "output_type": "stream",
     "text": [
      "<>:1: DeprecationWarning: invalid escape sequence \\s\n",
      "<>:1: DeprecationWarning: invalid escape sequence \\s\n",
      "C:\\Users\\monis\\AppData\\Local\\Temp/ipykernel_19264/3500838521.py:1: DeprecationWarning: invalid escape sequence \\s\n",
      "  data = [re.sub('\\s+', ' ', sent) for sent in data]\n"
     ]
    },
    {
     "data": {
      "text/plain": [
       "[' ',\n",
       " 'Remote work, also called distance working, telework, teleworking, working from home (WFH), mobile work, remote job, and work from anywhere (WFA)[1] is an employment arrangement in which employees do not commute to a central place of work, such as an office building, warehouse, or retail store. It is facilitated by technology such as collaborative software, virtual private networks, conference calling, videotelephony, internet access, cloud computing, voice over IP (VoIP), mobile telecommunications technology such as a Wi-Fi-equipped laptop or tablet computers, smartphones, and desktop computers. It can be efficient and useful for companies since it allows workers to communicate over long distances, saving significant amounts of travel time and cost. Common software used for remote work include Zoom, Cisco Webex, Microsoft Teams, Google Meet, Slack, and WhatsApp. ',\n",
       " 'In the early 1970s, technology was developed that linked satellite offices to downtown mainframes through dumb terminals using telephone lines as a network bridge. The terms \"telecommuting\" and \"telework\" were coined by Jack Nilles in 1973.[2][3] In 1979, five IBM employees were allowed to work from home as an experiment. By 1983, the experiment was expanded to 2,000 people. By the early 1980s, branch offices and home workers were able to connect to organizational mainframes using personal computers and terminal emulators. ',\n",
       " 'In 1995, the motto that \"work is something you do, not something you travel to\" was coined.[4] Variations of this motto include: \"Work is what we do, not where we are.\"[5] During the Information Age, many startups were founded in the houses of entrepreneurs who lacked financial resources. ',\n",
       " 'Since the 1980s, the normalization of remote work has been on a steady incline. For example, the number of Americans working from home grew by 4 million from 2003 to 2006,[6] and by 1983 academics were beginning to experiment with online conferencing.[7] ',\n",
       " 'During the COVID-19 pandemic, millions of workers were forced to start remote working for the first time.[8] Many students were forced to switch to distance education.[9] Many companies have mandated employees work from home either temporarily or permanently.[10][11][12] Some companies paid for home office equipment.[13] ',\n",
       " 'According to a Gallup poll in September 2021, 45% of full-time U.S. employees worked from home, including 25% who worked from home all of the time and 20% who worked from home part of the time.[14] ',\n",
       " 'In 2020, 12.3% of employed persons, including 13.2% of women and 11.5% of men, in the European Union who were aged 15–64, usually worked from home. By country, the percentage of workers that worked from home was highest in Finland (25.1%), Luxembourg (23.1%), Ireland (21.5%), Austria (18.1%), and the Netherlands (17.8%) and lowest in Bulgaria (1.2%), Romania (2.5%), Croatia (3.1%), Hungary (3.6%), and Latvia (4.5%).[15] ',\n",
       " 'In 2021, in the US 91% of people who work from home said they would like to continue to work remotely in the future. In Gallups September 2021 study, 54% of workers said they believed that their companys culture would be unchanged by remote work, while 12% believed it would improve and 33% predicted it would deteriorate. ',\n",
       " 'The United States Government publishes a guide to telework for employees of the Federal government.[16] ',\n",
       " 'US federal law, most notably the Telework Enhancement Act of 2010, requires each Executive agency to establish a telecommuting policy allowing eligible employees to participate in telecommuting to the maximum extent possible, so long as the employees performance is not diminished.[17][18][19] ',\n",
       " 'Telework is not an employee right, i.e., Federal law mandates that agencies must establish telework programs, but does not give individual employees a legal right to telework.[20] ',\n",
       " 'According to the United States Office of Personnel Management, in fiscal 2020, 50% of all federal workers were eligible to work remotely and agencies saved more than $180 million because of telework in fiscal 2020.[21] ',\n",
       " 'Researchers from the University of Washington and the University of Tennessee Knoxville proposed a tweeting frequency-based algorithm to measure work engagement during the COVID-19 pandemic.[22] They found people demonstrated the highest work engagements at 10:00-10:59 am, and the lowest at 11:00 am–12:00 pm when working from home.[22] ',\n",
       " 'Telecommuting has been adopted by many businesses, governments and not-for-profit organizations. Organizations may use telecommuting to reduce costs. Telecommuting employees do not require an office or cubicle, a space which needs to be rented or purchased, and incurs additional costs such as lighting and climate control. Some organizations adopt telecommuting to improve workers quality of life, as teleworking typically reduces commuting time and time stuck in traffic congestion. Teleworking may make it easier for workers to balance their work responsibilities with their personal life and family roles (e.g., caring for children or elderly parents). Some organizations adopt teleworking for environmental reasons, as telework can reduce traffic congestion and air pollution, with fewer cars on the roads.[23] ',\n",
       " 'The technology to communicate is not advanced enough to replicate face-to-face office interactions. Room for mistakes and miscommunication can increase. According to media richness theory, face-to-face interactions provide the capacity to process rich information: ambiguous issues can be clarified, immediate feedback can be provided, and there is personalized communication (e.g. body language, tone of voice).[24] Telecommuting requires the use of various types of media to communicate, such as the telephone and email. Emails have a time lag that does not allow for immediate feedback; telephone conversations make it harder to decipher the emotions of the person or team on the phone; and both of these forms of communication do not allow one to see the other person.[25] Typical organization communication patterns are thus altered in telecommuting. For instance, teams using computer-mediated communication with computer conferencing take longer to make group decisions than face-to-face groups.[26] ',\n",
       " 'Workers tend to be satisfied with face-to-face interactions, phone conversations, and in-person departmental meetings to receive communications, but email and the Internet do not add to their communication satisfaction.[27] This suggests that teleworking may not have the components for \"rich communication\" compared to face-to-face interactions, although one study found that virtual workers in a team were more satisfied with their technology-mediated communication than their in-person office communication.[28] ',\n",
       " 'According to job characteristic theory, changes in autonomy and feedback, which are affected by remote work status, influence work behaviors and attitudes more than a change in skill variety, task identity, or task significance.[29] If five characteristics of a job are present (skill variety, task identity, task significance, autonomy, and feedback), then the employee in that job will experience more internal work motivation, satisfaction with personal growth opportunities, general job satisfaction, higher job performance, and lower absenteeism and turnover.[29][30] Many studies have provided evidence that job characteristics influence employees behaviors and attitudes.[31] Additionally, job characteristics can interact with individual differences to impact employee attitudes and behavior.[30][32] Of these five job characteristics, telework specifically changes autonomy and feedback compared to face-to-face work and can thus influence employees behaviors and attitudes. ',\n",
       " 'Autonomy influences experienced responsibility such that if the job provides freedom, independence, and scheduling flexibility, the individual should feel responsible for his or her work outcomes. Telework provides flexibility in scheduling and freedom because being outside the office gives the worker more choices. Teleworkers do not have to stick to office routines and can shift work to different times of day.[33] Telework allows employees the freedom to choose where they work, when they work and even what they wear to work to allow their best work.[34] Teleworkers may experience more responsibility to the extent that they feel in control and accountable for their work.[32] The autonomy of telework allows for lower work-family conflict.[35] Teleworking provides the freedom to arrange work to avoid family conflicts. Increased control over life demands[36] is one of its main attractions. The level of autonomy in telework felt by the employee depends on a variety of factors, including scheduling flexibility and the household size.[36] In addition to reducing work-family conflict, conflicts with activities are also reduced. Increased freedom and fewer time restrictions allow workers to participate more in recreational activities, whether social or physical.[34] However, studies also show that autonomy must be balanced with high levels of discipline if a healthy work/leisure balance is to be maintained.[37] ',\n",
       " 'Feedback increases employees knowledge of results. Feedback refers to the degree that an individual receives direct and clear information about his or her performance related to work activities.[30] Feedback is particularly important so that the employees continuously learn about how they are performing.[32] Electronic communication provides fewer cues for teleworkers and thus, they may have more difficulties interpreting and gaining information, and subsequently, receiving feedback.[33] When a worker is not in the office, there is limited information and greater ambiguity, such as in assignments and expectations.[38] Role ambiguity, when situations have unclear expectations as to what the worker is to do,[39] may result in greater conflict, frustration, and exhaustion.[33] ',\n",
       " 'In other studies regarding Job Characteristics Theory, job feedback seemed to have the strongest relationship with overall job satisfaction compared to other job characteristics.[31] While teleworking, communication is not as immediate or rich as face-to-face interactions.[24] Less feedback when teleworking is associated with lower job engagement.[33] Thus, when perceived supervisor support and relationship quality between leaders and teleworkers decreases, job satisfaction of the teleworker decreases.[36][40] The importance of manager communication with teleworkers is made clear in a study that found that individuals have lower job satisfaction when their managers telework.[38] ',\n",
       " 'Communication personalized for individual needs is important for feedback interactions.[41] People differ in their need for communication and their level of social connectedness to their environment, partially because of personality and temperament differences.[42] Although the level of communication may decrease for teleworkers, satisfaction with this level of communication can be higher in some samples, like those who are more tenured and have functional instead of social relationships.[28] Feedback and communication can also be affected by a managers location. The clarity, speed of response, richness of the communication, frequency, and quality of the feedback are often reduced when managers telework.[38] ',\n",
       " 'Three of the five job attributes: skill variety, task identity, and task significance, influence how much employees think their jobs are meaningful.[32] Skill variety is the degree of activities and skills that a job requires in order to complete a task. An increase in skill variety is thought to increase the challenge of the job. Increasing the challenge of the job increases the individuals experienced meaningfulness, how much the individual cares about work, and finds it worthwhile.[29][32] Telework may not directly affect skill variety and task meaningfulness for the individual compared to when he or she worked in an office; however, skill variety and meaningfulness of individual tasks can increase when working in a group. If the work done at home is focused on the individual rather than the team, there may be fewer opportunities to use a variety of skills.[43] ',\n",
       " 'Task identity is the degree that the individual sees work from beginning to end or completes an identifiable or whole piece of work rather than only a small piece. Task significance is the degree that the individual feels his or her work has a substantial impact on the lives or work of other people within the organization or outside the organization.[32][43] Telework may not change the job characteristics of skill variety, task identity, and task significance compared to working in an office; however, the presence of these characteristics will influence teleworkers work outcomes and attitudes. ',\n",
       " 'Individuals may differ in their reactions to the job characteristics in remote working. According to job characteristics theory, the personal need for accomplishment and development (\"growth need strength\")[30] influences how much an individual will react to the job dimensions of telecommuting. For instance, those individuals high in \"growth need strength\" will have a more positive reaction to increased autonomy and a more negative reaction to decreased feedback in telecommuting than those individuals low in \"growth need strength\". ',\n",
       " 'Motivator-hygiene theory[44] differentiates between motivating factors (motivators) and dissatisfying factors (hygienes). Factors that are motivators such as recognition and career advancement may be lessened with telework. When teleworkers are not physically present, they may be \"out of sight, out of mind\" to other workers in the office.[45] ',\n",
       " 'Additionally, telework may not always be seen positively by management due to fear of loss of managerial control.[46] ',\n",
       " 'A 2008 study found that more time spent telecommuting decreased the perception of productivity of the teleworker in the eyes of management.[47] ',\n",
       " 'Social information processing suggests that individuals give meaning to job characteristics.[48] Individuals have the ability to construct their own perception of the environment by interpreting social cues.[49] This social information comes from overt statements from coworkers, cognitive evaluations of the job or task dimensions, and previous behaviors. This social context can affect individuals beliefs about the nature of the job, the expectations for individual behavior, and the potential consequences of behavior, especially in uncertain situations.[49] In telework, there are fewer social cues because social exchange and personalized communication takes longer to process in computer-mediated communication than face-to-face interactions.[50] ',\n",
       " 'Sociotechnical systems (STS) theory explains the interaction between social and technological factors. STS examines the relationships between people, technology, and the work environment to design work in a way that enhances job satisfaction and increases productivity.[51] Originally developed to explain the paradox of improved technology but decreased productivity,[52] the theory can be applied to the design of telework. One of the principles of STS is minimal critical specification.[53] This principle states that, unless absolutely essential, there should be minimal specification of objectives and how to do tasks in order to avoid closing options or inhibiting effective actions. Telecommuting provides teleworkers with the freedom to decide how and when to do their tasks.[34] Similarly, teleworkers have the responsibility to use their equipment and resources to carry out their responsibilities. This increase in responsibility for their work also increases their power,[53] supporting the idea that teleworking is a privilege and in some companies, considered a promotion.[45] ',\n",
       " 'Adaptive structuration theory studies variations in organizations as new technologies are introduced[54] Adaptive structural theory proposes that structures (general rules and resources offered by the technology) can differ from structuration (how people actually use these rules and resources).[51] There is an interplay between the intended use of technology and the way that people use the technology. Telecommuting provides a social structure that enables and constrains certain interactions.[55] For instance, in office settings, the norm may be to interact with others face-to-face. To accomplish interpersonal exchange in telecommuting, other forms of interaction need to be used. AST suggests that when technologies are used over time, the rules and resources for social interactions will change.[54] Teleworking may alter traditional work practices,[51] such as switching from primarily face-to-face communication to electronic communication. ',\n",
       " 'Most studies find that remote work overall results in a decrease in energy use due to less time spend on energy-intensive personal transportation.[56] Remote work has also led to cleaner air.[57] ',\n",
       " 'During the COVID-19 lockdowns, the increase in remote work led to a decrease in global CO2 emissions.[58] ',\n",
       " 'However, the increase in remote work has led to people moving out of cities to larger homes that had room for home offices.[59] ',\n",
       " 'According to the job characteristic theory, the relationship between characteristics of the job and job satisfaction was moderately strong.[60] Of the five task characteristics, autonomy has a strong relationship with job satisfaction such that greater autonomy leads to greater job satisfaction.[60] Teleworkers may have increased satisfaction due to the flexibility and autonomy their jobs provide. Teleworkers were found to have higher satisfaction than office based workers.[61][45] It was found that autonomy increased teleworkers satisfaction by reducing work-family conflicts,[36][62] especially when workers were allowed to work outside traditional work hours and be more flexible for family purposes.[38] Providing the option to work remotely or adopting a hybrid work schedule has been an incentivizing benefit companies use to capture talent.[citation needed] Additionally, autonomy explained an increase in employee engagement when the amount of time spent teleworking increased.[33] Furthermore, a 2016 study from FlexJobs that surveyed over 3,000 people found that 81% of respondents also said they would be more loyal to their employers if they had flexible work options.[citation needed] ',\n",
       " 'Telecommuting has long been promoted as a way to substantially increase employee productivity. In 2012-2103, an experiment conducted using 242 employees of Ctrip, a large Chinese travel agency, by professors at Stanford and Beijing University found that employees randomly assigned to work at home for 9 months increased their output by 13.5% versus the office-based control group. This improvement in output arose from working 9% more hours from saved commuting time and from 3.5% improved efficiency from quieter working conditions. The study also found that home-workers reported significantly higher job-satisfaction scores and their quit rates fell by almost 50%. However, home workers promotion rates dropped by half due to apparent performance declines, indicating a potential career cost of home-working.[63] ',\n",
       " 'Since work hours are less regulated in telework, employee effort and dedication are far more likely to be measured purely in terms of output or results. Fewer, if any, traces of non-productive work activities (research, self-training, dealing with technical problems or equipment failures) and time lost on unsuccessful attempts (early drafts, fruitless endeavors, abortive innovations) are visible to employers. Piece rate, commissions, or other performance-based compensation also become more likely for telecommuters. Furthermore, major chunks of per-employee expenses are absorbed by the telecommuter himself – from simple coffee, water, electricity, and telecommunications services, to huge capital expenses like office equipment or software licenses. Thus, hours spent on the job tend to be underestimated and expenses under-reported, creating overly optimistic figures of productivity gains and savings, some or all of those in fact coming out of the telecommuters time and pocket.[64] ',\n",
       " 'Turnover intention, or the desire to leave the organization, is lower for teleworkers.[34] Those teleworkers who experienced greater professional isolation actually had lower turnover intent.[47] One study found that by increasing feedback and task identity through clear communication of goals, objectives, and expectations, turnover intent decreased in teleworkers and quality of work output increased.[65] ',\n",
       " 'A 2007 meta-analysis of 46 studies of telecommuting involving 12,833 employees conducted by Ravi Gajendran and David A. Harrison in the Journal of Applied Psychology, published by the American Psychological Association (APA), found that telecommuting has largely positive consequences for employees and employers.[66][34] In their meta-analytic study, Gajendran and Harrison found that telecommuting had modest but beneficial effects on employees job satisfaction, perceived autonomy, stress levels, manager-rated job performance, and (lower) work-family conflict. Telecommuting also reduces turnover intent, or the intention to quit ones job. Increased job satisfaction, decreased turnover intent and role stress related to telecommuting partly because of a decrease in work-family conflict. Additionally, the increase in autonomy from teleworking in turn increases job satisfaction.[citation needed] ',\n",
       " 'Although a number of scholars and managers had previously expressed fears that employee careers might suffer and workplace relationships might be damaged because of telecommuting, the meta-analysis found that there are no generally detrimental effects on the quality of workplace relationships and career outcomes. Telecommuting actually was found to positively affect employee-supervisor relations and the relationship between job satisfaction and turnover intent was in part due to supervisor relationship quality. Only high-intensity telecommuting (where employees work from home for more than 2.5 days a week) harmed employee relationships with co-workers, even though it did reduce work-family conflict. A factor analysis showed the overall distribution of peoples experiences and how the advantages and disadvantages of WFH during the early weeks of the pandemic in Europe can be grouped into six key factors. The results indicated that most people had a more positive rather than negative experience of WFH during lockdown. Three factors represent the main advantages of WFH: (i) work–life balance, (ii) improved work efficiency and (iii) greater work control. The main disadvantages were (iv) home office constraints, (v) work uncertainties and (vi) inadequate tools.[67] ',\n",
       " 'Skill variety has the strongest relationship with internal work motivation.[31] Jobs that allow workers to use a variety of skills increase workers internal work motivation. If teleworkers are limited in teamwork opportunities and have fewer opportunities to use a variety of skills,[43] they may have lower internal motivation towards their work. Also, perceived social isolation can lead to less motivation.[62] ',\n",
       " 'Though working in an office has its distractions, it is often argued that telecommuting involves even greater distractions. According to one study, children are ranked as the number one distractions, followed by spouses, pets, neighbors, and solicitors. The lack of proper tools and facilities also serves as a major distraction,[68] though this can be mitigated by using short-term coworking rental facilities. Also, some countries such as Romania have tasked the national labour inspectorate the burden of carrying out checks at teleworkers’ residences to see if the work environment meets the requirements.[69] ',\n",
       " 'Face-to-face interactions increase interpersonal contact, connectedness, and trust[47] Therefore, 54% of teleworkers thought they lost out on social interaction and 52.5% felt they lost out on professional interaction in a 2012 study.[62] Teleworking can hurt working relationships between the teleworker and their coworkers, especially if their coworkers do not telework. Coworkers who do not telework can feel resentful and jealous because they may consider it unfair if they are not allowed to telework as well.[34][45] However, despite fewer interpersonal actions and professional isolation,[47] a meta-analysis of telecommuting did not find support for negative telecommuter-coworker relationships or telecommuter-supervisor relationships.[34] ',\n",
       " 'Employees who telework may feel pressure to produce more output in order to be seen as valuable, and reduce the idea that they are doing less work than others. This pressure to produce output, as well as a lack of social support from limited coworker relationships and feelings of isolation, leads to lower job engagement in teleworkers.[33] Additionally, higher-quality relationships with teammates decreased job satisfaction of teleworkers, potentially because of frustrations with exchanging interactions via technology.[70] However, coworker support and virtual social groups for team building had a direct influence on increasing job satisfaction,[61][65] perhaps due to an increase in skill variety from teamwork and an increase in task significance from more working relationships. ',\n",
       " 'The inconsistent findings regarding telework and satisfaction may be explained by a more complicated relationship. Presumably because of the effects of autonomy, initial job satisfaction increases as the amount of telecommuting increases; however, as the individual telecommutes more, declines in feedback and task significance lead job satisfaction to level off and decrease slightly.[71] Thus, the amount of time teleworking influences the relationship between telework and job satisfaction. Barriers to the continued growth of telecommuting include distrust from employers and personal disconnectedness for employees.[72] ',\n",
       " 'Communication and getting to know other teammates happen naturally when everyone works in the same space, so in the telework circumstance, employees and supervisors have to work harder to maintain relationships with co-workers. This is especially important for new employees so that they learn organizational habits even when working remotely.[73] ',\n",
       " 'Being remote can also distance people from each other and transfer important conversations to chat and email.[74] An isolation from daily activities arise of the company and may be less aware of other things going on to the company and a possible hatred from other employees arises from other employees who do not telecommute. ',\n",
       " 'Sharing information within an organization and teams can become more challenging when working remotely. While in the office, teams naturally share information and knowledge when they meet each other, for example, during coffee breaks. Sharing information requires more effort and proactive action when random-encounters do not happen.[74] The sharing of tacit information also often takes place in unplanned situations where employees follow the activities of more experienced team members.[75] ',\n",
       " 'When teams are working remotely, it may also be difficult to obtain timely information, unless the regular sharing of information is taken care of separately. The situation where team members dont know enough about what others are doing can lead them to make worse decisions or slow down decision-making. ',\n",
       " 'Employees need training, tools, and technologies for remote work. Remote work poses cyber security risks and people should follow best practices that include using antivirus software, keeping family members away from work devices, covering their webcams, using a VPN, using a centralized storage solution, making sure passwords are strong and secure, and being wary of email scams and email security.[76] ',\n",
       " 'In 2021, Vermont, South Carolina, South Dakota, Alabama, and Nebraska were named as the top 5 safest states for telecommuters based on data breaches, stolen records, privacy laws, victim count, and victim loss.[77] ',\n",
       " 'Managers may view the teleworker as experiencing a drop in productivity during the first few months. This drop occurs as \"the employee, his peers, and the manager adjust to the new work regimen\".[78] The drop could also be due to inadequate office setup. Additionally, a 1999 study claimed that \"70 minutes of each day in a regular office are wasted by interruptions, yakking around the photocopier, and other distractions\".[79] Over the long term, though, surveys found that the productivity of the teleworker will climb; over two-thirds of employers report increased productivity among telecommuters, according to a 2008 survey.[80] Traditional line managers are accustomed to managing by observation and not necessarily by results. This causes a serious obstacle in organizations attempting to adopt telecommuting. Liability and workers compensation can become serious issues as well.[81] Weaker relationships between job dimensions and job outcomes, such as job performance and absenteeism,[32] may explain why the results regarding performance and telework are conflicting. Some studies have found that telework increases productivity in workers[82] and leads to higher supervisor ratings of performance and higher performance appraisals.[34] However, another study found that professional isolation in teleworkers led to a decrease in job performance, especially for those who spent more time teleworking and engaged in fewer face-to-face interactions.[47] Thus, similar to job attitudes, the amount of time spent teleworking may also influence the relationship between telework and job performance. ',\n",
       " 'From an anthropological perspective, it has been reported that teleworking can interfere with the process of sensemaking (the forging of consensus or of a common worldview).[83] ',\n",
       " 'Most US remote workers do not understand the tax implications of working remotely in another state.[84][85] ',\n",
       " 'According to a 2021 report by the World Health Organization and the International Labour Organization the expansion of teleworking, if it increases working time to over 55 hours per week, could potentially increase health loss among workers.[86] ']"
      ]
     },
     "execution_count": 46,
     "metadata": {},
     "output_type": "execute_result"
    }
   ],
   "source": [
    "data = [re.sub('\\s+', ' ', sent) for sent in data]\n",
    "data\n"
   ]
  },
  {
   "cell_type": "code",
   "execution_count": 48,
   "id": "762fb3b4",
   "metadata": {},
   "outputs": [
    {
     "data": {
      "text/plain": [
       "[' ',\n",
       " 'Remote work, also called distance working, telework, teleworking, working from home (WFH), mobile work, remote job, and work from anywhere (WFA)[1] is an employment arrangement in which employees do not commute to a central place of work, such as an office building, warehouse, or retail store. It is facilitated by technology such as collaborative software, virtual private networks, conference calling, videotelephony, internet access, cloud computing, voice over IP (VoIP), mobile telecommunications technology such as a Wi-Fi-equipped laptop or tablet computers, smartphones, and desktop computers. It can be efficient and useful for companies since it allows workers to communicate over long distances, saving significant amounts of travel time and cost. Common software used for remote work include Zoom, Cisco Webex, Microsoft Teams, Google Meet, Slack, and WhatsApp. ',\n",
       " 'In the early 1970s, technology was developed that linked satellite offices to downtown mainframes through dumb terminals using telephone lines as a network bridge. The terms \"telecommuting\" and \"telework\" were coined by Jack Nilles in 1973.[2][3] In 1979, five IBM employees were allowed to work from home as an experiment. By 1983, the experiment was expanded to 2,000 people. By the early 1980s, branch offices and home workers were able to connect to organizational mainframes using personal computers and terminal emulators. ',\n",
       " 'In 1995, the motto that \"work is something you do, not something you travel to\" was coined.[4] Variations of this motto include: \"Work is what we do, not where we are.\"[5] During the Information Age, many startups were founded in the houses of entrepreneurs who lacked financial resources. ',\n",
       " 'Since the 1980s, the normalization of remote work has been on a steady incline. For example, the number of Americans working from home grew by 4 million from 2003 to 2006,[6] and by 1983 academics were beginning to experiment with online conferencing.[7] ',\n",
       " 'During the COVID-19 pandemic, millions of workers were forced to start remote working for the first time.[8] Many students were forced to switch to distance education.[9] Many companies have mandated employees work from home either temporarily or permanently.[10][11][12] Some companies paid for home office equipment.[13] ',\n",
       " 'According to a Gallup poll in September 2021, 45% of full-time U.S. employees worked from home, including 25% who worked from home all of the time and 20% who worked from home part of the time.[14] ',\n",
       " 'In 2020, 12.3% of employed persons, including 13.2% of women and 11.5% of men, in the European Union who were aged 15–64, usually worked from home. By country, the percentage of workers that worked from home was highest in Finland (25.1%), Luxembourg (23.1%), Ireland (21.5%), Austria (18.1%), and the Netherlands (17.8%) and lowest in Bulgaria (1.2%), Romania (2.5%), Croatia (3.1%), Hungary (3.6%), and Latvia (4.5%).[15] ',\n",
       " 'In 2021, in the US 91% of people who work from home said they would like to continue to work remotely in the future. In Gallups September 2021 study, 54% of workers said they believed that their companys culture would be unchanged by remote work, while 12% believed it would improve and 33% predicted it would deteriorate. ',\n",
       " 'The United States Government publishes a guide to telework for employees of the Federal government.[16] ',\n",
       " 'US federal law, most notably the Telework Enhancement Act of 2010, requires each Executive agency to establish a telecommuting policy allowing eligible employees to participate in telecommuting to the maximum extent possible, so long as the employees performance is not diminished.[17][18][19] ',\n",
       " 'Telework is not an employee right, i.e., Federal law mandates that agencies must establish telework programs, but does not give individual employees a legal right to telework.[20] ',\n",
       " 'According to the United States Office of Personnel Management, in fiscal 2020, 50% of all federal workers were eligible to work remotely and agencies saved more than $180 million because of telework in fiscal 2020.[21] ',\n",
       " 'Researchers from the University of Washington and the University of Tennessee Knoxville proposed a tweeting frequency-based algorithm to measure work engagement during the COVID-19 pandemic.[22] They found people demonstrated the highest work engagements at 10:00-10:59 am, and the lowest at 11:00 am–12:00 pm when working from home.[22] ',\n",
       " 'Telecommuting has been adopted by many businesses, governments and not-for-profit organizations. Organizations may use telecommuting to reduce costs. Telecommuting employees do not require an office or cubicle, a space which needs to be rented or purchased, and incurs additional costs such as lighting and climate control. Some organizations adopt telecommuting to improve workers quality of life, as teleworking typically reduces commuting time and time stuck in traffic congestion. Teleworking may make it easier for workers to balance their work responsibilities with their personal life and family roles (e.g., caring for children or elderly parents). Some organizations adopt teleworking for environmental reasons, as telework can reduce traffic congestion and air pollution, with fewer cars on the roads.[23] ',\n",
       " 'The technology to communicate is not advanced enough to replicate face-to-face office interactions. Room for mistakes and miscommunication can increase. According to media richness theory, face-to-face interactions provide the capacity to process rich information: ambiguous issues can be clarified, immediate feedback can be provided, and there is personalized communication (e.g. body language, tone of voice).[24] Telecommuting requires the use of various types of media to communicate, such as the telephone and email. Emails have a time lag that does not allow for immediate feedback; telephone conversations make it harder to decipher the emotions of the person or team on the phone; and both of these forms of communication do not allow one to see the other person.[25] Typical organization communication patterns are thus altered in telecommuting. For instance, teams using computer-mediated communication with computer conferencing take longer to make group decisions than face-to-face groups.[26] ',\n",
       " 'Workers tend to be satisfied with face-to-face interactions, phone conversations, and in-person departmental meetings to receive communications, but email and the Internet do not add to their communication satisfaction.[27] This suggests that teleworking may not have the components for \"rich communication\" compared to face-to-face interactions, although one study found that virtual workers in a team were more satisfied with their technology-mediated communication than their in-person office communication.[28] ',\n",
       " 'According to job characteristic theory, changes in autonomy and feedback, which are affected by remote work status, influence work behaviors and attitudes more than a change in skill variety, task identity, or task significance.[29] If five characteristics of a job are present (skill variety, task identity, task significance, autonomy, and feedback), then the employee in that job will experience more internal work motivation, satisfaction with personal growth opportunities, general job satisfaction, higher job performance, and lower absenteeism and turnover.[29][30] Many studies have provided evidence that job characteristics influence employees behaviors and attitudes.[31] Additionally, job characteristics can interact with individual differences to impact employee attitudes and behavior.[30][32] Of these five job characteristics, telework specifically changes autonomy and feedback compared to face-to-face work and can thus influence employees behaviors and attitudes. ',\n",
       " 'Autonomy influences experienced responsibility such that if the job provides freedom, independence, and scheduling flexibility, the individual should feel responsible for his or her work outcomes. Telework provides flexibility in scheduling and freedom because being outside the office gives the worker more choices. Teleworkers do not have to stick to office routines and can shift work to different times of day.[33] Telework allows employees the freedom to choose where they work, when they work and even what they wear to work to allow their best work.[34] Teleworkers may experience more responsibility to the extent that they feel in control and accountable for their work.[32] The autonomy of telework allows for lower work-family conflict.[35] Teleworking provides the freedom to arrange work to avoid family conflicts. Increased control over life demands[36] is one of its main attractions. The level of autonomy in telework felt by the employee depends on a variety of factors, including scheduling flexibility and the household size.[36] In addition to reducing work-family conflict, conflicts with activities are also reduced. Increased freedom and fewer time restrictions allow workers to participate more in recreational activities, whether social or physical.[34] However, studies also show that autonomy must be balanced with high levels of discipline if a healthy work/leisure balance is to be maintained.[37] ',\n",
       " 'Feedback increases employees knowledge of results. Feedback refers to the degree that an individual receives direct and clear information about his or her performance related to work activities.[30] Feedback is particularly important so that the employees continuously learn about how they are performing.[32] Electronic communication provides fewer cues for teleworkers and thus, they may have more difficulties interpreting and gaining information, and subsequently, receiving feedback.[33] When a worker is not in the office, there is limited information and greater ambiguity, such as in assignments and expectations.[38] Role ambiguity, when situations have unclear expectations as to what the worker is to do,[39] may result in greater conflict, frustration, and exhaustion.[33] ',\n",
       " 'In other studies regarding Job Characteristics Theory, job feedback seemed to have the strongest relationship with overall job satisfaction compared to other job characteristics.[31] While teleworking, communication is not as immediate or rich as face-to-face interactions.[24] Less feedback when teleworking is associated with lower job engagement.[33] Thus, when perceived supervisor support and relationship quality between leaders and teleworkers decreases, job satisfaction of the teleworker decreases.[36][40] The importance of manager communication with teleworkers is made clear in a study that found that individuals have lower job satisfaction when their managers telework.[38] ',\n",
       " 'Communication personalized for individual needs is important for feedback interactions.[41] People differ in their need for communication and their level of social connectedness to their environment, partially because of personality and temperament differences.[42] Although the level of communication may decrease for teleworkers, satisfaction with this level of communication can be higher in some samples, like those who are more tenured and have functional instead of social relationships.[28] Feedback and communication can also be affected by a managers location. The clarity, speed of response, richness of the communication, frequency, and quality of the feedback are often reduced when managers telework.[38] ',\n",
       " 'Three of the five job attributes: skill variety, task identity, and task significance, influence how much employees think their jobs are meaningful.[32] Skill variety is the degree of activities and skills that a job requires in order to complete a task. An increase in skill variety is thought to increase the challenge of the job. Increasing the challenge of the job increases the individuals experienced meaningfulness, how much the individual cares about work, and finds it worthwhile.[29][32] Telework may not directly affect skill variety and task meaningfulness for the individual compared to when he or she worked in an office; however, skill variety and meaningfulness of individual tasks can increase when working in a group. If the work done at home is focused on the individual rather than the team, there may be fewer opportunities to use a variety of skills.[43] ',\n",
       " 'Task identity is the degree that the individual sees work from beginning to end or completes an identifiable or whole piece of work rather than only a small piece. Task significance is the degree that the individual feels his or her work has a substantial impact on the lives or work of other people within the organization or outside the organization.[32][43] Telework may not change the job characteristics of skill variety, task identity, and task significance compared to working in an office; however, the presence of these characteristics will influence teleworkers work outcomes and attitudes. ',\n",
       " 'Individuals may differ in their reactions to the job characteristics in remote working. According to job characteristics theory, the personal need for accomplishment and development (\"growth need strength\")[30] influences how much an individual will react to the job dimensions of telecommuting. For instance, those individuals high in \"growth need strength\" will have a more positive reaction to increased autonomy and a more negative reaction to decreased feedback in telecommuting than those individuals low in \"growth need strength\". ',\n",
       " 'Motivator-hygiene theory[44] differentiates between motivating factors (motivators) and dissatisfying factors (hygienes). Factors that are motivators such as recognition and career advancement may be lessened with telework. When teleworkers are not physically present, they may be \"out of sight, out of mind\" to other workers in the office.[45] ',\n",
       " 'Additionally, telework may not always be seen positively by management due to fear of loss of managerial control.[46] ',\n",
       " 'A 2008 study found that more time spent telecommuting decreased the perception of productivity of the teleworker in the eyes of management.[47] ',\n",
       " 'Social information processing suggests that individuals give meaning to job characteristics.[48] Individuals have the ability to construct their own perception of the environment by interpreting social cues.[49] This social information comes from overt statements from coworkers, cognitive evaluations of the job or task dimensions, and previous behaviors. This social context can affect individuals beliefs about the nature of the job, the expectations for individual behavior, and the potential consequences of behavior, especially in uncertain situations.[49] In telework, there are fewer social cues because social exchange and personalized communication takes longer to process in computer-mediated communication than face-to-face interactions.[50] ',\n",
       " 'Sociotechnical systems (STS) theory explains the interaction between social and technological factors. STS examines the relationships between people, technology, and the work environment to design work in a way that enhances job satisfaction and increases productivity.[51] Originally developed to explain the paradox of improved technology but decreased productivity,[52] the theory can be applied to the design of telework. One of the principles of STS is minimal critical specification.[53] This principle states that, unless absolutely essential, there should be minimal specification of objectives and how to do tasks in order to avoid closing options or inhibiting effective actions. Telecommuting provides teleworkers with the freedom to decide how and when to do their tasks.[34] Similarly, teleworkers have the responsibility to use their equipment and resources to carry out their responsibilities. This increase in responsibility for their work also increases their power,[53] supporting the idea that teleworking is a privilege and in some companies, considered a promotion.[45] ',\n",
       " 'Adaptive structuration theory studies variations in organizations as new technologies are introduced[54] Adaptive structural theory proposes that structures (general rules and resources offered by the technology) can differ from structuration (how people actually use these rules and resources).[51] There is an interplay between the intended use of technology and the way that people use the technology. Telecommuting provides a social structure that enables and constrains certain interactions.[55] For instance, in office settings, the norm may be to interact with others face-to-face. To accomplish interpersonal exchange in telecommuting, other forms of interaction need to be used. AST suggests that when technologies are used over time, the rules and resources for social interactions will change.[54] Teleworking may alter traditional work practices,[51] such as switching from primarily face-to-face communication to electronic communication. ',\n",
       " 'Most studies find that remote work overall results in a decrease in energy use due to less time spend on energy-intensive personal transportation.[56] Remote work has also led to cleaner air.[57] ',\n",
       " 'During the COVID-19 lockdowns, the increase in remote work led to a decrease in global CO2 emissions.[58] ',\n",
       " 'However, the increase in remote work has led to people moving out of cities to larger homes that had room for home offices.[59] ',\n",
       " 'According to the job characteristic theory, the relationship between characteristics of the job and job satisfaction was moderately strong.[60] Of the five task characteristics, autonomy has a strong relationship with job satisfaction such that greater autonomy leads to greater job satisfaction.[60] Teleworkers may have increased satisfaction due to the flexibility and autonomy their jobs provide. Teleworkers were found to have higher satisfaction than office based workers.[61][45] It was found that autonomy increased teleworkers satisfaction by reducing work-family conflicts,[36][62] especially when workers were allowed to work outside traditional work hours and be more flexible for family purposes.[38] Providing the option to work remotely or adopting a hybrid work schedule has been an incentivizing benefit companies use to capture talent.[citation needed] Additionally, autonomy explained an increase in employee engagement when the amount of time spent teleworking increased.[33] Furthermore, a 2016 study from FlexJobs that surveyed over 3,000 people found that 81% of respondents also said they would be more loyal to their employers if they had flexible work options.[citation needed] ',\n",
       " 'Telecommuting has long been promoted as a way to substantially increase employee productivity. In 2012-2103, an experiment conducted using 242 employees of Ctrip, a large Chinese travel agency, by professors at Stanford and Beijing University found that employees randomly assigned to work at home for 9 months increased their output by 13.5% versus the office-based control group. This improvement in output arose from working 9% more hours from saved commuting time and from 3.5% improved efficiency from quieter working conditions. The study also found that home-workers reported significantly higher job-satisfaction scores and their quit rates fell by almost 50%. However, home workers promotion rates dropped by half due to apparent performance declines, indicating a potential career cost of home-working.[63] ',\n",
       " 'Since work hours are less regulated in telework, employee effort and dedication are far more likely to be measured purely in terms of output or results. Fewer, if any, traces of non-productive work activities (research, self-training, dealing with technical problems or equipment failures) and time lost on unsuccessful attempts (early drafts, fruitless endeavors, abortive innovations) are visible to employers. Piece rate, commissions, or other performance-based compensation also become more likely for telecommuters. Furthermore, major chunks of per-employee expenses are absorbed by the telecommuter himself – from simple coffee, water, electricity, and telecommunications services, to huge capital expenses like office equipment or software licenses. Thus, hours spent on the job tend to be underestimated and expenses under-reported, creating overly optimistic figures of productivity gains and savings, some or all of those in fact coming out of the telecommuters time and pocket.[64] ',\n",
       " 'Turnover intention, or the desire to leave the organization, is lower for teleworkers.[34] Those teleworkers who experienced greater professional isolation actually had lower turnover intent.[47] One study found that by increasing feedback and task identity through clear communication of goals, objectives, and expectations, turnover intent decreased in teleworkers and quality of work output increased.[65] ',\n",
       " 'A 2007 meta-analysis of 46 studies of telecommuting involving 12,833 employees conducted by Ravi Gajendran and David A. Harrison in the Journal of Applied Psychology, published by the American Psychological Association (APA), found that telecommuting has largely positive consequences for employees and employers.[66][34] In their meta-analytic study, Gajendran and Harrison found that telecommuting had modest but beneficial effects on employees job satisfaction, perceived autonomy, stress levels, manager-rated job performance, and (lower) work-family conflict. Telecommuting also reduces turnover intent, or the intention to quit ones job. Increased job satisfaction, decreased turnover intent and role stress related to telecommuting partly because of a decrease in work-family conflict. Additionally, the increase in autonomy from teleworking in turn increases job satisfaction.[citation needed] ',\n",
       " 'Although a number of scholars and managers had previously expressed fears that employee careers might suffer and workplace relationships might be damaged because of telecommuting, the meta-analysis found that there are no generally detrimental effects on the quality of workplace relationships and career outcomes. Telecommuting actually was found to positively affect employee-supervisor relations and the relationship between job satisfaction and turnover intent was in part due to supervisor relationship quality. Only high-intensity telecommuting (where employees work from home for more than 2.5 days a week) harmed employee relationships with co-workers, even though it did reduce work-family conflict. A factor analysis showed the overall distribution of peoples experiences and how the advantages and disadvantages of WFH during the early weeks of the pandemic in Europe can be grouped into six key factors. The results indicated that most people had a more positive rather than negative experience of WFH during lockdown. Three factors represent the main advantages of WFH: (i) work–life balance, (ii) improved work efficiency and (iii) greater work control. The main disadvantages were (iv) home office constraints, (v) work uncertainties and (vi) inadequate tools.[67] ',\n",
       " 'Skill variety has the strongest relationship with internal work motivation.[31] Jobs that allow workers to use a variety of skills increase workers internal work motivation. If teleworkers are limited in teamwork opportunities and have fewer opportunities to use a variety of skills,[43] they may have lower internal motivation towards their work. Also, perceived social isolation can lead to less motivation.[62] ',\n",
       " 'Though working in an office has its distractions, it is often argued that telecommuting involves even greater distractions. According to one study, children are ranked as the number one distractions, followed by spouses, pets, neighbors, and solicitors. The lack of proper tools and facilities also serves as a major distraction,[68] though this can be mitigated by using short-term coworking rental facilities. Also, some countries such as Romania have tasked the national labour inspectorate the burden of carrying out checks at teleworkers’ residences to see if the work environment meets the requirements.[69] ',\n",
       " 'Face-to-face interactions increase interpersonal contact, connectedness, and trust[47] Therefore, 54% of teleworkers thought they lost out on social interaction and 52.5% felt they lost out on professional interaction in a 2012 study.[62] Teleworking can hurt working relationships between the teleworker and their coworkers, especially if their coworkers do not telework. Coworkers who do not telework can feel resentful and jealous because they may consider it unfair if they are not allowed to telework as well.[34][45] However, despite fewer interpersonal actions and professional isolation,[47] a meta-analysis of telecommuting did not find support for negative telecommuter-coworker relationships or telecommuter-supervisor relationships.[34] ',\n",
       " 'Employees who telework may feel pressure to produce more output in order to be seen as valuable, and reduce the idea that they are doing less work than others. This pressure to produce output, as well as a lack of social support from limited coworker relationships and feelings of isolation, leads to lower job engagement in teleworkers.[33] Additionally, higher-quality relationships with teammates decreased job satisfaction of teleworkers, potentially because of frustrations with exchanging interactions via technology.[70] However, coworker support and virtual social groups for team building had a direct influence on increasing job satisfaction,[61][65] perhaps due to an increase in skill variety from teamwork and an increase in task significance from more working relationships. ',\n",
       " 'The inconsistent findings regarding telework and satisfaction may be explained by a more complicated relationship. Presumably because of the effects of autonomy, initial job satisfaction increases as the amount of telecommuting increases; however, as the individual telecommutes more, declines in feedback and task significance lead job satisfaction to level off and decrease slightly.[71] Thus, the amount of time teleworking influences the relationship between telework and job satisfaction. Barriers to the continued growth of telecommuting include distrust from employers and personal disconnectedness for employees.[72] ',\n",
       " 'Communication and getting to know other teammates happen naturally when everyone works in the same space, so in the telework circumstance, employees and supervisors have to work harder to maintain relationships with co-workers. This is especially important for new employees so that they learn organizational habits even when working remotely.[73] ',\n",
       " 'Being remote can also distance people from each other and transfer important conversations to chat and email.[74] An isolation from daily activities arise of the company and may be less aware of other things going on to the company and a possible hatred from other employees arises from other employees who do not telecommute. ',\n",
       " 'Sharing information within an organization and teams can become more challenging when working remotely. While in the office, teams naturally share information and knowledge when they meet each other, for example, during coffee breaks. Sharing information requires more effort and proactive action when random-encounters do not happen.[74] The sharing of tacit information also often takes place in unplanned situations where employees follow the activities of more experienced team members.[75] ',\n",
       " 'When teams are working remotely, it may also be difficult to obtain timely information, unless the regular sharing of information is taken care of separately. The situation where team members dont know enough about what others are doing can lead them to make worse decisions or slow down decision-making. ',\n",
       " 'Employees need training, tools, and technologies for remote work. Remote work poses cyber security risks and people should follow best practices that include using antivirus software, keeping family members away from work devices, covering their webcams, using a VPN, using a centralized storage solution, making sure passwords are strong and secure, and being wary of email scams and email security.[76] ',\n",
       " 'In 2021, Vermont, South Carolina, South Dakota, Alabama, and Nebraska were named as the top 5 safest states for telecommuters based on data breaches, stolen records, privacy laws, victim count, and victim loss.[77] ',\n",
       " 'Managers may view the teleworker as experiencing a drop in productivity during the first few months. This drop occurs as \"the employee, his peers, and the manager adjust to the new work regimen\".[78] The drop could also be due to inadequate office setup. Additionally, a 1999 study claimed that \"70 minutes of each day in a regular office are wasted by interruptions, yakking around the photocopier, and other distractions\".[79] Over the long term, though, surveys found that the productivity of the teleworker will climb; over two-thirds of employers report increased productivity among telecommuters, according to a 2008 survey.[80] Traditional line managers are accustomed to managing by observation and not necessarily by results. This causes a serious obstacle in organizations attempting to adopt telecommuting. Liability and workers compensation can become serious issues as well.[81] Weaker relationships between job dimensions and job outcomes, such as job performance and absenteeism,[32] may explain why the results regarding performance and telework are conflicting. Some studies have found that telework increases productivity in workers[82] and leads to higher supervisor ratings of performance and higher performance appraisals.[34] However, another study found that professional isolation in teleworkers led to a decrease in job performance, especially for those who spent more time teleworking and engaged in fewer face-to-face interactions.[47] Thus, similar to job attitudes, the amount of time spent teleworking may also influence the relationship between telework and job performance. ',\n",
       " 'From an anthropological perspective, it has been reported that teleworking can interfere with the process of sensemaking (the forging of consensus or of a common worldview).[83] ',\n",
       " 'Most US remote workers do not understand the tax implications of working remotely in another state.[84][85] ',\n",
       " 'According to a 2021 report by the World Health Organization and the International Labour Organization the expansion of teleworking, if it increases working time to over 55 hours per week, could potentially increase health loss among workers.[86] ']"
      ]
     },
     "execution_count": 48,
     "metadata": {},
     "output_type": "execute_result"
    }
   ],
   "source": [
    "data = [re.sub(\"\\'\", \"\", sent) for sent in data]\n",
    "data"
   ]
  },
  {
   "cell_type": "code",
   "execution_count": 50,
   "id": "ef16353f",
   "metadata": {},
   "outputs": [
    {
     "name": "stdout",
     "output_type": "stream",
     "text": [
      "[' ', 'Remote work, also called distance working, telework, teleworking, working from home (WFH), mobile work, remote job, and work from anywhere (WFA)[1] is an employment arrangement in which employees do not commute to a central place of work, such as an office building, warehouse, or retail store. It is facilitated by technology such as collaborative software, virtual private networks, conference calling, videotelephony, internet access, cloud computing, voice over IP (VoIP), mobile telecommunications technology such as a Wi-Fi-equipped laptop or tablet computers, smartphones, and desktop computers. It can be efficient and useful for companies since it allows workers to communicate over long distances, saving significant amounts of travel time and cost. Common software used for remote work include Zoom, Cisco Webex, Microsoft Teams, Google Meet, Slack, and WhatsApp. ']\n"
     ]
    }
   ],
   "source": [
    "print(data[:2])"
   ]
  },
  {
   "cell_type": "code",
   "execution_count": 51,
   "id": "31731625",
   "metadata": {},
   "outputs": [],
   "source": [
    "import gensim"
   ]
  },
  {
   "cell_type": "code",
   "execution_count": 52,
   "id": "9084f778",
   "metadata": {},
   "outputs": [
    {
     "name": "stdout",
     "output_type": "stream",
     "text": [
      "[[], ['remote', 'work', 'also', 'called', 'distance', 'working', 'telework', 'teleworking', 'working', 'from', 'home', 'wfh', 'mobile', 'work', 'remote', 'job', 'and', 'work', 'from', 'anywhere', 'wfa', 'is', 'an', 'employment', 'arrangement', 'in', 'which', 'employees', 'do', 'not', 'commute', 'to', 'central', 'place', 'of', 'work', 'such', 'as', 'an', 'office', 'building', 'warehouse', 'or', 'retail', 'store', 'it', 'is', 'facilitated', 'by', 'technology', 'such', 'as', 'collaborative', 'software', 'virtual', 'private', 'networks', 'conference', 'calling', 'videotelephony', 'internet', 'access', 'cloud', 'computing', 'voice', 'over', 'ip', 'voip', 'mobile', 'technology', 'such', 'as', 'wi', 'fi', 'equipped', 'laptop', 'or', 'tablet', 'computers', 'smartphones', 'and', 'desktop', 'computers', 'it', 'can', 'be', 'efficient', 'and', 'useful', 'for', 'companies', 'since', 'it', 'allows', 'workers', 'to', 'communicate', 'over', 'long', 'distances', 'saving', 'significant', 'amounts', 'of', 'travel', 'time', 'and', 'cost', 'common', 'software', 'used', 'for', 'remote', 'work', 'include', 'zoom', 'cisco', 'webex', 'microsoft', 'teams', 'google', 'meet', 'slack', 'and', 'whatsapp']]\n"
     ]
    }
   ],
   "source": [
    "def sent_to_words(sentences):\n",
    "    for sentence in sentences:\n",
    "        yield(gensim.utils.simple_preprocess(str(sentence), deacc=True))\n",
    "data_words = list(sent_to_words(data))\n",
    "\n",
    "print(data_words[:2])        "
   ]
  },
  {
   "cell_type": "code",
   "execution_count": 54,
   "id": "993a5386",
   "metadata": {},
   "outputs": [
    {
     "name": "stdout",
     "output_type": "stream",
     "text": [
      "['remote', 'work', 'also', 'called', 'distance', 'working', 'telework', 'teleworking', 'working', 'from', 'home', 'wfh', 'mobile', 'work', 'remote', 'job', 'and', 'work', 'from', 'anywhere', 'wfa', 'is', 'an', 'employment', 'arrangement', 'in', 'which', 'employees', 'do', 'not', 'commute', 'to', 'central', 'place', 'of', 'work', 'such', 'as', 'an', 'office', 'building', 'warehouse', 'or', 'retail', 'store', 'it', 'is', 'facilitated', 'by', 'technology', 'such', 'as', 'collaborative', 'software', 'virtual', 'private', 'networks', 'conference', 'calling', 'videotelephony', 'internet', 'access', 'cloud', 'computing', 'voice', 'over', 'ip', 'voip', 'mobile', 'technology', 'such', 'as', 'wi', 'fi', 'equipped', 'laptop', 'or', 'tablet', 'computers', 'smartphones', 'and', 'desktop', 'computers', 'it', 'can', 'be', 'efficient', 'and', 'useful', 'for', 'companies', 'since', 'it', 'allows', 'workers', 'to', 'communicate', 'over', 'long', 'distances', 'saving', 'significant', 'amounts', 'of', 'travel', 'time', 'and', 'cost', 'common', 'software', 'used', 'for', 'remote', 'work', 'include', 'zoom', 'cisco', 'webex', 'microsoft', 'teams', 'google', 'meet', 'slack', 'and', 'whatsapp']\n"
     ]
    }
   ],
   "source": [
    "# Build the bigram and trigram models\n",
    "bigram = gensim.models.Phrases(data_words, min_count=5, threshold=100) # higher threshold fewer phrases.\n",
    "trigram = gensim.models.Phrases(bigram[data_words], threshold=100)  \n",
    "\n",
    "# Faster way to get a sentence clubbed as a trigram/bigram\n",
    "bigram_mod = gensim.models.phrases.Phraser(bigram)\n",
    "trigram_mod = gensim.models.phrases.Phraser(trigram)\n",
    "\n",
    "# See trigram example\n",
    "print(trigram_mod[bigram_mod[data_words[1]]])"
   ]
  },
  {
   "cell_type": "code",
   "execution_count": 55,
   "id": "4bdd4398",
   "metadata": {},
   "outputs": [],
   "source": [
    "# Define functions for stopwords, bigrams, trigrams and lemmatization\n",
    "def remove_stopwords(texts):\n",
    "    return [[word for word in simple_preprocess(str(doc)) if word not in stop_words] for doc in texts]\n",
    "\n",
    "def make_bigrams(texts):\n",
    "    return [bigram_mod[doc] for doc in texts]\n",
    "\n",
    "def make_trigrams(texts):\n",
    "    return [trigram_mod[bigram_mod[doc]] for doc in texts]\n",
    "\n",
    "def lemmatization(texts, allowed_postags=['NOUN', 'ADJ', 'VERB', 'ADV']):\n",
    "    \"\"\"https://spacy.io/api/annotation\"\"\"\n",
    "    texts_out = []\n",
    "    for sent in texts:\n",
    "        doc = nlp(\" \".join(sent)) \n",
    "        texts_out.append([token.lemma_ for token in doc if token.pos_ in allowed_postags])\n",
    "    return texts_out"
   ]
  },
  {
   "cell_type": "code",
   "execution_count": 56,
   "id": "c913309a",
   "metadata": {},
   "outputs": [],
   "source": [
    "import spacy"
   ]
  },
  {
   "cell_type": "code",
   "execution_count": 57,
   "id": "7dbbb10a",
   "metadata": {},
   "outputs": [],
   "source": [
    "# Remove Stop Words\n",
    "data_words_nostops = remove_stopwords(data_words)\n"
   ]
  },
  {
   "cell_type": "code",
   "execution_count": 58,
   "id": "23c3b82b",
   "metadata": {},
   "outputs": [],
   "source": [
    "# Form Bigrams\n",
    "data_words_bigrams = make_bigrams(data_words_nostops)"
   ]
  },
  {
   "cell_type": "code",
   "execution_count": 59,
   "id": "986de77d",
   "metadata": {},
   "outputs": [
    {
     "data": {
      "text/plain": [
       "<spacy.lang.en.English at 0x29c802d1820>"
      ]
     },
     "execution_count": 59,
     "metadata": {},
     "output_type": "execute_result"
    }
   ],
   "source": [
    "nlp = spacy.load(\"en_core_web_sm\")\n",
    "nlp"
   ]
  },
  {
   "cell_type": "code",
   "execution_count": 60,
   "id": "2a45c0d5",
   "metadata": {},
   "outputs": [],
   "source": [
    "data_lemmatized = lemmatization(data_words_bigrams, allowed_postags=['NOUN', 'ADJ', 'VERB', 'ADV'])"
   ]
  },
  {
   "cell_type": "code",
   "execution_count": 62,
   "id": "70c478f5",
   "metadata": {},
   "outputs": [
    {
     "name": "stdout",
     "output_type": "stream",
     "text": [
      "[[], ['remote', 'work', 'also', 'call', 'distance', 'working', 'telework', 'teleworke', 'work', 'mobile', 'work', 'remote', 'job', 'work', 'anywhere', 'wfa', 'employment', 'arrangement', 'employee', 'commute', 'central', 'place', 'work', 'office', 'building', 'warehouse', 'retail', 'store', 'facilitated', 'technology', 'collaborative', 'software', 'virtual', 'private', 'network', 'conference', 'call', 'videotelephony', 'internet', 'access', 'cloud', 'computing', 'technology', 'equip', 'laptop', 'tablet', 'computer', 'smartphone', 'desktop', 'computer', 'efficient', 'useful', 'company', 'allow', 'worker', 'communicate', 'long', 'distance', 'save', 'significant', 'amount', 'travel', 'time', 'cost', 'common', 'software', 'use', 'remote', 'work', 'include', 'zoom', 'webex', 'team', 'slack', 'whatsapp']]\n"
     ]
    }
   ],
   "source": [
    "print(data_lemmatized[:2])"
   ]
  },
  {
   "cell_type": "code",
   "execution_count": 63,
   "id": "81e5959a",
   "metadata": {},
   "outputs": [],
   "source": [
    "# Create Dictionary\n",
    "id2word = corpora.Dictionary(data_lemmatized)\n"
   ]
  },
  {
   "cell_type": "code",
   "execution_count": 64,
   "id": "e6f254c5",
   "metadata": {},
   "outputs": [],
   "source": [
    "# Create Corpus\n",
    "texts = data_lemmatized"
   ]
  },
  {
   "cell_type": "code",
   "execution_count": 65,
   "id": "1501d4e3",
   "metadata": {},
   "outputs": [],
   "source": [
    "# Term Document Frequency\n",
    "corpus = [id2word.doc2bow(text) for text in texts]\n"
   ]
  },
  {
   "cell_type": "code",
   "execution_count": 66,
   "id": "d41d35f4",
   "metadata": {},
   "outputs": [
    {
     "name": "stdout",
     "output_type": "stream",
     "text": [
      "[[], [(0, 1), (1, 1), (2, 1), (3, 1), (4, 1), (5, 1), (6, 1), (7, 2), (8, 1), (9, 1), (10, 1), (11, 1), (12, 1), (13, 1), (14, 1), (15, 2), (16, 1), (17, 1), (18, 1), (19, 1), (20, 2), (21, 1), (22, 1), (23, 1), (24, 1), (25, 1), (26, 1), (27, 1), (28, 1), (29, 1), (30, 1), (31, 1), (32, 1), (33, 1), (34, 1), (35, 1), (36, 3), (37, 1), (38, 1), (39, 1), (40, 1), (41, 1), (42, 2), (43, 1), (44, 1), (45, 1), (46, 2), (47, 1), (48, 1), (49, 1), (50, 1), (51, 1), (52, 1), (53, 1), (54, 1), (55, 1), (56, 1), (57, 1), (58, 1), (59, 6), (60, 1), (61, 1), (62, 1)]]\n"
     ]
    }
   ],
   "source": [
    "\n",
    "# View\n",
    "print(corpus[:2])"
   ]
  },
  {
   "cell_type": "code",
   "execution_count": 67,
   "id": "064ec892",
   "metadata": {},
   "outputs": [
    {
     "data": {
      "text/plain": [
       "'allow'"
      ]
     },
     "execution_count": 67,
     "metadata": {},
     "output_type": "execute_result"
    }
   ],
   "source": [
    "id2word[1]"
   ]
  },
  {
   "cell_type": "code",
   "execution_count": 68,
   "id": "be9f2bff",
   "metadata": {},
   "outputs": [
    {
     "data": {
      "text/plain": [
       "[[]]"
      ]
     },
     "execution_count": 68,
     "metadata": {},
     "output_type": "execute_result"
    }
   ],
   "source": [
    "[[(id2word[id], freq) for id, freq in cp] for cp in corpus[:1]]"
   ]
  },
  {
   "cell_type": "code",
   "execution_count": 69,
   "id": "464e47de",
   "metadata": {},
   "outputs": [],
   "source": [
    "# Build LDA model\n",
    "lda_model = gensim.models.ldamodel.LdaModel(corpus=corpus,\n",
    "                                           id2word=id2word,\n",
    "                                           num_topics=20, \n",
    "                                           random_state=100,\n",
    "                                           update_every=1,\n",
    "                                           chunksize=100,\n",
    "                                           passes=10,\n",
    "                                           alpha='auto',\n",
    "                                           per_word_topics=True)"
   ]
  },
  {
   "cell_type": "code",
   "execution_count": 70,
   "id": "c30cf3bf",
   "metadata": {},
   "outputs": [
    {
     "name": "stdout",
     "output_type": "stream",
     "text": [
      "[(0, '0.048*\"information\" + 0.048*\"share\" + 0.036*\"team\" + 0.013*\"work\" + 0.013*\"remotely\" + 0.013*\"situation\" + 0.013*\"take\" + 0.013*\"organization\" + 0.012*\"office\" + 0.012*\"activity\"'), (1, '0.032*\"work\" + 0.024*\"remote\" + 0.019*\"teleworker\" + 0.019*\"turnover\" + 0.019*\"company\" + 0.019*\"distance\" + 0.018*\"employee\" + 0.013*\"low\" + 0.013*\"increase\" + 0.013*\"arise\"'), (2, '0.029*\"work\" + 0.023*\"distraction\" + 0.017*\"increase\" + 0.017*\"task\" + 0.017*\"teleworker\" + 0.017*\"st\" + 0.017*\"also\" + 0.012*\"theory\" + 0.012*\"technology\" + 0.012*\"explain\"'), (3, '0.001*\"telecommute\" + 0.001*\"reduce\" + 0.001*\"organization\" + 0.001*\"adopt\" + 0.001*\"work\" + 0.001*\"life\" + 0.001*\"traffic\" + 0.001*\"employee\" + 0.001*\"congestion\" + 0.001*\"time\"'), (4, '0.030*\"information\" + 0.030*\"make\" + 0.030*\"team\" + 0.030*\"decision\" + 0.015*\"work\" + 0.015*\"care\" + 0.015*\"also\" + 0.015*\"situation\" + 0.015*\"other\" + 0.015*\"member\"'), (5, '0.056*\"task\" + 0.043*\"individual\" + 0.037*\"job\" + 0.032*\"increase\" + 0.027*\"work\" + 0.019*\"employee\" + 0.019*\"meaningfulness\" + 0.018*\"identity\" + 0.018*\"degree\" + 0.018*\"significance\"'), (6, '0.062*\"job\" + 0.035*\"satisfaction\" + 0.025*\"work\" + 0.022*\"increase\" + 0.021*\"study\" + 0.021*\"employee\" + 0.019*\"find\" + 0.017*\"performance\" + 0.017*\"characteristic\" + 0.017*\"teleworker\"'), (7, '0.052*\"communication\" + 0.044*\"telework\" + 0.026*\"employee\" + 0.026*\"level\" + 0.026*\"feedback\" + 0.018*\"manager\" + 0.018*\"need\" + 0.018*\"social\" + 0.018*\"individual\" + 0.018*\"right\"'), (8, '0.055*\"individual\" + 0.041*\"job\" + 0.041*\"social\" + 0.028*\"need\" + 0.021*\"characteristic\" + 0.021*\"reaction\" + 0.021*\"growth\" + 0.021*\"strength\" + 0.021*\"behavior\" + 0.014*\"face\"'), (9, '0.021*\"expense\" + 0.014*\"telework\" + 0.014*\"work\" + 0.014*\"equipment\" + 0.014*\"hour\" + 0.014*\"likely\" + 0.014*\"time\" + 0.014*\"employee\" + 0.014*\"telecommuter\" + 0.007*\"loss\"'), (10, '0.076*\"work\" + 0.072*\"home\" + 0.037*\"time\" + 0.028*\"company\" + 0.027*\"remote\" + 0.019*\"employee\" + 0.019*\"many\" + 0.019*\"force\" + 0.019*\"worker\" + 0.018*\"believe\"'), (11, '0.036*\"feedback\" + 0.027*\"information\" + 0.018*\"ambiguity\" + 0.018*\"receive\" + 0.018*\"employee\" + 0.018*\"great\" + 0.018*\"expectation\" + 0.018*\"worker\" + 0.018*\"result\" + 0.009*\"privacy\"'), (12, '0.041*\"work\" + 0.034*\"relationship\" + 0.019*\"job\" + 0.019*\"employee\" + 0.015*\"quality\" + 0.013*\"satisfaction\" + 0.011*\"increase\" + 0.011*\"support\" + 0.011*\"factor\" + 0.011*\"wfh\"'), (13, '0.002*\"performance\" + 0.002*\"job\" + 0.001*\"telework\" + 0.001*\"result\" + 0.001*\"productivity\" + 0.001*\"office\" + 0.001*\"time\" + 0.001*\"telecommuter\" + 0.001*\"employee\" + 0.001*\"work\"'), (14, '0.037*\"face\" + 0.030*\"interaction\" + 0.026*\"communication\" + 0.026*\"use\" + 0.026*\"technology\" + 0.019*\"telework\" + 0.018*\"office\" + 0.015*\"coworker\" + 0.015*\"worker\" + 0.015*\"work\"'), (15, '0.063*\"work\" + 0.038*\"use\" + 0.038*\"remote\" + 0.025*\"motivation\" + 0.019*\"worker\" + 0.019*\"lead\" + 0.019*\"internal\" + 0.013*\"also\" + 0.013*\"increase\" + 0.013*\"opportunity\"'), (16, '0.051*\"work\" + 0.019*\"allow\" + 0.019*\"organization\" + 0.018*\"office\" + 0.018*\"telework\" + 0.017*\"time\" + 0.016*\"face\" + 0.013*\"freedom\" + 0.013*\"provide\" + 0.013*\"reduce\"'), (17, '0.048*\"factor\" + 0.032*\"motivator\" + 0.017*\"office\" + 0.017*\"theory\" + 0.017*\"telework\" + 0.017*\"motivating\" + 0.017*\"present\" + 0.017*\"differentiate\" + 0.017*\"sight\" + 0.017*\"recognition\"'), (18, '0.058*\"work\" + 0.024*\"home\" + 0.024*\"worker\" + 0.024*\"employee\" + 0.012*\"high\" + 0.012*\"low\" + 0.012*\"include\" + 0.012*\"percentage\" + 0.012*\"netherland\" + 0.012*\"age\"'), (19, '0.054*\"work\" + 0.035*\"home\" + 0.026*\"increase\" + 0.020*\"worker\" + 0.019*\"find\" + 0.016*\"employee\" + 0.014*\"engagement\" + 0.014*\"output\" + 0.014*\"hour\" + 0.014*\"report\"')]\n"
     ]
    }
   ],
   "source": [
    "# Print the Keyword in the 10 topics\n",
    "print(lda_model.print_topics())\n",
    "doc_lda = lda_model[corpus]"
   ]
  },
  {
   "cell_type": "code",
   "execution_count": 72,
   "id": "d9085e25",
   "metadata": {},
   "outputs": [
    {
     "name": "stdout",
     "output_type": "stream",
     "text": [
      "\n",
      "Perplexity:  -6.614169603066617\n",
      "\n",
      "Coherence Score:  nan\n"
     ]
    }
   ],
   "source": [
    "# Compute Perplexity\n",
    "print('\\nPerplexity: ', lda_model.log_perplexity(corpus))  # a measure of how good the model is. lower the better.\n",
    "\n",
    "# Compute Coherence Score\n",
    "coherence_model_lda = CoherenceModel(model=lda_model, texts=data_lemmatized, dictionary=id2word, coherence='c_v')\n",
    "coherence_lda = coherence_model_lda.get_coherence()\n",
    "print('\\nCoherence Score: ', coherence_lda)"
   ]
  },
  {
   "cell_type": "code",
   "execution_count": 73,
   "id": "7cd9fa2a",
   "metadata": {},
   "outputs": [
    {
     "ename": "AttributeError",
     "evalue": "module 'pyLDAvis' has no attribute 'gensim'",
     "output_type": "error",
     "traceback": [
      "\u001b[1;31m---------------------------------------------------------------------------\u001b[0m",
      "\u001b[1;31mAttributeError\u001b[0m                            Traceback (most recent call last)",
      "\u001b[1;32m~\\AppData\\Local\\Temp/ipykernel_19264/975574718.py\u001b[0m in \u001b[0;36m<module>\u001b[1;34m\u001b[0m\n\u001b[0;32m      1\u001b[0m \u001b[1;31m# Visualize the topics\u001b[0m\u001b[1;33m\u001b[0m\u001b[1;33m\u001b[0m\u001b[0m\n\u001b[0;32m      2\u001b[0m \u001b[0mpyLDAvis\u001b[0m\u001b[1;33m.\u001b[0m\u001b[0menable_notebook\u001b[0m\u001b[1;33m(\u001b[0m\u001b[1;33m)\u001b[0m\u001b[1;33m\u001b[0m\u001b[1;33m\u001b[0m\u001b[0m\n\u001b[1;32m----> 3\u001b[1;33m \u001b[0mvis\u001b[0m \u001b[1;33m=\u001b[0m \u001b[0mpyLDAvis\u001b[0m\u001b[1;33m.\u001b[0m\u001b[0mgensim\u001b[0m\u001b[1;33m.\u001b[0m\u001b[0mprepare\u001b[0m\u001b[1;33m(\u001b[0m\u001b[0mlda_model\u001b[0m\u001b[1;33m,\u001b[0m \u001b[0mcorpus\u001b[0m\u001b[1;33m,\u001b[0m \u001b[0mid2word\u001b[0m\u001b[1;33m)\u001b[0m\u001b[1;33m\u001b[0m\u001b[1;33m\u001b[0m\u001b[0m\n\u001b[0m\u001b[0;32m      4\u001b[0m \u001b[0mvis\u001b[0m\u001b[1;33m\u001b[0m\u001b[1;33m\u001b[0m\u001b[0m\n",
      "\u001b[1;31mAttributeError\u001b[0m: module 'pyLDAvis' has no attribute 'gensim'"
     ]
    }
   ],
   "source": [
    "# Visualize the topics\n",
    "pyLDAvis.enable_notebook()\n",
    "vis = pyLDAvis.gensim.prepare(lda_model, corpus, id2word)\n",
    "vis"
   ]
  },
  {
   "cell_type": "code",
   "execution_count": null,
   "id": "8e4b2a7d",
   "metadata": {},
   "outputs": [],
   "source": []
  }
 ],
 "metadata": {
  "kernelspec": {
   "display_name": "Python 3 (ipykernel)",
   "language": "python",
   "name": "python3"
  },
  "language_info": {
   "codemirror_mode": {
    "name": "ipython",
    "version": 3
   },
   "file_extension": ".py",
   "mimetype": "text/x-python",
   "name": "python",
   "nbconvert_exporter": "python",
   "pygments_lexer": "ipython3",
   "version": "3.9.7"
  }
 },
 "nbformat": 4,
 "nbformat_minor": 5
}
