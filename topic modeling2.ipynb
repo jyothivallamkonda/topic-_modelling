{
 "cells": [
  {
   "cell_type": "code",
   "execution_count": 1,
   "id": "ed53ba43",
   "metadata": {},
   "outputs": [
    {
     "name": "stderr",
     "output_type": "stream",
     "text": [
      "[nltk_data] Downloading package stopwords to\n",
      "[nltk_data]     C:\\Users\\monis\\AppData\\Roaming\\nltk_data...\n",
      "[nltk_data]   Package stopwords is already up-to-date!\n"
     ]
    },
    {
     "data": {
      "text/plain": [
       "True"
      ]
     },
     "execution_count": 1,
     "metadata": {},
     "output_type": "execute_result"
    }
   ],
   "source": [
    "import nltk\n",
    "nltk.download('stopwords')"
   ]
  },
  {
   "cell_type": "code",
   "execution_count": 2,
   "id": "4fce0716",
   "metadata": {},
   "outputs": [
    {
     "name": "stdout",
     "output_type": "stream",
     "text": [
      "import nltk\n",
      "nltk.download('stopwords')\n",
      "%hist\n"
     ]
    }
   ],
   "source": [
    "%hist"
   ]
  },
  {
   "cell_type": "code",
   "execution_count": 3,
   "id": "d30b6af5",
   "metadata": {},
   "outputs": [],
   "source": [
    "import re\n",
    "import numpy as np\n",
    "import pandas as pd\n",
    "from pprint import pprint"
   ]
  },
  {
   "cell_type": "code",
   "execution_count": 4,
   "id": "c36679bc",
   "metadata": {},
   "outputs": [],
   "source": [
    "import spacy\n"
   ]
  },
  {
   "cell_type": "code",
   "execution_count": 5,
   "id": "fa9dfe4b",
   "metadata": {},
   "outputs": [],
   "source": [
    "import pyLDAvis"
   ]
  },
  {
   "cell_type": "code",
   "execution_count": 6,
   "id": "93ab74dd",
   "metadata": {},
   "outputs": [
    {
     "name": "stderr",
     "output_type": "stream",
     "text": [
      "C:\\Users\\monis\\anaconda3\\lib\\site-packages\\scipy\\sparse\\sparsetools.py:21: DeprecationWarning: `scipy.sparse.sparsetools` is deprecated!\n",
      "scipy.sparse.sparsetools is a private module for scipy.sparse, and should not be used.\n",
      "  _deprecated()\n"
     ]
    }
   ],
   "source": [
    "import gensim\n",
    "import gensim.corpora as corpora\n",
    "from gensim.utils import simple_preprocess\n",
    "from gensim.models import CoherenceModel"
   ]
  },
  {
   "cell_type": "code",
   "execution_count": 7,
   "id": "68b965e4",
   "metadata": {},
   "outputs": [],
   "source": [
    "import gensim"
   ]
  },
  {
   "cell_type": "code",
   "execution_count": 8,
   "id": "d83ceeea",
   "metadata": {},
   "outputs": [],
   "source": [
    "import gensim.corpora as corpora"
   ]
  },
  {
   "cell_type": "code",
   "execution_count": 9,
   "id": "e0150504",
   "metadata": {},
   "outputs": [],
   "source": [
    "from gensim.utils import simple_preprocess"
   ]
  },
  {
   "cell_type": "code",
   "execution_count": 10,
   "id": "9d1a243f",
   "metadata": {},
   "outputs": [],
   "source": [
    "from gensim.models import CoherenceModel"
   ]
  },
  {
   "cell_type": "code",
   "execution_count": 11,
   "id": "5aa7827b",
   "metadata": {},
   "outputs": [],
   "source": [
    "import pyLDAvis"
   ]
  },
  {
   "cell_type": "code",
   "execution_count": 12,
   "id": "fb31b5c1",
   "metadata": {},
   "outputs": [
    {
     "name": "stderr",
     "output_type": "stream",
     "text": [
      "C:\\Users\\monis\\anaconda3\\lib\\site-packages\\matplotlib\\__init__.py:152: DeprecationWarning: distutils Version classes are deprecated. Use packaging.version instead.\n",
      "  if LooseVersion(module.__version__) < minver:\n",
      "C:\\Users\\monis\\anaconda3\\lib\\site-packages\\setuptools\\_distutils\\version.py:351: DeprecationWarning: distutils Version classes are deprecated. Use packaging.version instead.\n",
      "  other = LooseVersion(other)\n",
      "C:\\Users\\monis\\anaconda3\\lib\\site-packages\\matplotlib\\__init__.py:152: DeprecationWarning: distutils Version classes are deprecated. Use packaging.version instead.\n",
      "  if LooseVersion(module.__version__) < minver:\n",
      "C:\\Users\\monis\\anaconda3\\lib\\site-packages\\setuptools\\_distutils\\version.py:351: DeprecationWarning: distutils Version classes are deprecated. Use packaging.version instead.\n",
      "  other = LooseVersion(other)\n",
      "C:\\Users\\monis\\anaconda3\\lib\\site-packages\\matplotlib\\__init__.py:152: DeprecationWarning: distutils Version classes are deprecated. Use packaging.version instead.\n",
      "  if LooseVersion(module.__version__) < minver:\n",
      "C:\\Users\\monis\\anaconda3\\lib\\site-packages\\setuptools\\_distutils\\version.py:351: DeprecationWarning: distutils Version classes are deprecated. Use packaging.version instead.\n",
      "  other = LooseVersion(other)\n",
      "C:\\Users\\monis\\anaconda3\\lib\\site-packages\\matplotlib\\__init__.py:152: DeprecationWarning: distutils Version classes are deprecated. Use packaging.version instead.\n",
      "  if LooseVersion(module.__version__) < minver:\n",
      "C:\\Users\\monis\\anaconda3\\lib\\site-packages\\setuptools\\_distutils\\version.py:351: DeprecationWarning: distutils Version classes are deprecated. Use packaging.version instead.\n",
      "  other = LooseVersion(other)\n",
      "C:\\Users\\monis\\anaconda3\\lib\\site-packages\\matplotlib\\__init__.py:152: DeprecationWarning: distutils Version classes are deprecated. Use packaging.version instead.\n",
      "  if LooseVersion(module.__version__) < minver:\n",
      "C:\\Users\\monis\\anaconda3\\lib\\site-packages\\setuptools\\_distutils\\version.py:351: DeprecationWarning: distutils Version classes are deprecated. Use packaging.version instead.\n",
      "  other = LooseVersion(other)\n"
     ]
    }
   ],
   "source": [
    "import matplotlib.pyplot as plt\n",
    "%matplotlib inline"
   ]
  },
  {
   "cell_type": "code",
   "execution_count": 13,
   "id": "79f29147",
   "metadata": {},
   "outputs": [],
   "source": [
    "import logging\n",
    "logging.basicConfig(format='%(asctime)s : %(levelname)s : %(message)s', level=logging.ERROR)"
   ]
  },
  {
   "cell_type": "code",
   "execution_count": 14,
   "id": "34d2cf5b",
   "metadata": {},
   "outputs": [
    {
     "name": "stdout",
     "output_type": "stream",
     "text": [
      "Requirement already satisfied: stopwords in c:\\users\\monis\\anaconda3\\lib\\site-packages (1.0.0)\n"
     ]
    }
   ],
   "source": [
    "!pip install stopwords"
   ]
  },
  {
   "cell_type": "code",
   "execution_count": 15,
   "id": "c6cf14ef",
   "metadata": {},
   "outputs": [],
   "source": [
    "from nltk.corpus import stopwords"
   ]
  },
  {
   "cell_type": "code",
   "execution_count": 16,
   "id": "0bdf5a17",
   "metadata": {},
   "outputs": [],
   "source": [
    "stop_words = stopwords.words('english')"
   ]
  },
  {
   "cell_type": "code",
   "execution_count": 17,
   "id": "59cdb892",
   "metadata": {},
   "outputs": [
    {
     "data": {
      "text/plain": [
       "['i',\n",
       " 'me',\n",
       " 'my',\n",
       " 'myself',\n",
       " 'we',\n",
       " 'our',\n",
       " 'ours',\n",
       " 'ourselves',\n",
       " 'you',\n",
       " \"you're\",\n",
       " \"you've\",\n",
       " \"you'll\",\n",
       " \"you'd\",\n",
       " 'your',\n",
       " 'yours',\n",
       " 'yourself',\n",
       " 'yourselves',\n",
       " 'he',\n",
       " 'him',\n",
       " 'his',\n",
       " 'himself',\n",
       " 'she',\n",
       " \"she's\",\n",
       " 'her',\n",
       " 'hers',\n",
       " 'herself',\n",
       " 'it',\n",
       " \"it's\",\n",
       " 'its',\n",
       " 'itself',\n",
       " 'they',\n",
       " 'them',\n",
       " 'their',\n",
       " 'theirs',\n",
       " 'themselves',\n",
       " 'what',\n",
       " 'which',\n",
       " 'who',\n",
       " 'whom',\n",
       " 'this',\n",
       " 'that',\n",
       " \"that'll\",\n",
       " 'these',\n",
       " 'those',\n",
       " 'am',\n",
       " 'is',\n",
       " 'are',\n",
       " 'was',\n",
       " 'were',\n",
       " 'be',\n",
       " 'been',\n",
       " 'being',\n",
       " 'have',\n",
       " 'has',\n",
       " 'had',\n",
       " 'having',\n",
       " 'do',\n",
       " 'does',\n",
       " 'did',\n",
       " 'doing',\n",
       " 'a',\n",
       " 'an',\n",
       " 'the',\n",
       " 'and',\n",
       " 'but',\n",
       " 'if',\n",
       " 'or',\n",
       " 'because',\n",
       " 'as',\n",
       " 'until',\n",
       " 'while',\n",
       " 'of',\n",
       " 'at',\n",
       " 'by',\n",
       " 'for',\n",
       " 'with',\n",
       " 'about',\n",
       " 'against',\n",
       " 'between',\n",
       " 'into',\n",
       " 'through',\n",
       " 'during',\n",
       " 'before',\n",
       " 'after',\n",
       " 'above',\n",
       " 'below',\n",
       " 'to',\n",
       " 'from',\n",
       " 'up',\n",
       " 'down',\n",
       " 'in',\n",
       " 'out',\n",
       " 'on',\n",
       " 'off',\n",
       " 'over',\n",
       " 'under',\n",
       " 'again',\n",
       " 'further',\n",
       " 'then',\n",
       " 'once',\n",
       " 'here',\n",
       " 'there',\n",
       " 'when',\n",
       " 'where',\n",
       " 'why',\n",
       " 'how',\n",
       " 'all',\n",
       " 'any',\n",
       " 'both',\n",
       " 'each',\n",
       " 'few',\n",
       " 'more',\n",
       " 'most',\n",
       " 'other',\n",
       " 'some',\n",
       " 'such',\n",
       " 'no',\n",
       " 'nor',\n",
       " 'not',\n",
       " 'only',\n",
       " 'own',\n",
       " 'same',\n",
       " 'so',\n",
       " 'than',\n",
       " 'too',\n",
       " 'very',\n",
       " 's',\n",
       " 't',\n",
       " 'can',\n",
       " 'will',\n",
       " 'just',\n",
       " 'don',\n",
       " \"don't\",\n",
       " 'should',\n",
       " \"should've\",\n",
       " 'now',\n",
       " 'd',\n",
       " 'll',\n",
       " 'm',\n",
       " 'o',\n",
       " 're',\n",
       " 've',\n",
       " 'y',\n",
       " 'ain',\n",
       " 'aren',\n",
       " \"aren't\",\n",
       " 'couldn',\n",
       " \"couldn't\",\n",
       " 'didn',\n",
       " \"didn't\",\n",
       " 'doesn',\n",
       " \"doesn't\",\n",
       " 'hadn',\n",
       " \"hadn't\",\n",
       " 'hasn',\n",
       " \"hasn't\",\n",
       " 'haven',\n",
       " \"haven't\",\n",
       " 'isn',\n",
       " \"isn't\",\n",
       " 'ma',\n",
       " 'mightn',\n",
       " \"mightn't\",\n",
       " 'mustn',\n",
       " \"mustn't\",\n",
       " 'needn',\n",
       " \"needn't\",\n",
       " 'shan',\n",
       " \"shan't\",\n",
       " 'shouldn',\n",
       " \"shouldn't\",\n",
       " 'wasn',\n",
       " \"wasn't\",\n",
       " 'weren',\n",
       " \"weren't\",\n",
       " 'won',\n",
       " \"won't\",\n",
       " 'wouldn',\n",
       " \"wouldn't\"]"
      ]
     },
     "execution_count": 17,
     "metadata": {},
     "output_type": "execute_result"
    }
   ],
   "source": [
    "stop_words"
   ]
  },
  {
   "cell_type": "code",
   "execution_count": 18,
   "id": "eda3a268",
   "metadata": {},
   "outputs": [],
   "source": [
    "from selenium import webdriver\n",
    "from bs4 import BeautifulSoup\n",
    "import time\n",
    "\n"
   ]
  },
  {
   "cell_type": "code",
   "execution_count": 19,
   "id": "726f981d",
   "metadata": {},
   "outputs": [],
   "source": [
    "import requests\n",
    "from bs4 import BeautifulSoup"
   ]
  },
  {
   "cell_type": "code",
   "execution_count": 20,
   "id": "74f7aa33",
   "metadata": {},
   "outputs": [],
   "source": [
    "URL2 = \"https://en.wikipedia.org/wiki/Remote_work#Effects_of_the_COVID-19_pandemic\""
   ]
  },
  {
   "cell_type": "code",
   "execution_count": 21,
   "id": "089bccf4",
   "metadata": {},
   "outputs": [],
   "source": [
    "URL1 = \"https://www.ivoryresearch.com/samples/essay-on-covid-19-pandemic/\""
   ]
  },
  {
   "cell_type": "code",
   "execution_count": 22,
   "id": "16002624",
   "metadata": {},
   "outputs": [],
   "source": [
    "page1 = requests.get(URL1)"
   ]
  },
  {
   "cell_type": "code",
   "execution_count": 23,
   "id": "a6531e7b",
   "metadata": {},
   "outputs": [],
   "source": [
    "page2 = requests.get(URL2)"
   ]
  },
  {
   "cell_type": "code",
   "execution_count": 24,
   "id": "93340a87",
   "metadata": {},
   "outputs": [
    {
     "data": {
      "text/plain": [
       "<Response [200]>"
      ]
     },
     "execution_count": 24,
     "metadata": {},
     "output_type": "execute_result"
    }
   ],
   "source": [
    "page1"
   ]
  },
  {
   "cell_type": "code",
   "execution_count": 25,
   "id": "8252f8fd",
   "metadata": {},
   "outputs": [
    {
     "data": {
      "text/plain": [
       "<Response [200]>"
      ]
     },
     "execution_count": 25,
     "metadata": {},
     "output_type": "execute_result"
    }
   ],
   "source": [
    "page2"
   ]
  },
  {
   "cell_type": "code",
   "execution_count": 26,
   "id": "8838b463",
   "metadata": {},
   "outputs": [],
   "source": [
    "soup = BeautifulSoup(page1.text, \"lxml\")"
   ]
  },
  {
   "cell_type": "code",
   "execution_count": 27,
   "id": "b09c89b3",
   "metadata": {},
   "outputs": [
    {
     "data": {
      "text/plain": [
       "[<p>As a result of the COVID-19 (Coronavirus) outbreak, daily life has been negatively affected, impacting the worldwide economy. Thousands of individuals have been sickened or died as a result of the outbreak of this disease. When you have the flu or a viral infection, the most common symptoms include fever, cold, coughing up bone fragments, and difficulty breathing, which may progress to pneumonia. It’s important to take major steps like keeping a strict cleaning routine, keeping social distance, and wearing masks, among other things. This virus’s geographic spread is accelerating (Daniel Pg 93). Governments restricted public meetings during the start of the pandemic to prevent the disease from spreading and breaking the exponential distribution curve. In order to avoid the damage caused by this extremely contagious disease, several countries quarantined their citizens. However, this scenario had drastically altered with the discovery of the vaccinations. The research aims to investigate the effect of the Covid-19 epidemic and its impact on the population’s well-being.</p>,\n",
       " <p>There is growing interest in the relationship between social determinants of health and health outcomes. Still, many health care providers and academics have been hesitant to recognize racism as a contributing factor to racial health disparities. Only a few research have examined the health effects of institutional racism, with the majority focusing on interpersonal racial and ethnic prejudice Ciotti et al., Pg 370. The latter comprises historically and culturally connected institutions that are interconnected. Prejudice is being practiced in a variety of contexts as a result of the COVID-19 outbreak. In some ways, the outbreak has exposed pre-existing bias and inequity.</p>,\n",
       " <p>Thousands of businesses are in danger of failure. Around 2.3 billion of the world’s 3.3 billion employees are out of work. These workers are especially susceptible since they lack access to social security and adequate health care, and they’ve also given up ownership of productive assets, which makes them highly vulnerable. Many individuals lose their employment as a result of lockdowns, leaving them unable to support their families. People strapped for cash are often forced to reduce their caloric intake while also eating less nutritiously (Fraser et al, Pg 3). The epidemic has had an impact on the whole food chain, revealing vulnerabilities that were previously hidden. Border closures, trade restrictions, and confinement measures have limited farmer access to markets, while agricultural workers have not gathered crops. As a result, the local and global food supply chain has been disrupted, and people now have less access to healthy foods. As a consequence of the epidemic, many individuals have lost their employment, and millions more are now in danger. When breadwinners lose their jobs, become sick, or die, the food and nutrition of millions of people are endangered. Particularly severely hit are the world’s poorest small farmers and indigenous peoples.</p>,\n",
       " <p>Infectious illness outbreaks and epidemics have become worldwide threats due to globalization, urbanization, and environmental change. In developed countries like Europe and North America, surveillance and health systems monitor and manage the spread of infectious illnesses in real-time. Both low- and high-income countries need to improve their public health capacities (Omer et al., Pg 1767). These improvements should be financed using a mix of national and foreign donor money. In order to speed up research and reaction for new illnesses with pandemic potential, a global collaborative effort including governments and commercial companies has been proposed. When working on a vaccine-like COVID-19, cooperation is critical.</p>,\n",
       " <p>The epidemic has had an impact on the whole food chain, revealing vulnerabilities that were previously hidden. Border closures, trade restrictions, and confinement measures have limited farmer access to markets, while agricultural workers have been unable to gather crops. As a result, the local and global food supply chain has been disrupted, and people now have less access to healthy foods (Daniel et al.,Pg 95) . As a consequence of the epidemic, many individuals have lost their employment, and millions more are now in danger. When breadwinners lose their jobs, the food and nutrition of millions of people are endangered. Particularly severely hit are the world’s poorest small farmers and indigenous peoples.</p>,\n",
       " <p>While helping to feed the world’s population, millions of paid and unpaid agricultural laborers suffer from high levels of poverty, hunger, and bad health, as well as a lack of safety and labor safeguards, as well as other kinds of abuse at work. Poor people, who have no recourse to social assistance, must work longer and harder, sometimes in hazardous occupations, endangering their families in the process (Daniel Pg 96). When faced with a lack of income, people may turn to hazardous financial activities, including asset liquidation, predatory lending, or child labor, to make ends meet. Because of the dangers they encounter while traveling, working, and living abroad; migrant agricultural laborers are especially vulnerable. They also have a difficult time taking advantage of government assistance programs.</p>,\n",
       " <p>The pandemic also has a significant impact on education. Although many educational institutions across the globe have already made the switch to online learning, the extent to which technology is utilized to improve the quality of distance or online learning varies. This level is dependent on several variables, including the different parties engaged in the execution of this learning format and the incorporation of technology into educational institutions before the time of school closure caused by the COVID-19 pandemic. For many years, researchers from all around the globe have worked to determine what variables contribute to effective technology integration in the classroom Ciotti et al., Pg 371. The amount of technology usage and the quality of learning when moving from a classroom to a distant or online format are presumed to be influenced by the same set of variables. Findings from previous research, which sought to determine what affects educational systems ability to integrate technology into teaching, suggest understanding how teachers, students, and technology interact positively in order to achieve positive results in the integration of teaching technology (Honey et al., 2000). Teachers’ views on teaching may affect the chances of successfully incorporating technology into the classroom and making it a part of the learning process.</p>,\n",
       " <p>In conclusion, indeed, Covid 19 pandemic have affected the well being of the people in a significant manner. The economy operation across the globe have been destabilized as most of the people have been rendered jobless while the job operation has been stopped. As most of the people have been rendered jobless the living conditions of the people have also been significantly affected. Besides, the education sector has also been affected as most of the learning institutions prefer the use of online learning which is not effective as compared to the traditional method. With the invention of the vaccines, most of the developed countries have been noted to stabilize slowly, while the developing countries have not been able to vaccinate most of its citizens. However, despite the challenge caused by the pandemic, organizations have been able to adapt the new mode of online trading to be promoted.</p>,\n",
       " <p style=\"text-align: center\"><strong>Work Cited</strong></p>,\n",
       " <p>Ciotti, Marco, et al. “The COVID-19 pandemic.” <em>Critical reviews in clinical laboratory sciences</em> 57.6 (2020): 365-388.</p>,\n",
       " <p>Daniel, John. “Education and the COVID-19 pandemic.” <em>Prospects</em> 49.1 (2020): 91-96.</p>,\n",
       " <p>Fraser, Nicholas, et al. “Preprinting the COVID-19 pandemic.” <em>BioRxiv</em> (2021): 2020-05.</p>,\n",
       " <p>Omer, Saad B., Preeti Malani, and Carlos Del Rio. “The COVID-19 pandemic in the US: a clinical update.” <em>Jama</em> 323.18 (2020): 1767-1768.</p>]"
      ]
     },
     "execution_count": 27,
     "metadata": {},
     "output_type": "execute_result"
    }
   ],
   "source": [
    "proftags = soup.findAll(\"p\")\n",
    "proftags"
   ]
  },
  {
   "cell_type": "code",
   "execution_count": 28,
   "id": "5c803a1e",
   "metadata": {},
   "outputs": [],
   "source": [
    "data =[]\n",
    "for mytag in proftags:\n",
    "    data.append(mytag.get_text())"
   ]
  },
  {
   "cell_type": "code",
   "execution_count": 29,
   "id": "2bd0bc0e",
   "metadata": {},
   "outputs": [
    {
     "name": "stdout",
     "output_type": "stream",
     "text": [
      "['As a result of the COVID-19 (Coronavirus) outbreak, daily life has been negatively affected, impacting the worldwide economy. Thousands of individuals have been sickened or died as a result of the outbreak of this disease. When you have the flu or a viral infection, the most common symptoms include fever, cold, coughing up bone fragments, and difficulty breathing, which may progress to pneumonia. It’s important to take major steps like keeping a strict cleaning routine, keeping social distance, and wearing masks, among other things. This virus’s geographic spread is accelerating (Daniel Pg 93). Governments restricted public meetings during the start of the pandemic to prevent the disease from spreading and breaking the exponential distribution curve. In order to avoid the damage caused by this extremely contagious disease, several countries quarantined their citizens. However, this scenario had drastically altered with the discovery of the vaccinations. The research aims to investigate the effect of the Covid-19 epidemic and its impact on the population’s well-being.', 'There is growing interest in the relationship between social determinants of health and health outcomes. Still, many health care providers and academics have been hesitant to recognize racism as a contributing factor to racial health disparities. Only a few research have examined the health effects of institutional racism, with the majority focusing on interpersonal racial and ethnic prejudice Ciotti et al., Pg 370. The latter comprises historically and culturally connected institutions that are interconnected. Prejudice is being practiced in a variety of contexts as a result of the COVID-19 outbreak. In some ways, the outbreak has exposed pre-existing bias and inequity.', 'Thousands of businesses are in danger of failure. Around 2.3 billion of the world’s 3.3 billion employees are out of work. These workers are especially susceptible since they lack access to social security and adequate health care, and they’ve also given up ownership of productive assets, which makes them highly vulnerable. Many individuals lose their employment as a result of lockdowns, leaving them unable to support their families. People strapped for cash are often forced to reduce their caloric intake while also eating less nutritiously (Fraser et al, Pg 3). The epidemic has had an impact on the whole food chain, revealing vulnerabilities that were previously hidden. Border closures, trade restrictions, and confinement measures have limited farmer access to markets, while agricultural workers have not gathered crops. As a result, the local and global food supply chain has been disrupted, and people now have less access to healthy foods. As a consequence of the epidemic, many individuals have lost their employment, and millions more are now in danger. When breadwinners lose their jobs, become sick, or die, the food and nutrition of millions of people are endangered. Particularly severely hit are the world’s poorest small farmers and indigenous peoples.', 'Infectious illness outbreaks and epidemics have become worldwide threats due to globalization, urbanization, and environmental change. In developed countries like Europe and North America, surveillance and health systems monitor and manage the spread of infectious illnesses in real-time. Both low- and high-income countries need to improve their public health capacities (Omer et al., Pg 1767). These improvements should be financed using a mix of national and foreign donor money. In order to speed up research and reaction for new illnesses with pandemic potential, a global collaborative effort including governments and commercial companies has been proposed. When working on a vaccine-like COVID-19, cooperation is critical.', 'The epidemic has had an impact on the whole food chain, revealing vulnerabilities that were previously hidden. Border closures, trade restrictions, and confinement measures have limited farmer access to markets, while agricultural workers have been unable to gather crops. As a result, the local and global food supply chain has been disrupted, and people now have less access to healthy foods (Daniel et al.,Pg 95) . As a consequence of the epidemic, many individuals have lost their employment, and millions more are now in danger. When breadwinners lose their jobs, the food and nutrition of millions of people are endangered. Particularly severely hit are the world’s poorest small farmers and indigenous peoples.', 'While helping to feed the world’s population, millions of paid and unpaid agricultural laborers suffer from high levels of poverty, hunger, and bad health, as well as a lack of safety and labor safeguards, as well as other kinds of abuse at work. Poor people, who have no recourse to social assistance, must work longer and harder, sometimes in hazardous occupations, endangering their families in the process (Daniel Pg 96). When faced with a lack of income, people may turn to hazardous financial activities, including asset liquidation, predatory lending, or child labor, to make ends meet. Because of the dangers they encounter while traveling, working, and living abroad; migrant agricultural laborers are especially vulnerable. They also have a difficult time taking advantage of government assistance programs.', 'The pandemic also has a significant impact on education. Although many educational institutions across the globe have already made the switch to online learning, the extent to which technology is utilized to improve the quality of distance or online learning varies. This level is dependent on several variables, including the different parties engaged in the execution of this learning format and the incorporation of technology into educational institutions before the time of school closure caused by the COVID-19 pandemic. For many years, researchers from all around the globe have worked to determine what variables contribute to effective technology integration in the classroom Ciotti et al., Pg 371. The amount of technology usage and the quality of learning when moving from a classroom to a distant or online format are presumed to be influenced by the same set of variables. Findings from previous research, which sought to determine what affects educational systems ability to integrate technology into teaching, suggest understanding how teachers, students, and technology interact positively in order to achieve positive results in the integration of teaching technology (Honey et al., 2000). Teachers’ views on teaching may affect the chances of successfully incorporating technology into the classroom and making it a part of the learning process.', 'In conclusion, indeed, Covid 19 pandemic have affected the well being of the people in a significant manner. The economy operation across the globe have been destabilized as most of the people have been rendered jobless while the job operation has been stopped. As most of the people have been rendered jobless the living conditions of the people have also been significantly affected. Besides, the education sector has also been affected as most of the learning institutions prefer the use of online learning which is not effective as compared to the traditional method. With the invention of the vaccines, most of the developed countries have been noted to stabilize slowly, while the developing countries have not been able to vaccinate most of its citizens. However, despite the challenge caused by the pandemic, organizations have been able to adapt the new mode of online trading to be promoted.', 'Work Cited', 'Ciotti, Marco, et al. “The COVID-19 pandemic.”\\xa0Critical reviews in clinical laboratory sciences\\xa057.6 (2020): 365-388.', 'Daniel, John. “Education and the COVID-19 pandemic.”\\xa0Prospects\\xa049.1 (2020): 91-96.', 'Fraser, Nicholas, et al. “Preprinting the COVID-19 pandemic.”\\xa0BioRxiv\\xa0(2021): 2020-05.', 'Omer, Saad B., Preeti Malani, and Carlos Del Rio. “The COVID-19 pandemic in the US: a clinical update.”\\xa0Jama\\xa0323.18 (2020): 1767-1768.']\n"
     ]
    }
   ],
   "source": [
    "print(data)"
   ]
  },
  {
   "cell_type": "code",
   "execution_count": 30,
   "id": "7c070720",
   "metadata": {},
   "outputs": [
    {
     "data": {
      "text/plain": [
       "13"
      ]
     },
     "execution_count": 30,
     "metadata": {},
     "output_type": "execute_result"
    }
   ],
   "source": [
    "len(data)"
   ]
  },
  {
   "cell_type": "code",
   "execution_count": null,
   "id": "bac51f78",
   "metadata": {},
   "outputs": [],
   "source": []
  },
  {
   "cell_type": "code",
   "execution_count": 31,
   "id": "bcc462a5",
   "metadata": {},
   "outputs": [],
   "source": [
    "#data = df.values.tolist()\n",
    "#data"
   ]
  },
  {
   "cell_type": "code",
   "execution_count": 32,
   "id": "b43624ce",
   "metadata": {},
   "outputs": [],
   "source": [
    "import re"
   ]
  },
  {
   "cell_type": "code",
   "execution_count": 33,
   "id": "2f874e90",
   "metadata": {},
   "outputs": [
    {
     "name": "stderr",
     "output_type": "stream",
     "text": [
      "<>:1: DeprecationWarning: invalid escape sequence \\S\n",
      "<>:1: DeprecationWarning: invalid escape sequence \\S\n",
      "C:\\Users\\monis\\AppData\\Local\\Temp/ipykernel_10768/3645447219.py:1: DeprecationWarning: invalid escape sequence \\S\n",
      "  data =[re.sub('\\S*@\\S*\\s?', '', sent) for sent in data]\n"
     ]
    }
   ],
   "source": [
    "\n",
    "data =[re.sub('\\S*@\\S*\\s?', '', sent) for sent in data]"
   ]
  },
  {
   "cell_type": "code",
   "execution_count": 34,
   "id": "054c7651",
   "metadata": {},
   "outputs": [
    {
     "name": "stdout",
     "output_type": "stream",
     "text": [
      "Requirement already satisfied: regex in c:\\users\\monis\\anaconda3\\lib\\site-packages (2021.8.3)\n"
     ]
    }
   ],
   "source": [
    "!pip install regex"
   ]
  },
  {
   "cell_type": "code",
   "execution_count": 35,
   "id": "33ecd588",
   "metadata": {},
   "outputs": [],
   "source": [
    "import regex as re"
   ]
  },
  {
   "cell_type": "code",
   "execution_count": 36,
   "id": "db8dab99",
   "metadata": {},
   "outputs": [
    {
     "name": "stderr",
     "output_type": "stream",
     "text": [
      "<>:1: DeprecationWarning: invalid escape sequence \\s\n",
      "<>:1: DeprecationWarning: invalid escape sequence \\s\n",
      "C:\\Users\\monis\\AppData\\Local\\Temp/ipykernel_10768/3500838521.py:1: DeprecationWarning: invalid escape sequence \\s\n",
      "  data = [re.sub('\\s+', ' ', sent) for sent in data]\n"
     ]
    },
    {
     "data": {
      "text/plain": [
       "['As a result of the COVID-19 (Coronavirus) outbreak, daily life has been negatively affected, impacting the worldwide economy. Thousands of individuals have been sickened or died as a result of the outbreak of this disease. When you have the flu or a viral infection, the most common symptoms include fever, cold, coughing up bone fragments, and difficulty breathing, which may progress to pneumonia. It’s important to take major steps like keeping a strict cleaning routine, keeping social distance, and wearing masks, among other things. This virus’s geographic spread is accelerating (Daniel Pg 93). Governments restricted public meetings during the start of the pandemic to prevent the disease from spreading and breaking the exponential distribution curve. In order to avoid the damage caused by this extremely contagious disease, several countries quarantined their citizens. However, this scenario had drastically altered with the discovery of the vaccinations. The research aims to investigate the effect of the Covid-19 epidemic and its impact on the population’s well-being.',\n",
       " 'There is growing interest in the relationship between social determinants of health and health outcomes. Still, many health care providers and academics have been hesitant to recognize racism as a contributing factor to racial health disparities. Only a few research have examined the health effects of institutional racism, with the majority focusing on interpersonal racial and ethnic prejudice Ciotti et al., Pg 370. The latter comprises historically and culturally connected institutions that are interconnected. Prejudice is being practiced in a variety of contexts as a result of the COVID-19 outbreak. In some ways, the outbreak has exposed pre-existing bias and inequity.',\n",
       " 'Thousands of businesses are in danger of failure. Around 2.3 billion of the world’s 3.3 billion employees are out of work. These workers are especially susceptible since they lack access to social security and adequate health care, and they’ve also given up ownership of productive assets, which makes them highly vulnerable. Many individuals lose their employment as a result of lockdowns, leaving them unable to support their families. People strapped for cash are often forced to reduce their caloric intake while also eating less nutritiously (Fraser et al, Pg 3). The epidemic has had an impact on the whole food chain, revealing vulnerabilities that were previously hidden. Border closures, trade restrictions, and confinement measures have limited farmer access to markets, while agricultural workers have not gathered crops. As a result, the local and global food supply chain has been disrupted, and people now have less access to healthy foods. As a consequence of the epidemic, many individuals have lost their employment, and millions more are now in danger. When breadwinners lose their jobs, become sick, or die, the food and nutrition of millions of people are endangered. Particularly severely hit are the world’s poorest small farmers and indigenous peoples.',\n",
       " 'Infectious illness outbreaks and epidemics have become worldwide threats due to globalization, urbanization, and environmental change. In developed countries like Europe and North America, surveillance and health systems monitor and manage the spread of infectious illnesses in real-time. Both low- and high-income countries need to improve their public health capacities (Omer et al., Pg 1767). These improvements should be financed using a mix of national and foreign donor money. In order to speed up research and reaction for new illnesses with pandemic potential, a global collaborative effort including governments and commercial companies has been proposed. When working on a vaccine-like COVID-19, cooperation is critical.',\n",
       " 'The epidemic has had an impact on the whole food chain, revealing vulnerabilities that were previously hidden. Border closures, trade restrictions, and confinement measures have limited farmer access to markets, while agricultural workers have been unable to gather crops. As a result, the local and global food supply chain has been disrupted, and people now have less access to healthy foods (Daniel et al.,Pg 95) . As a consequence of the epidemic, many individuals have lost their employment, and millions more are now in danger. When breadwinners lose their jobs, the food and nutrition of millions of people are endangered. Particularly severely hit are the world’s poorest small farmers and indigenous peoples.',\n",
       " 'While helping to feed the world’s population, millions of paid and unpaid agricultural laborers suffer from high levels of poverty, hunger, and bad health, as well as a lack of safety and labor safeguards, as well as other kinds of abuse at work. Poor people, who have no recourse to social assistance, must work longer and harder, sometimes in hazardous occupations, endangering their families in the process (Daniel Pg 96). When faced with a lack of income, people may turn to hazardous financial activities, including asset liquidation, predatory lending, or child labor, to make ends meet. Because of the dangers they encounter while traveling, working, and living abroad; migrant agricultural laborers are especially vulnerable. They also have a difficult time taking advantage of government assistance programs.',\n",
       " 'The pandemic also has a significant impact on education. Although many educational institutions across the globe have already made the switch to online learning, the extent to which technology is utilized to improve the quality of distance or online learning varies. This level is dependent on several variables, including the different parties engaged in the execution of this learning format and the incorporation of technology into educational institutions before the time of school closure caused by the COVID-19 pandemic. For many years, researchers from all around the globe have worked to determine what variables contribute to effective technology integration in the classroom Ciotti et al., Pg 371. The amount of technology usage and the quality of learning when moving from a classroom to a distant or online format are presumed to be influenced by the same set of variables. Findings from previous research, which sought to determine what affects educational systems ability to integrate technology into teaching, suggest understanding how teachers, students, and technology interact positively in order to achieve positive results in the integration of teaching technology (Honey et al., 2000). Teachers’ views on teaching may affect the chances of successfully incorporating technology into the classroom and making it a part of the learning process.',\n",
       " 'In conclusion, indeed, Covid 19 pandemic have affected the well being of the people in a significant manner. The economy operation across the globe have been destabilized as most of the people have been rendered jobless while the job operation has been stopped. As most of the people have been rendered jobless the living conditions of the people have also been significantly affected. Besides, the education sector has also been affected as most of the learning institutions prefer the use of online learning which is not effective as compared to the traditional method. With the invention of the vaccines, most of the developed countries have been noted to stabilize slowly, while the developing countries have not been able to vaccinate most of its citizens. However, despite the challenge caused by the pandemic, organizations have been able to adapt the new mode of online trading to be promoted.',\n",
       " 'Work Cited',\n",
       " 'Ciotti, Marco, et al. “The COVID-19 pandemic.” Critical reviews in clinical laboratory sciences 57.6 (2020): 365-388.',\n",
       " 'Daniel, John. “Education and the COVID-19 pandemic.” Prospects 49.1 (2020): 91-96.',\n",
       " 'Fraser, Nicholas, et al. “Preprinting the COVID-19 pandemic.” BioRxiv (2021): 2020-05.',\n",
       " 'Omer, Saad B., Preeti Malani, and Carlos Del Rio. “The COVID-19 pandemic in the US: a clinical update.” Jama 323.18 (2020): 1767-1768.']"
      ]
     },
     "execution_count": 36,
     "metadata": {},
     "output_type": "execute_result"
    }
   ],
   "source": [
    "data = [re.sub('\\s+', ' ', sent) for sent in data]\n",
    "data\n"
   ]
  },
  {
   "cell_type": "code",
   "execution_count": 37,
   "id": "762fb3b4",
   "metadata": {},
   "outputs": [
    {
     "data": {
      "text/plain": [
       "['As a result of the COVID-19 (Coronavirus) outbreak, daily life has been negatively affected, impacting the worldwide economy. Thousands of individuals have been sickened or died as a result of the outbreak of this disease. When you have the flu or a viral infection, the most common symptoms include fever, cold, coughing up bone fragments, and difficulty breathing, which may progress to pneumonia. It’s important to take major steps like keeping a strict cleaning routine, keeping social distance, and wearing masks, among other things. This virus’s geographic spread is accelerating (Daniel Pg 93). Governments restricted public meetings during the start of the pandemic to prevent the disease from spreading and breaking the exponential distribution curve. In order to avoid the damage caused by this extremely contagious disease, several countries quarantined their citizens. However, this scenario had drastically altered with the discovery of the vaccinations. The research aims to investigate the effect of the Covid-19 epidemic and its impact on the population’s well-being.',\n",
       " 'There is growing interest in the relationship between social determinants of health and health outcomes. Still, many health care providers and academics have been hesitant to recognize racism as a contributing factor to racial health disparities. Only a few research have examined the health effects of institutional racism, with the majority focusing on interpersonal racial and ethnic prejudice Ciotti et al., Pg 370. The latter comprises historically and culturally connected institutions that are interconnected. Prejudice is being practiced in a variety of contexts as a result of the COVID-19 outbreak. In some ways, the outbreak has exposed pre-existing bias and inequity.',\n",
       " 'Thousands of businesses are in danger of failure. Around 2.3 billion of the world’s 3.3 billion employees are out of work. These workers are especially susceptible since they lack access to social security and adequate health care, and they’ve also given up ownership of productive assets, which makes them highly vulnerable. Many individuals lose their employment as a result of lockdowns, leaving them unable to support their families. People strapped for cash are often forced to reduce their caloric intake while also eating less nutritiously (Fraser et al, Pg 3). The epidemic has had an impact on the whole food chain, revealing vulnerabilities that were previously hidden. Border closures, trade restrictions, and confinement measures have limited farmer access to markets, while agricultural workers have not gathered crops. As a result, the local and global food supply chain has been disrupted, and people now have less access to healthy foods. As a consequence of the epidemic, many individuals have lost their employment, and millions more are now in danger. When breadwinners lose their jobs, become sick, or die, the food and nutrition of millions of people are endangered. Particularly severely hit are the world’s poorest small farmers and indigenous peoples.',\n",
       " 'Infectious illness outbreaks and epidemics have become worldwide threats due to globalization, urbanization, and environmental change. In developed countries like Europe and North America, surveillance and health systems monitor and manage the spread of infectious illnesses in real-time. Both low- and high-income countries need to improve their public health capacities (Omer et al., Pg 1767). These improvements should be financed using a mix of national and foreign donor money. In order to speed up research and reaction for new illnesses with pandemic potential, a global collaborative effort including governments and commercial companies has been proposed. When working on a vaccine-like COVID-19, cooperation is critical.',\n",
       " 'The epidemic has had an impact on the whole food chain, revealing vulnerabilities that were previously hidden. Border closures, trade restrictions, and confinement measures have limited farmer access to markets, while agricultural workers have been unable to gather crops. As a result, the local and global food supply chain has been disrupted, and people now have less access to healthy foods (Daniel et al.,Pg 95) . As a consequence of the epidemic, many individuals have lost their employment, and millions more are now in danger. When breadwinners lose their jobs, the food and nutrition of millions of people are endangered. Particularly severely hit are the world’s poorest small farmers and indigenous peoples.',\n",
       " 'While helping to feed the world’s population, millions of paid and unpaid agricultural laborers suffer from high levels of poverty, hunger, and bad health, as well as a lack of safety and labor safeguards, as well as other kinds of abuse at work. Poor people, who have no recourse to social assistance, must work longer and harder, sometimes in hazardous occupations, endangering their families in the process (Daniel Pg 96). When faced with a lack of income, people may turn to hazardous financial activities, including asset liquidation, predatory lending, or child labor, to make ends meet. Because of the dangers they encounter while traveling, working, and living abroad; migrant agricultural laborers are especially vulnerable. They also have a difficult time taking advantage of government assistance programs.',\n",
       " 'The pandemic also has a significant impact on education. Although many educational institutions across the globe have already made the switch to online learning, the extent to which technology is utilized to improve the quality of distance or online learning varies. This level is dependent on several variables, including the different parties engaged in the execution of this learning format and the incorporation of technology into educational institutions before the time of school closure caused by the COVID-19 pandemic. For many years, researchers from all around the globe have worked to determine what variables contribute to effective technology integration in the classroom Ciotti et al., Pg 371. The amount of technology usage and the quality of learning when moving from a classroom to a distant or online format are presumed to be influenced by the same set of variables. Findings from previous research, which sought to determine what affects educational systems ability to integrate technology into teaching, suggest understanding how teachers, students, and technology interact positively in order to achieve positive results in the integration of teaching technology (Honey et al., 2000). Teachers’ views on teaching may affect the chances of successfully incorporating technology into the classroom and making it a part of the learning process.',\n",
       " 'In conclusion, indeed, Covid 19 pandemic have affected the well being of the people in a significant manner. The economy operation across the globe have been destabilized as most of the people have been rendered jobless while the job operation has been stopped. As most of the people have been rendered jobless the living conditions of the people have also been significantly affected. Besides, the education sector has also been affected as most of the learning institutions prefer the use of online learning which is not effective as compared to the traditional method. With the invention of the vaccines, most of the developed countries have been noted to stabilize slowly, while the developing countries have not been able to vaccinate most of its citizens. However, despite the challenge caused by the pandemic, organizations have been able to adapt the new mode of online trading to be promoted.',\n",
       " 'Work Cited',\n",
       " 'Ciotti, Marco, et al. “The COVID-19 pandemic.” Critical reviews in clinical laboratory sciences 57.6 (2020): 365-388.',\n",
       " 'Daniel, John. “Education and the COVID-19 pandemic.” Prospects 49.1 (2020): 91-96.',\n",
       " 'Fraser, Nicholas, et al. “Preprinting the COVID-19 pandemic.” BioRxiv (2021): 2020-05.',\n",
       " 'Omer, Saad B., Preeti Malani, and Carlos Del Rio. “The COVID-19 pandemic in the US: a clinical update.” Jama 323.18 (2020): 1767-1768.']"
      ]
     },
     "execution_count": 37,
     "metadata": {},
     "output_type": "execute_result"
    }
   ],
   "source": [
    "data = [re.sub(\"\\'\", \"\", sent) for sent in data]\n",
    "data"
   ]
  },
  {
   "cell_type": "code",
   "execution_count": 38,
   "id": "ef16353f",
   "metadata": {},
   "outputs": [
    {
     "name": "stdout",
     "output_type": "stream",
     "text": [
      "['As a result of the COVID-19 (Coronavirus) outbreak, daily life has been negatively affected, impacting the worldwide economy. Thousands of individuals have been sickened or died as a result of the outbreak of this disease. When you have the flu or a viral infection, the most common symptoms include fever, cold, coughing up bone fragments, and difficulty breathing, which may progress to pneumonia. It’s important to take major steps like keeping a strict cleaning routine, keeping social distance, and wearing masks, among other things. This virus’s geographic spread is accelerating (Daniel Pg 93). Governments restricted public meetings during the start of the pandemic to prevent the disease from spreading and breaking the exponential distribution curve. In order to avoid the damage caused by this extremely contagious disease, several countries quarantined their citizens. However, this scenario had drastically altered with the discovery of the vaccinations. The research aims to investigate the effect of the Covid-19 epidemic and its impact on the population’s well-being.', 'There is growing interest in the relationship between social determinants of health and health outcomes. Still, many health care providers and academics have been hesitant to recognize racism as a contributing factor to racial health disparities. Only a few research have examined the health effects of institutional racism, with the majority focusing on interpersonal racial and ethnic prejudice Ciotti et al., Pg 370. The latter comprises historically and culturally connected institutions that are interconnected. Prejudice is being practiced in a variety of contexts as a result of the COVID-19 outbreak. In some ways, the outbreak has exposed pre-existing bias and inequity.']\n"
     ]
    }
   ],
   "source": [
    "print(data[:2])"
   ]
  },
  {
   "cell_type": "code",
   "execution_count": 39,
   "id": "31731625",
   "metadata": {},
   "outputs": [],
   "source": [
    "import gensim"
   ]
  },
  {
   "cell_type": "code",
   "execution_count": 40,
   "id": "9084f778",
   "metadata": {},
   "outputs": [
    {
     "name": "stdout",
     "output_type": "stream",
     "text": [
      "[['as', 'result', 'of', 'the', 'covid', 'coronavirus', 'outbreak', 'daily', 'life', 'has', 'been', 'negatively', 'affected', 'impacting', 'the', 'worldwide', 'economy', 'thousands', 'of', 'individuals', 'have', 'been', 'sickened', 'or', 'died', 'as', 'result', 'of', 'the', 'outbreak', 'of', 'this', 'disease', 'when', 'you', 'have', 'the', 'flu', 'or', 'viral', 'infection', 'the', 'most', 'common', 'symptoms', 'include', 'fever', 'cold', 'coughing', 'up', 'bone', 'fragments', 'and', 'difficulty', 'breathing', 'which', 'may', 'progress', 'to', 'pneumonia', 'it', 'important', 'to', 'take', 'major', 'steps', 'like', 'keeping', 'strict', 'cleaning', 'routine', 'keeping', 'social', 'distance', 'and', 'wearing', 'masks', 'among', 'other', 'things', 'this', 'virus', 'geographic', 'spread', 'is', 'accelerating', 'daniel', 'pg', 'governments', 'restricted', 'public', 'meetings', 'during', 'the', 'start', 'of', 'the', 'pandemic', 'to', 'prevent', 'the', 'disease', 'from', 'spreading', 'and', 'breaking', 'the', 'exponential', 'distribution', 'curve', 'in', 'order', 'to', 'avoid', 'the', 'damage', 'caused', 'by', 'this', 'extremely', 'contagious', 'disease', 'several', 'countries', 'quarantined', 'their', 'citizens', 'however', 'this', 'scenario', 'had', 'drastically', 'altered', 'with', 'the', 'discovery', 'of', 'the', 'vaccinations', 'the', 'research', 'aims', 'to', 'investigate', 'the', 'effect', 'of', 'the', 'covid', 'epidemic', 'and', 'its', 'impact', 'on', 'the', 'population', 'well', 'being'], ['there', 'is', 'growing', 'interest', 'in', 'the', 'relationship', 'between', 'social', 'determinants', 'of', 'health', 'and', 'health', 'outcomes', 'still', 'many', 'health', 'care', 'providers', 'and', 'academics', 'have', 'been', 'hesitant', 'to', 'recognize', 'racism', 'as', 'contributing', 'factor', 'to', 'racial', 'health', 'disparities', 'only', 'few', 'research', 'have', 'examined', 'the', 'health', 'effects', 'of', 'institutional', 'racism', 'with', 'the', 'majority', 'focusing', 'on', 'interpersonal', 'racial', 'and', 'ethnic', 'prejudice', 'ciotti', 'et', 'al', 'pg', 'the', 'latter', 'comprises', 'historically', 'and', 'culturally', 'connected', 'institutions', 'that', 'are', 'interconnected', 'prejudice', 'is', 'being', 'practiced', 'in', 'variety', 'of', 'contexts', 'as', 'result', 'of', 'the', 'covid', 'outbreak', 'in', 'some', 'ways', 'the', 'outbreak', 'has', 'exposed', 'pre', 'existing', 'bias', 'and', 'inequity']]\n"
     ]
    }
   ],
   "source": [
    "def sent_to_words(sentences):\n",
    "    for sentence in sentences:\n",
    "        yield(gensim.utils.simple_preprocess(str(sentence), deacc=True))\n",
    "data_words = list(sent_to_words(data))\n",
    "\n",
    "print(data_words[:2])        "
   ]
  },
  {
   "cell_type": "code",
   "execution_count": 41,
   "id": "993a5386",
   "metadata": {},
   "outputs": [
    {
     "name": "stdout",
     "output_type": "stream",
     "text": [
      "['there', 'is', 'growing', 'interest', 'in', 'the', 'relationship', 'between', 'social', 'determinants', 'of', 'health', 'and', 'health', 'outcomes', 'still', 'many', 'health', 'care', 'providers', 'and', 'academics', 'have', 'been', 'hesitant', 'to', 'recognize', 'racism', 'as', 'contributing', 'factor', 'to', 'racial', 'health', 'disparities', 'only', 'few', 'research', 'have', 'examined', 'the', 'health', 'effects', 'of', 'institutional', 'racism', 'with', 'the', 'majority', 'focusing', 'on', 'interpersonal', 'racial', 'and', 'ethnic', 'prejudice', 'ciotti', 'et', 'al', 'pg', 'the', 'latter', 'comprises', 'historically', 'and', 'culturally', 'connected', 'institutions', 'that', 'are', 'interconnected', 'prejudice', 'is', 'being', 'practiced', 'in', 'variety', 'of', 'contexts', 'as', 'result', 'of', 'the', 'covid', 'outbreak', 'in', 'some', 'ways', 'the', 'outbreak', 'has', 'exposed', 'pre', 'existing', 'bias', 'and', 'inequity']\n"
     ]
    }
   ],
   "source": [
    "# Build the bigram and trigram models\n",
    "bigram = gensim.models.Phrases(data_words, min_count=5, threshold=100) # higher threshold fewer phrases.\n",
    "trigram = gensim.models.Phrases(bigram[data_words], threshold=100)  \n",
    "\n",
    "# Faster way to get a sentence clubbed as a trigram/bigram\n",
    "bigram_mod = gensim.models.phrases.Phraser(bigram)\n",
    "trigram_mod = gensim.models.phrases.Phraser(trigram)\n",
    "\n",
    "# See trigram example\n",
    "print(trigram_mod[bigram_mod[data_words[1]]])"
   ]
  },
  {
   "cell_type": "code",
   "execution_count": 42,
   "id": "4bdd4398",
   "metadata": {},
   "outputs": [],
   "source": [
    "# Define functions for stopwords, bigrams, trigrams and lemmatization\n",
    "def remove_stopwords(texts):\n",
    "    return [[word for word in simple_preprocess(str(doc)) if word not in stop_words] for doc in texts]\n",
    "\n",
    "def make_bigrams(texts):\n",
    "    return [bigram_mod[doc] for doc in texts]\n",
    "\n",
    "def make_trigrams(texts):\n",
    "    return [trigram_mod[bigram_mod[doc]] for doc in texts]\n",
    "\n",
    "def lemmatization(texts, allowed_postags=['NOUN', 'ADJ', 'VERB', 'ADV']):\n",
    "    \"\"\"https://spacy.io/api/annotation\"\"\"\n",
    "    texts_out = []\n",
    "    for sent in texts:\n",
    "        doc = nlp(\" \".join(sent)) \n",
    "        texts_out.append([token.lemma_ for token in doc if token.pos_ in allowed_postags])\n",
    "    return texts_out"
   ]
  },
  {
   "cell_type": "code",
   "execution_count": 43,
   "id": "c913309a",
   "metadata": {},
   "outputs": [],
   "source": [
    "import spacy"
   ]
  },
  {
   "cell_type": "code",
   "execution_count": 44,
   "id": "7dbbb10a",
   "metadata": {},
   "outputs": [],
   "source": [
    "# Remove Stop Words\n",
    "data_words_nostops = remove_stopwords(data_words)\n"
   ]
  },
  {
   "cell_type": "code",
   "execution_count": 45,
   "id": "23c3b82b",
   "metadata": {},
   "outputs": [],
   "source": [
    "# Form Bigrams\n",
    "data_words_bigrams = make_bigrams(data_words_nostops)"
   ]
  },
  {
   "cell_type": "code",
   "execution_count": 46,
   "id": "986de77d",
   "metadata": {},
   "outputs": [
    {
     "data": {
      "text/plain": [
       "<spacy.lang.en.English at 0x1e91d7818e0>"
      ]
     },
     "execution_count": 46,
     "metadata": {},
     "output_type": "execute_result"
    }
   ],
   "source": [
    "nlp = spacy.load(\"en_core_web_sm\")\n",
    "nlp"
   ]
  },
  {
   "cell_type": "code",
   "execution_count": 47,
   "id": "2a45c0d5",
   "metadata": {},
   "outputs": [],
   "source": [
    "data_lemmatized = lemmatization(data_words_bigrams, allowed_postags=['NOUN', 'ADJ', 'VERB', 'ADV'])"
   ]
  },
  {
   "cell_type": "code",
   "execution_count": 48,
   "id": "70c478f5",
   "metadata": {},
   "outputs": [
    {
     "name": "stdout",
     "output_type": "stream",
     "text": [
      "[['result', 'covid', 'daily', 'life', 'negatively', 'affect', 'impact', 'worldwide', 'economy', 'thousand', 'individual', 'sicken', 'die', 'result', 'outbreak', 'disease', 'flu', 'viral', 'infection', 'common', 'symptom', 'include', 'fever', 'cold', 'coughing', 'bone', 'fragment', 'difficulty', 'breathing', 'progress', 'pneumonia', 'important', 'take', 'major', 'step', 'keep', 'strict', 'cleaning', 'routine', 'keep', 'social', 'distance', 'wear', 'mask', 'thing', 'virus', 'geographic', 'spread', 'accelerate', 'government', 'restrict', 'public', 'meeting', 'start', 'pandemic', 'prevent', 'disease', 'spread', 'break', 'exponential', 'distribution', 'curve', 'order', 'avoid', 'damage', 'cause', 'extremely', 'contagious', 'disease', 'several', 'country', 'quarantine', 'citizen', 'however', 'scenario', 'drastically', 'alter', 'discovery', 'vaccination', 'research', 'aim', 'investigate', 'effect', 'covid', 'epidemic', 'impact', 'population', 'well'], ['grow', 'interest', 'relationship', 'social', 'determinant', 'health', 'health', 'outcome', 'still', 'many', 'health', 'care', 'provider', 'academic', 'hesitant', 'recognize', 'racism', 'contribute', 'factor', 'racial', 'health', 'disparity', 'research', 'examine', 'health', 'effect', 'institutional', 'racism', 'majority', 'focus', 'interpersonal', 'racial', 'ethnic', 'prejudice', 'latter', 'comprise', 'historically', 'culturally', 'connect', 'institution', 'interconnect', 'prejudice', 'practice', 'variety', 'result', 'covid', 'outbreak', 'way', 'outbreak', 'expose', 'pre', 'exist', 'bias', 'inequity']]\n"
     ]
    }
   ],
   "source": [
    "print(data_lemmatized[:2])"
   ]
  },
  {
   "cell_type": "code",
   "execution_count": 49,
   "id": "81e5959a",
   "metadata": {},
   "outputs": [],
   "source": [
    "# Create Dictionary\n",
    "id2word = corpora.Dictionary(data_lemmatized)\n"
   ]
  },
  {
   "cell_type": "code",
   "execution_count": 50,
   "id": "e6f254c5",
   "metadata": {},
   "outputs": [],
   "source": [
    "# Create Corpus\n",
    "texts = data_lemmatized"
   ]
  },
  {
   "cell_type": "code",
   "execution_count": 51,
   "id": "1501d4e3",
   "metadata": {},
   "outputs": [],
   "source": [
    "# Term Document Frequency\n",
    "corpus = [id2word.doc2bow(text) for text in texts]\n"
   ]
  },
  {
   "cell_type": "code",
   "execution_count": 52,
   "id": "d41d35f4",
   "metadata": {},
   "outputs": [
    {
     "name": "stdout",
     "output_type": "stream",
     "text": [
      "[[(0, 1), (1, 1), (2, 1), (3, 1), (4, 1), (5, 1), (6, 1), (7, 1), (8, 1), (9, 1), (10, 1), (11, 1), (12, 1), (13, 1), (14, 1), (15, 1), (16, 2), (17, 1), (18, 1), (19, 1), (20, 1), (21, 1), (22, 1), (23, 3), (24, 1), (25, 1), (26, 1), (27, 1), (28, 1), (29, 1), (30, 1), (31, 1), (32, 1), (33, 1), (34, 1), (35, 1), (36, 1), (37, 1), (38, 2), (39, 1), (40, 1), (41, 1), (42, 1), (43, 1), (44, 2), (45, 1), (46, 1), (47, 1), (48, 1), (49, 1), (50, 1), (51, 1), (52, 1), (53, 1), (54, 1), (55, 1), (56, 1), (57, 1), (58, 1), (59, 1), (60, 1), (61, 2), (62, 1), (63, 1), (64, 1), (65, 1), (66, 1), (67, 2), (68, 1), (69, 1), (70, 1), (71, 1), (72, 1), (73, 1), (74, 1), (75, 1), (76, 1), (77, 1), (78, 1), (79, 1), (80, 1)], [(16, 1), (28, 1), (51, 2), (59, 1), (61, 1), (66, 1), (81, 1), (82, 1), (83, 1), (84, 1), (85, 1), (86, 1), (87, 1), (88, 1), (89, 1), (90, 1), (91, 1), (92, 1), (93, 1), (94, 1), (95, 1), (96, 1), (97, 5), (98, 1), (99, 1), (100, 1), (101, 1), (102, 1), (103, 1), (104, 1), (105, 1), (106, 1), (107, 1), (108, 1), (109, 1), (110, 1), (111, 1), (112, 2), (113, 1), (114, 2), (115, 2), (116, 1), (117, 1), (118, 1), (119, 1), (120, 1)]]\n"
     ]
    }
   ],
   "source": [
    "\n",
    "# View\n",
    "print(corpus[:2])"
   ]
  },
  {
   "cell_type": "code",
   "execution_count": 53,
   "id": "064ec892",
   "metadata": {},
   "outputs": [
    {
     "data": {
      "text/plain": [
       "'affect'"
      ]
     },
     "execution_count": 53,
     "metadata": {},
     "output_type": "execute_result"
    }
   ],
   "source": [
    "id2word[1]"
   ]
  },
  {
   "cell_type": "code",
   "execution_count": 54,
   "id": "be9f2bff",
   "metadata": {},
   "outputs": [
    {
     "data": {
      "text/plain": [
       "[[('accelerate', 1),\n",
       "  ('affect', 1),\n",
       "  ('aim', 1),\n",
       "  ('alter', 1),\n",
       "  ('avoid', 1),\n",
       "  ('bone', 1),\n",
       "  ('break', 1),\n",
       "  ('breathing', 1),\n",
       "  ('cause', 1),\n",
       "  ('citizen', 1),\n",
       "  ('cleaning', 1),\n",
       "  ('cold', 1),\n",
       "  ('common', 1),\n",
       "  ('contagious', 1),\n",
       "  ('coughing', 1),\n",
       "  ('country', 1),\n",
       "  ('covid', 2),\n",
       "  ('curve', 1),\n",
       "  ('daily', 1),\n",
       "  ('damage', 1),\n",
       "  ('die', 1),\n",
       "  ('difficulty', 1),\n",
       "  ('discovery', 1),\n",
       "  ('disease', 3),\n",
       "  ('distance', 1),\n",
       "  ('distribution', 1),\n",
       "  ('drastically', 1),\n",
       "  ('economy', 1),\n",
       "  ('effect', 1),\n",
       "  ('epidemic', 1),\n",
       "  ('exponential', 1),\n",
       "  ('extremely', 1),\n",
       "  ('fever', 1),\n",
       "  ('flu', 1),\n",
       "  ('fragment', 1),\n",
       "  ('geographic', 1),\n",
       "  ('government', 1),\n",
       "  ('however', 1),\n",
       "  ('impact', 2),\n",
       "  ('important', 1),\n",
       "  ('include', 1),\n",
       "  ('individual', 1),\n",
       "  ('infection', 1),\n",
       "  ('investigate', 1),\n",
       "  ('keep', 2),\n",
       "  ('life', 1),\n",
       "  ('major', 1),\n",
       "  ('mask', 1),\n",
       "  ('meeting', 1),\n",
       "  ('negatively', 1),\n",
       "  ('order', 1),\n",
       "  ('outbreak', 1),\n",
       "  ('pandemic', 1),\n",
       "  ('pneumonia', 1),\n",
       "  ('population', 1),\n",
       "  ('prevent', 1),\n",
       "  ('progress', 1),\n",
       "  ('public', 1),\n",
       "  ('quarantine', 1),\n",
       "  ('research', 1),\n",
       "  ('restrict', 1),\n",
       "  ('result', 2),\n",
       "  ('routine', 1),\n",
       "  ('scenario', 1),\n",
       "  ('several', 1),\n",
       "  ('sicken', 1),\n",
       "  ('social', 1),\n",
       "  ('spread', 2),\n",
       "  ('start', 1),\n",
       "  ('step', 1),\n",
       "  ('strict', 1),\n",
       "  ('symptom', 1),\n",
       "  ('take', 1),\n",
       "  ('thing', 1),\n",
       "  ('thousand', 1),\n",
       "  ('vaccination', 1),\n",
       "  ('viral', 1),\n",
       "  ('virus', 1),\n",
       "  ('wear', 1),\n",
       "  ('well', 1),\n",
       "  ('worldwide', 1)],\n",
       " [('covid', 1),\n",
       "  ('effect', 1),\n",
       "  ('outbreak', 2),\n",
       "  ('research', 1),\n",
       "  ('result', 1),\n",
       "  ('social', 1),\n",
       "  ('academic', 1),\n",
       "  ('bias', 1),\n",
       "  ('care', 1),\n",
       "  ('comprise', 1),\n",
       "  ('connect', 1),\n",
       "  ('contribute', 1),\n",
       "  ('culturally', 1),\n",
       "  ('determinant', 1),\n",
       "  ('disparity', 1),\n",
       "  ('ethnic', 1),\n",
       "  ('examine', 1),\n",
       "  ('exist', 1),\n",
       "  ('expose', 1),\n",
       "  ('factor', 1),\n",
       "  ('focus', 1),\n",
       "  ('grow', 1),\n",
       "  ('health', 5),\n",
       "  ('hesitant', 1),\n",
       "  ('historically', 1),\n",
       "  ('inequity', 1),\n",
       "  ('institution', 1),\n",
       "  ('institutional', 1),\n",
       "  ('interconnect', 1),\n",
       "  ('interest', 1),\n",
       "  ('interpersonal', 1),\n",
       "  ('latter', 1),\n",
       "  ('majority', 1),\n",
       "  ('many', 1),\n",
       "  ('outcome', 1),\n",
       "  ('practice', 1),\n",
       "  ('pre', 1),\n",
       "  ('prejudice', 2),\n",
       "  ('provider', 1),\n",
       "  ('racial', 2),\n",
       "  ('racism', 2),\n",
       "  ('recognize', 1),\n",
       "  ('relationship', 1),\n",
       "  ('still', 1),\n",
       "  ('variety', 1),\n",
       "  ('way', 1)]]"
      ]
     },
     "execution_count": 54,
     "metadata": {},
     "output_type": "execute_result"
    }
   ],
   "source": [
    "[[(id2word[id], freq) for id, freq in cp] for cp in corpus[:2]]"
   ]
  },
  {
   "cell_type": "code",
   "execution_count": 55,
   "id": "464e47de",
   "metadata": {},
   "outputs": [],
   "source": [
    "# Build LDA model\n",
    "lda_model = gensim.models.ldamodel.LdaModel(corpus=corpus,\n",
    "                                           id2word=id2word,\n",
    "                                           num_topics=20, \n",
    "                                           random_state=100,\n",
    "                                           update_every=1,\n",
    "                                           chunksize=100,\n",
    "                                           passes=10,\n",
    "                                           alpha='auto',\n",
    "                                           per_word_topics=True)"
   ]
  },
  {
   "cell_type": "code",
   "execution_count": 56,
   "id": "c30cf3bf",
   "metadata": {},
   "outputs": [
    {
     "name": "stdout",
     "output_type": "stream",
     "text": [
      "[(0, '0.003*\"work\" + 0.003*\"hazardous\" + 0.003*\"agricultural\" + 0.003*\"labor\" + 0.003*\"assistance\" + 0.003*\"lack\" + 0.003*\"people\" + 0.003*\"endanger\" + 0.003*\"asset\" + 0.003*\"laborer\"'), (1, '0.003*\"technology\" + 0.003*\"learning\" + 0.003*\"variable\" + 0.003*\"classroom\" + 0.003*\"quality\" + 0.003*\"learn\" + 0.003*\"online\" + 0.003*\"educational\" + 0.003*\"globe\" + 0.003*\"teacher\"'), (2, '0.029*\"disease\" + 0.019*\"result\" + 0.019*\"impact\" + 0.019*\"keep\" + 0.019*\"covid\" + 0.019*\"spread\" + 0.010*\"outbreak\" + 0.010*\"thousand\" + 0.010*\"epidemic\" + 0.010*\"effect\"'), (3, '0.063*\"technology\" + 0.024*\"educational\" + 0.024*\"online\" + 0.024*\"classroom\" + 0.024*\"learning\" + 0.024*\"variable\" + 0.016*\"affect\" + 0.016*\"pandemic\" + 0.016*\"many\" + 0.016*\"determine\"'), (4, '0.003*\"child\" + 0.003*\"assistance\" + 0.003*\"hazardous\" + 0.003*\"hard\" + 0.003*\"financial\" + 0.003*\"feed\" + 0.003*\"face\" + 0.003*\"end\" + 0.003*\"encounter\" + 0.003*\"difficult\"'), (5, '0.003*\"affect\" + 0.003*\"people\" + 0.003*\"disease\" + 0.003*\"render\" + 0.003*\"pandemic\" + 0.003*\"covid\" + 0.003*\"country\" + 0.003*\"operation\" + 0.003*\"citizen\" + 0.003*\"also\"'), (6, '0.003*\"child\" + 0.003*\"assistance\" + 0.003*\"hazardous\" + 0.003*\"hard\" + 0.003*\"financial\" + 0.003*\"feed\" + 0.003*\"face\" + 0.003*\"end\" + 0.003*\"encounter\" + 0.003*\"difficult\"'), (7, '0.042*\"critical\" + 0.042*\"review\" + 0.042*\"pandemic\" + 0.042*\"clinical\" + 0.042*\"science\" + 0.042*\"laboratory\" + 0.002*\"people\" + 0.002*\"lose\" + 0.002*\"food\" + 0.002*\"employment\"'), (8, '0.003*\"people\" + 0.003*\"lose\" + 0.003*\"food\" + 0.003*\"access\" + 0.003*\"chain\" + 0.003*\"epidemic\" + 0.003*\"farmer\" + 0.003*\"danger\" + 0.003*\"many\" + 0.003*\"world\"'), (9, '0.003*\"child\" + 0.003*\"assistance\" + 0.003*\"hazardous\" + 0.003*\"hard\" + 0.003*\"financial\" + 0.003*\"feed\" + 0.003*\"face\" + 0.003*\"end\" + 0.003*\"encounter\" + 0.003*\"difficult\"'), (10, '0.046*\"people\" + 0.034*\"affect\" + 0.034*\"develop\" + 0.024*\"country\" + 0.023*\"pandemic\" + 0.023*\"able\" + 0.023*\"online\" + 0.023*\"jobless\" + 0.023*\"also\" + 0.023*\"operation\"'), (11, '0.003*\"people\" + 0.003*\"lose\" + 0.003*\"food\" + 0.003*\"epidemic\" + 0.003*\"result\" + 0.003*\"individual\" + 0.003*\"access\" + 0.003*\"employment\" + 0.003*\"world\" + 0.003*\"also\"'), (12, '0.033*\"work\" + 0.022*\"assistance\" + 0.022*\"lack\" + 0.022*\"labor\" + 0.022*\"agricultural\" + 0.022*\"people\" + 0.022*\"laborer\" + 0.022*\"hazardous\" + 0.011*\"income\" + 0.011*\"child\"'), (13, '0.069*\"health\" + 0.028*\"prejudice\" + 0.028*\"outbreak\" + 0.028*\"racial\" + 0.028*\"racism\" + 0.014*\"grow\" + 0.014*\"exist\" + 0.014*\"social\" + 0.014*\"covid\" + 0.014*\"result\"'), (14, '0.003*\"child\" + 0.003*\"assistance\" + 0.003*\"hazardous\" + 0.003*\"hard\" + 0.003*\"financial\" + 0.003*\"feed\" + 0.003*\"face\" + 0.003*\"end\" + 0.003*\"encounter\" + 0.003*\"difficult\"'), (15, '0.003*\"food\" + 0.003*\"people\" + 0.003*\"farmer\" + 0.003*\"chain\" + 0.003*\"epidemic\" + 0.003*\"lose\" + 0.003*\"million\" + 0.003*\"access\" + 0.003*\"gather\" + 0.003*\"disrupt\"'), (16, '0.003*\"people\" + 0.003*\"food\" + 0.003*\"lose\" + 0.003*\"world\" + 0.003*\"also\" + 0.003*\"many\" + 0.003*\"epidemic\" + 0.003*\"worker\" + 0.003*\"individual\" + 0.003*\"less\"'), (17, '0.036*\"illness\" + 0.024*\"omer\" + 0.024*\"covid\" + 0.024*\"pandemic\" + 0.024*\"health\" + 0.024*\"infectious\" + 0.023*\"country\" + 0.013*\"update\" + 0.013*\"clinical\" + 0.013*\"include\"'), (18, '0.042*\"food\" + 0.037*\"people\" + 0.027*\"access\" + 0.027*\"lose\" + 0.021*\"million\" + 0.021*\"farmer\" + 0.021*\"chain\" + 0.021*\"epidemic\" + 0.016*\"worker\" + 0.016*\"result\"'), (19, '0.086*\"covid\" + 0.086*\"pandemic\" + 0.044*\"prospect\" + 0.002*\"disease\" + 0.002*\"result\" + 0.002*\"impact\" + 0.002*\"keep\" + 0.002*\"spread\" + 0.002*\"vaccination\" + 0.002*\"infection\"')]\n"
     ]
    }
   ],
   "source": [
    "# Print the Keyword in the 10 topics\n",
    "print(lda_model.print_topics())\n",
    "doc_lda = lda_model[corpus]"
   ]
  },
  {
   "cell_type": "code",
   "execution_count": 57,
   "id": "d9085e25",
   "metadata": {},
   "outputs": [
    {
     "name": "stdout",
     "output_type": "stream",
     "text": [
      "\n",
      "Perplexity:  -6.3508706596038795\n",
      "\n",
      "Coherence Score:  0.8074769375159946\n"
     ]
    }
   ],
   "source": [
    "# Compute Perplexity\n",
    "print('\\nPerplexity: ', lda_model.log_perplexity(corpus))  # a measure of how good the model is. lower the better.\n",
    "\n",
    "# Compute Coherence Score\n",
    "coherence_model_lda = CoherenceModel(model=lda_model, texts=data_lemmatized, dictionary=id2word, coherence='c_v')\n",
    "coherence_lda = coherence_model_lda.get_coherence()\n",
    "print('\\nCoherence Score: ', coherence_lda)"
   ]
  },
  {
   "cell_type": "code",
   "execution_count": 58,
   "id": "7cd9fa2a",
   "metadata": {},
   "outputs": [
    {
     "ename": "AttributeError",
     "evalue": "module 'pyLDAvis' has no attribute 'gensim'",
     "output_type": "error",
     "traceback": [
      "\u001b[1;31m---------------------------------------------------------------------------\u001b[0m",
      "\u001b[1;31mAttributeError\u001b[0m                            Traceback (most recent call last)",
      "\u001b[1;32m~\\AppData\\Local\\Temp/ipykernel_10768/975574718.py\u001b[0m in \u001b[0;36m<module>\u001b[1;34m\u001b[0m\n\u001b[0;32m      1\u001b[0m \u001b[1;31m# Visualize the topics\u001b[0m\u001b[1;33m\u001b[0m\u001b[1;33m\u001b[0m\u001b[0m\n\u001b[0;32m      2\u001b[0m \u001b[0mpyLDAvis\u001b[0m\u001b[1;33m.\u001b[0m\u001b[0menable_notebook\u001b[0m\u001b[1;33m(\u001b[0m\u001b[1;33m)\u001b[0m\u001b[1;33m\u001b[0m\u001b[1;33m\u001b[0m\u001b[0m\n\u001b[1;32m----> 3\u001b[1;33m \u001b[0mvis\u001b[0m \u001b[1;33m=\u001b[0m \u001b[0mpyLDAvis\u001b[0m\u001b[1;33m.\u001b[0m\u001b[0mgensim\u001b[0m\u001b[1;33m.\u001b[0m\u001b[0mprepare\u001b[0m\u001b[1;33m(\u001b[0m\u001b[0mlda_model\u001b[0m\u001b[1;33m,\u001b[0m \u001b[0mcorpus\u001b[0m\u001b[1;33m,\u001b[0m \u001b[0mid2word\u001b[0m\u001b[1;33m)\u001b[0m\u001b[1;33m\u001b[0m\u001b[1;33m\u001b[0m\u001b[0m\n\u001b[0m\u001b[0;32m      4\u001b[0m \u001b[0mvis\u001b[0m\u001b[1;33m\u001b[0m\u001b[1;33m\u001b[0m\u001b[0m\n",
      "\u001b[1;31mAttributeError\u001b[0m: module 'pyLDAvis' has no attribute 'gensim'"
     ]
    }
   ],
   "source": [
    "# Visualize the topics\n",
    "pyLDAvis.enable_notebook()\n",
    "vis = pyLDAvis.gensim.prepare(lda_model, corpus, id2word)\n",
    "vis"
   ]
  },
  {
   "cell_type": "code",
   "execution_count": null,
   "id": "8e4b2a7d",
   "metadata": {},
   "outputs": [],
   "source": []
  }
 ],
 "metadata": {
  "kernelspec": {
   "display_name": "Python 3 (ipykernel)",
   "language": "python",
   "name": "python3"
  },
  "language_info": {
   "codemirror_mode": {
    "name": "ipython",
    "version": 3
   },
   "file_extension": ".py",
   "mimetype": "text/x-python",
   "name": "python",
   "nbconvert_exporter": "python",
   "pygments_lexer": "ipython3",
   "version": "3.9.7"
  }
 },
 "nbformat": 4,
 "nbformat_minor": 5
}
